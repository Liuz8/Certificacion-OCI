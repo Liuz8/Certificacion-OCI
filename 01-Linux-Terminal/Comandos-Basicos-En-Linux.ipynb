{
 "cells": [
  {
   "cell_type": "markdown",
   "id": "fda6d4cf",
   "metadata": {},
   "source": [
    "# Comandos básicos en Linux"
   ]
  },
  {
   "cell_type": "markdown",
   "id": "bfaa38f7",
   "metadata": {},
   "source": [
    "## Navegación de directorios\n",
    "- `pwd`: muestra el directorio en el que estamos situados.  \n",
    "- `ls`: muestra el contenido del directorio actual.  \n",
    "- `ls Documents/`: muestra el contenido de un directorio en específico.  \n",
    "- `ls -a`: muestra todos los archivos, incluso los ocultos.  \n",
    "- `ls -l`: muestra información de los archivos.  \n",
    "- `ls -al`: combinación de los anteriores.  \n",
    "- `cd Documents/`: cambia de posición al directorio señalado.  \n",
    "- `cd ..`: va al directorio padre. "
   ]
  },
  {
   "cell_type": "markdown",
   "id": "343e1681",
   "metadata": {},
   "source": [
    "## Manejo de archivos y directorios\n",
    "- `touch estudios.py`: crea archivos.  \n",
    "- `mkdir estudios`: crea directorios.  \n",
    "- `mv estudios.py estudios/`: mueve archivos a otro directorio.  \n",
    "- `mv estudios.py recolectando_datos.py`: cambia el nombre del archivo.  \n",
    "- `rm recolectando_datos.py`: elimina el archivo.  \n",
    "- `rm -R estudios/`: elimina el directorio y todo su contenido.  \n",
    "- `cat wordpress.txt`: lee un archivo de texto sin abrir un editor.  \n",
    "- `clear`: limpia la terminal. "
   ]
  },
  {
   "cell_type": "markdown",
   "id": "b52aa215",
   "metadata": {},
   "source": [
    "## Comando `echo`\n",
    "- `echo Hola Linux`: imprime texto en pantalla.  \n",
    "- `echo \"Hola Linux\" > texto.txt`: manda un texto a un archivo `.txt`.  \n",
    "- `echo \"U2B40\" >> mis-musicas.txt`: agrega texto a un archivo existente.  "
   ]
  },
  {
   "cell_type": "markdown",
   "id": "82856d9f",
   "metadata": {},
   "source": [
    "## Consultar ayuda\n",
    "- `man cat`: muestra un manual del comando **cat**.  \n",
    "- `whoami`: muestra el nombre del usuario en Linux."
   ]
  },
  {
   "cell_type": "markdown",
   "id": "72e077d8",
   "metadata": {},
   "source": [
    "## Uso de comodines\n",
    "- `ls -l Curso?.txt`: muestra los archivos que empiezan por **Curso** con un carácter faltante (`?`).  \n",
    "- `cat Curso?.txt`: lee los archivos con el caracter faltante `?`.  \n",
    "- `cat archivo*.txt`: lee todos los archivos que le falten caracteres representados con `*`."
   ]
  },
  {
   "cell_type": "markdown",
   "id": "7239d4ef",
   "metadata": {},
   "source": [
    "## Copiar, mover y renombrar archivos\n",
    "- `cp mensaje.txt bienvenido.txt`: copia el contenido a otro archivo.  \n",
    "- `mv mensaje.txt Bienvenido2.txt`: renombra un archivo.  \n",
    "- `mv bienvenido.txt ./proyectos-php`: mueve archivos a otro directorio.\n",
    "- `Usa esta forma sí quieres mover el archivo directamente` mv /c/Users/Luis/Desktop/archivo.txt /c/Users/Luis/Documents/repositorios-git/Certificacion-OCI/   \n",
    "- `mv bienvenido2.txt ./proyectos-php/bienvenidos-nuevo.txt`: mueve un archivo y a su vez cambia su nombre.  \n",
    "- `cp -R ./proyectos-php/ ./proyectos-c#`: copia el contenido de un directorio a otro. "
   ]
  },
  {
   "cell_type": "markdown",
   "id": "cc99c4b7",
   "metadata": {},
   "source": [
    "## Compresión con ZIP\n",
    "- `zip -r work.zip ./Alura/`: comprime la carpeta **Alura** en un zip.  \n",
    "- `unzip -l work.zip`: muestra el contenido del zip.  \n",
    "- `unzip work.zip`: descomprime el archivo zip.  \n",
    "- `unzip -q work.zip`: descomprime sin mostrar texto en la terminal.  \n",
    "- `zip -rq work.zip ./Alura/`: comprime en modo silencioso."
   ]
  },
  {
   "cell_type": "markdown",
   "id": "49ca317e",
   "metadata": {},
   "source": [
    "## Compresión con TAR\n",
    "- `tar -cz ./Alura > work.tar.gz`: comprime en formato `.tar.gz` (`c`=crear, `z`=zip).  \n",
    "- `tar -xz < work.tar.gz`: descomprime (`x`=extraer, `z`=zip).  \n",
    "- `tar -czf work.tar.gz ./Alura/`: otra forma de comprimir (`f`=file).  \n",
    "- `tar -xzf work.tar.gz`: extracción.  \n",
    "- `tar -vczf work.tar.gz ./Alura/`: comprime y muestra todo lo que comprimió (`v`=verbose).  \n",
    "- `tar -vxzf work.tar.gz`: descomprime mostrando detalles."
   ]
  },
  {
   "cell_type": "markdown",
   "id": "fc1ab7cc",
   "metadata": {},
   "source": [
    "## Fechas y tiempos\n",
    "- `touch bienvenido.txt`: actualiza la hora y fecha del archivo.  \n",
    "- `date \"+%d/%m/%Y\"`: muestra la fecha con el formato `día/mes/año`. "
   ]
  },
  {
   "cell_type": "markdown",
   "id": "89c8c6e3",
   "metadata": {},
   "source": [
    "## Lectura de archivos\n",
    "- `head google.txt`: muestra las primeras líneas de texto del archivo.  \n",
    "- `head -n 5 google.txt`: muestra las primeras 5 líneas.  \n",
    "- `tail google.txt`: muestra las últimas líneas.  \n",
    "- `less google.txt`: permite moverse dentro del archivo."
   ]
  },
  {
   "cell_type": "markdown",
   "id": "2356a7b7",
   "metadata": {},
   "source": [
    "  \n",
    "\n",
    "---\n",
    "\n",
    "# Edición de archivos con **vi**"
   ]
  },
  {
   "cell_type": "markdown",
   "id": "169a57d7",
   "metadata": {},
   "source": [
    "## Comandos básicos\n",
    "- `vi google.txt`: abrir archivo.  \n",
    "- `i`: modo edición (ESC para salir).  \n",
    "- `ESC :w`: guardar.  \n",
    "- `ESC :q`: salir.  \n",
    "- `ESC :q!`: salir sin guardar.  \n",
    "- `x`: borra un carácter.  \n",
    "- `6x`: borra 6 caracteres.  \n",
    "- `dd`: borra líneas.  "
   ]
  },
  {
   "cell_type": "markdown",
   "id": "daed1260",
   "metadata": {},
   "source": [
    "## Navegación en vi\n",
    "- `Shift+G`: ir al final del archivo.  \n",
    "- `1G`: ir a la primera línea.  \n",
    "- `/palabra`: buscar palabra.  \n",
    "  - `n`: siguiente coincidencia.  \n",
    "  - `Shift+n`: coincidencia anterior."
   ]
  },
  {
   "cell_type": "markdown",
   "id": "e4d9a256",
   "metadata": {},
   "source": [
    "## Copiar y pegar en vi\n",
    "- `yy`: copia la línea.  \n",
    "- `p`: pega el contenido.  \n",
    "- `3p`: pega tres veces.  \n",
    "- `3yy`: copia 3 líneas.  \n"
   ]
  }
 ],
 "metadata": {
  "language_info": {
   "name": "python"
  }
 },
 "nbformat": 4,
 "nbformat_minor": 5
}
