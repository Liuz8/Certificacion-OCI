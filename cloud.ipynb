{
 "cells": [
  {
   "cell_type": "markdown",
   "id": "acd2ff2d",
   "metadata": {},
   "source": [
    "# Bloque 1 - Entendiendo Oracle Cloud Infraestructure"
   ]
  },
  {
   "cell_type": "markdown",
   "id": "0b679b98",
   "metadata": {},
   "source": [
    "**``Cloud Computing``: Simplemente es la nube**"
   ]
  },
  {
   "cell_type": "markdown",
   "id": "50067d93",
   "metadata": {},
   "source": [
    "## Modelo de nube"
   ]
  },
  {
   "cell_type": "markdown",
   "id": "10ff959d",
   "metadata": {},
   "source": [
    "Existen diferentes modelos de implementacion de la nube\n",
    "\n",
    "- ``Nube pública``: Servicios disponibles para el público en general a través de Internet.\n",
    "\n",
    "- ``Nube privada``: Servicios dedicados a una organización especifíca\n",
    "\n",
    "- ``Nube híbrida``: Una combinación de nubes públicas y privadas."
   ]
  },
  {
   "cell_type": "markdown",
   "id": "66e2d230",
   "metadata": {},
   "source": [
    "## Arquitectura"
   ]
  },
  {
   "cell_type": "markdown",
   "id": "3b3fafa0",
   "metadata": {},
   "source": [
    "![01](img/01.png)"
   ]
  },
  {
   "cell_type": "markdown",
   "id": "1e416633",
   "metadata": {},
   "source": [
    "- ``Región``: Área geografica localizada, comprendida de una o más Dominios de Disponibilidad\n",
    "\n",
    "- ``Dominios de Disponibilidad(Availabilitu Domains)``: Son o más centros de datos tolerantes a fallas ubicados dentro de una región pero conectados entre sí mediante una red de baja latencia y alto ancho de banda.\n",
    "\n",
    "- ``Dominios de falla(Fault Domains)``: Es una agrupación de hardware e infraestructura dentro de un dominio de disponibilidad, son como centros de datos logicos."
   ]
  },
  {
   "cell_type": "markdown",
   "id": "b9339d4c",
   "metadata": {},
   "source": [
    "![02](img/02.png)"
   ]
  },
  {
   "cell_type": "markdown",
   "id": "ccc82561",
   "metadata": {},
   "source": [
    "**Dominios de disponibilidad**\n",
    "\n",
    "Isolado uno de cada otro, tolerante a fallas poco probables que falle simultaneamente.\n",
    "\n",
    "La infraestructura física no se comparte."
   ]
  },
  {
   "cell_type": "markdown",
   "id": "568716a7",
   "metadata": {},
   "source": [
    "**Dominios de falla**\n",
    "\n",
    "Cada Dominio de Disponibilidad tiene 3 Dominios de fallo. Data center lógico dentro de un Dominio de Disponibilidad."
   ]
  },
  {
   "cell_type": "markdown",
   "id": "84425057",
   "metadata": {},
   "source": [
    "![03](img/03.JPG)"
   ]
  },
  {
   "cell_type": "markdown",
   "id": "09b27511",
   "metadata": {},
   "source": [
    "![04](img/04.png)"
   ]
  },
  {
   "cell_type": "markdown",
   "id": "b493ab4f",
   "metadata": {},
   "source": [
    "### Escogiendo una region\n",
    "\n",
    "- Localización: Elegir una región que este cerca de tus usuarios para tener una baja latencia y un alto desempeño\n",
    "\n",
    "- Residencia de datos y cumplimiento: Muchos paises tienen requisitos estrictos dobre el almacenamiento de datos.\n",
    "\n",
    "- Disponibilidad de servicios: Los nuevos servicios en la nube se ponen a disposición en función de la demanda regional, el cumplimiento normativo, la disponibilidad de recursos y otros factores."
   ]
  },
  {
   "cell_type": "markdown",
   "id": "53efd4bb",
   "metadata": {},
   "source": [
    "## Pregunta sobre introducción a OCI #1"
   ]
  },
  {
   "cell_type": "markdown",
   "id": "51aac8f1",
   "metadata": {},
   "source": [
    "¿Qué concepto hace referencia a estar precavidos contra fallas dentro de un dominio de disponibilidad de OCI?\n",
    "\n",
    "**Dominio de fallas - Fault Domain**\n",
    "Los dominios de falla proporcionan una capacidad para proteger tus aplicaciones e instancias de fallas inesperadas de hardware o interrupciones de red dentro de un Dominio de Disponibilidad. Cada dominio de falla opera en su propio conjunto de hardware físico, por lo tanto, alguna falla que afecte a un dominio de falla no afecta a las instancias en otros dominios de fallo."
   ]
  },
  {
   "cell_type": "markdown",
   "id": "433d1d25",
   "metadata": {},
   "source": [
    "## Pregunta sobre introducción a OCI #2"
   ]
  },
  {
   "cell_type": "markdown",
   "id": "625e7f54",
   "metadata": {},
   "source": [
    "¿Qué afirmación sobre OCI NO es cierta?\n",
    "\n",
    "\n",
    "**Un único dominio de fallo puede estar asociado a múltiples dominios de disponibilidad dentro de una región.**\n",
    "Un dominio de fallo es una subdivisión de un dominio de disponibilidad. Cada dominio de disponibilidad contiene tres dominios de falla. Los dominios de falla permiten que distribuye tus instancias para que no estén en el mismo hardware físico dentro de un único dominio de disponibilidad. Un dominio de fallo no puede estar asociado a múltiples dominios de disponibilidad."
   ]
  },
  {
   "cell_type": "markdown",
   "id": "b9edd26f",
   "metadata": {},
   "source": [
    "## Pregunta sobre introducción a OCI #3"
   ]
  },
  {
   "cell_type": "markdown",
   "id": "99aeedc9",
   "metadata": {},
   "source": [
    "¿Qué servicio de Oracle Cloud Infrastructure NO está diseñado para una solución multicloud (nube múltiple)?\n",
    "\n",
    "\n",
    "**Oracle Roving Edge Infrastructure**\n",
    "\n",
    "Esta es la única opcion que no tiene el nombre de alg{un otro proveedor de nube, y a pesar que no se habló en videos sobre esta tecnología, lo importante es que sepas los nombres de otros proveedores como AWS, AZURE, GCP(Google Cloud Platform).\n",
    "\n",
    "Oracle Roving Edge Infrastructure es un servicio que proporciona un dispositivo portátil y resistente que ejecuta un subconjunto de servicios OCI, diseñado para implementación de campo fuera de un centro de datos tradicional. No es un servicio Diseñado específicamente para la implementación multicloud. Por otro lado, servicios como el Oracle Database Service for Azure y Oracle Interconnect for Azure están diseñados para permitir que Oracle Cloud Infrastructure interactúe con Azure, indicando un enfoque multicloud. Oracle MySQL HeatWave es un servicio de análisis para el servicio de base de datos MySQL que se ejecuta en AWS, pero la gestión de cuentas, la facturación y la medición se hacen a través de OCI."
   ]
  },
  {
   "cell_type": "markdown",
   "id": "a9e59618",
   "metadata": {},
   "source": [
    "## Pregunta sobre introducción a OCI #4"
   ]
  },
  {
   "cell_type": "markdown",
   "id": "42c605ef",
   "metadata": {},
   "source": [
    "Te suscribiste a una región OCI que tiene un dominio de disponibilidad. Deseas implementar una aplicación altamente disponible con dos servidores y una base de datos de 2 nodos. ¿Cómo colocarías los componentes para mantener la alta disponibilidad de la aplicación?\n",
    "\n",
    "**Poner un servidor y un nodo de la base de datos en un dominio de falla, y el segundo servidor y nodo de la base de datos en otro dominio de fallo**\n",
    "\n",
    "En este escenario, distribuir los servidores y nodos de base de datos en diferentes dominios de fallo dentro del mismo dominio de disponibilidad proporcionaría protección contra la falla de un único dominio de falla. Si un dominio de falla deja de estar disponible, el otro permanecería activo, garantizando la alta disponibilidad de la aplicación."
   ]
  },
  {
   "cell_type": "markdown",
   "id": "0bf73e0b",
   "metadata": {},
   "source": [
    "## Pregunta sobre introducción a OCI #5"
   ]
  },
  {
   "cell_type": "markdown",
   "id": "d4e00d70",
   "metadata": {},
   "source": [
    "¿Qué afirmación sobre las regiones y los dominios de disponibilidad es cierta?\n",
    "\n",
    "**Una región OCI tiene uno o más dominios de disponibilidad**\n",
    "\n",
    "Una región OCI está compuesta por uno o más dominios de disponibilidad aislados e interconectados. Cada dominio de disponibilidad es una ubicación física separado dentro de una región. El número de dominios de disponibilidad por región puede variar; algunas regiones de la OCI tienen tres dominios de disponibilidad, mientras que otras un único dominio de disponibilidad."
   ]
  },
  {
   "cell_type": "markdown",
   "id": "efa00fe1",
   "metadata": {},
   "source": [
    "# Bloque 2 - Identity and accesss Management"
   ]
  },
  {
   "cell_type": "markdown",
   "id": "fa1968a0",
   "metadata": {},
   "source": []
  }
 ],
 "metadata": {
  "language_info": {
   "name": "python"
  }
 },
 "nbformat": 4,
 "nbformat_minor": 5
}
