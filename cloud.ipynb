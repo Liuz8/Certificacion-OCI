{
 "cells": [
  {
   "cell_type": "markdown",
   "id": "acd2ff2d",
   "metadata": {},
   "source": [
    "# Bloque 1 - Entendiendo Oracle Cloud Infraestructure"
   ]
  },
  {
   "cell_type": "markdown",
   "id": "0b679b98",
   "metadata": {},
   "source": [
    "**``Cloud Computing``: Simplemente es la nube**"
   ]
  },
  {
   "cell_type": "markdown",
   "id": "50067d93",
   "metadata": {},
   "source": [
    "## Modelo de nube"
   ]
  },
  {
   "cell_type": "markdown",
   "id": "10ff959d",
   "metadata": {},
   "source": [
    "Existen diferentes modelos de implementacion de la nube\n",
    "\n",
    "- ``Nube pública``: Servicios disponibles para el público en general a través de Internet.\n",
    "\n",
    "- ``Nube privada``: Servicios dedicados a una organización especifíca\n",
    "\n",
    "- ``Nube híbrida``: Una combinación de nubes públicas y privadas."
   ]
  },
  {
   "cell_type": "markdown",
   "id": "66e2d230",
   "metadata": {},
   "source": [
    "## Arquitectura"
   ]
  },
  {
   "cell_type": "markdown",
   "id": "3b3fafa0",
   "metadata": {},
   "source": [
    "![01](img/01.png)"
   ]
  },
  {
   "cell_type": "markdown",
   "id": "1e416633",
   "metadata": {},
   "source": [
    "- ``Región``: Área geografica localizada, comprendida de una o más Dominios de Disponibilidad\n",
    "\n",
    "- ``Dominios de Disponibilidad(Availabilitu Domains)``: Son o más centros de datos tolerantes a fallas ubicados dentro de una región pero conectados entre sí mediante una red de baja latencia y alto ancho de banda.\n",
    "\n",
    "- ``Dominios de falla(Fault Domains)``: Es una agrupación de hardware e infraestructura dentro de un dominio de disponibilidad, son como centros de datos logicos."
   ]
  },
  {
   "cell_type": "markdown",
   "id": "b9339d4c",
   "metadata": {},
   "source": [
    "![02](img/02.png)"
   ]
  },
  {
   "cell_type": "markdown",
   "id": "ccc82561",
   "metadata": {},
   "source": [
    "**Dominios de disponibilidad**\n",
    "\n",
    "Isolado uno de cada otro, tolerante a fallas poco probables que falle simultaneamente.\n",
    "\n",
    "La infraestructura física no se comparte."
   ]
  },
  {
   "cell_type": "markdown",
   "id": "568716a7",
   "metadata": {},
   "source": [
    "**Dominios de falla**\n",
    "\n",
    "Cada Dominio de Disponibilidad tiene 3 Dominios de fallo. Data center lógico dentro de un Dominio de Disponibilidad."
   ]
  },
  {
   "cell_type": "markdown",
   "id": "84425057",
   "metadata": {},
   "source": [
    "![03](img/03.JPG)"
   ]
  },
  {
   "cell_type": "markdown",
   "id": "09b27511",
   "metadata": {},
   "source": [
    "![04](img/04.png)"
   ]
  },
  {
   "cell_type": "markdown",
   "id": "b493ab4f",
   "metadata": {},
   "source": [
    "### Escogiendo una region\n",
    "\n",
    "- Localización: Elegir una región que este cerca de tus usuarios para tener una baja latencia y un alto desempeño\n",
    "\n",
    "- Residencia de datos y cumplimiento: Muchos paises tienen requisitos estrictos dobre el almacenamiento de datos.\n",
    "\n",
    "- Disponibilidad de servicios: Los nuevos servicios en la nube se ponen a disposición en función de la demanda regional, el cumplimiento normativo, la disponibilidad de recursos y otros factores."
   ]
  },
  {
   "cell_type": "markdown",
   "id": "53efd4bb",
   "metadata": {},
   "source": [
    "## Pregunta sobre introducción a OCI #1"
   ]
  },
  {
   "cell_type": "markdown",
   "id": "51aac8f1",
   "metadata": {},
   "source": [
    "¿Qué concepto hace referencia a estar precavidos contra fallas dentro de un dominio de disponibilidad de OCI?\n",
    "\n",
    "**Dominio de fallas - Fault Domain**\n",
    "Los dominios de falla proporcionan una capacidad para proteger tus aplicaciones e instancias de fallas inesperadas de hardware o interrupciones de red dentro de un Dominio de Disponibilidad. Cada dominio de falla opera en su propio conjunto de hardware físico, por lo tanto, alguna falla que afecte a un dominio de falla no afecta a las instancias en otros dominios de fallo."
   ]
  },
  {
   "cell_type": "markdown",
   "id": "433d1d25",
   "metadata": {},
   "source": [
    "## Pregunta sobre introducción a OCI #2"
   ]
  },
  {
   "cell_type": "markdown",
   "id": "625e7f54",
   "metadata": {},
   "source": [
    "¿Qué afirmación sobre OCI NO es cierta?\n",
    "\n",
    "\n",
    "**Un único dominio de fallo puede estar asociado a múltiples dominios de disponibilidad dentro de una región.**\n",
    "Un dominio de fallo es una subdivisión de un dominio de disponibilidad. Cada dominio de disponibilidad contiene tres dominios de falla. Los dominios de falla permiten que distribuye tus instancias para que no estén en el mismo hardware físico dentro de un único dominio de disponibilidad. Un dominio de fallo no puede estar asociado a múltiples dominios de disponibilidad."
   ]
  },
  {
   "cell_type": "markdown",
   "id": "b9edd26f",
   "metadata": {},
   "source": [
    "## Pregunta sobre introducción a OCI #3"
   ]
  },
  {
   "cell_type": "markdown",
   "id": "99aeedc9",
   "metadata": {},
   "source": [
    "¿Qué servicio de Oracle Cloud Infrastructure NO está diseñado para una solución multicloud (nube múltiple)?\n",
    "\n",
    "\n",
    "**Oracle Roving Edge Infrastructure**\n",
    "\n",
    "Esta es la única opcion que no tiene el nombre de alg{un otro proveedor de nube, y a pesar que no se habló en videos sobre esta tecnología, lo importante es que sepas los nombres de otros proveedores como AWS, AZURE, GCP(Google Cloud Platform).\n",
    "\n",
    "Oracle Roving Edge Infrastructure es un servicio que proporciona un dispositivo portátil y resistente que ejecuta un subconjunto de servicios OCI, diseñado para implementación de campo fuera de un centro de datos tradicional. No es un servicio Diseñado específicamente para la implementación multicloud. Por otro lado, servicios como el Oracle Database Service for Azure y Oracle Interconnect for Azure están diseñados para permitir que Oracle Cloud Infrastructure interactúe con Azure, indicando un enfoque multicloud. Oracle MySQL HeatWave es un servicio de análisis para el servicio de base de datos MySQL que se ejecuta en AWS, pero la gestión de cuentas, la facturación y la medición se hacen a través de OCI."
   ]
  },
  {
   "cell_type": "markdown",
   "id": "a9e59618",
   "metadata": {},
   "source": [
    "## Pregunta sobre introducción a OCI #4"
   ]
  },
  {
   "cell_type": "markdown",
   "id": "42c605ef",
   "metadata": {},
   "source": [
    "Te suscribiste a una región OCI que tiene un dominio de disponibilidad. Deseas implementar una aplicación altamente disponible con dos servidores y una base de datos de 2 nodos. ¿Cómo colocarías los componentes para mantener la alta disponibilidad de la aplicación?\n",
    "\n",
    "**Poner un servidor y un nodo de la base de datos en un dominio de falla, y el segundo servidor y nodo de la base de datos en otro dominio de fallo**\n",
    "\n",
    "En este escenario, distribuir los servidores y nodos de base de datos en diferentes dominios de fallo dentro del mismo dominio de disponibilidad proporcionaría protección contra la falla de un único dominio de falla. Si un dominio de falla deja de estar disponible, el otro permanecería activo, garantizando la alta disponibilidad de la aplicación."
   ]
  },
  {
   "cell_type": "markdown",
   "id": "0bf73e0b",
   "metadata": {},
   "source": [
    "## Pregunta sobre introducción a OCI #5"
   ]
  },
  {
   "cell_type": "markdown",
   "id": "d4e00d70",
   "metadata": {},
   "source": [
    "¿Qué afirmación sobre las regiones y los dominios de disponibilidad es cierta?\n",
    "\n",
    "**Una región OCI tiene uno o más dominios de disponibilidad**\n",
    "\n",
    "Una región OCI está compuesta por uno o más dominios de disponibilidad aislados e interconectados. Cada dominio de disponibilidad es una ubicación física separado dentro de una región. El número de dominios de disponibilidad por región puede variar; algunas regiones de la OCI tienen tres dominios de disponibilidad, mientras que otras un único dominio de disponibilidad."
   ]
  },
  {
   "cell_type": "markdown",
   "id": "efa00fe1",
   "metadata": {},
   "source": [
    "# Bloque 2 - Identity and accesss Management"
   ]
  },
  {
   "cell_type": "markdown",
   "id": "fa1968a0",
   "metadata": {},
   "source": [
    "## IAM"
   ]
  },
  {
   "cell_type": "markdown",
   "id": "d67a535b",
   "metadata": {},
   "source": [
    "**Identity and Access Management** - Identidad y Manejo de Accesos\n",
    "\n",
    "- **Fine-grained Access Control** - Control de Acceso Detallado\n",
    "\n",
    "- **Role Based Access Control RBAC** - Cntrol de Accesso Basado en Roles"
   ]
  },
  {
   "cell_type": "markdown",
   "id": "0825af89",
   "metadata": {},
   "source": [
    "## Componentes principales"
   ]
  },
  {
   "cell_type": "markdown",
   "id": "3a13d3a7",
   "metadata": {},
   "source": [
    "- `Comportamientos` (Comportaments)\n",
    "- `Usuarios` (Users)\n",
    "- `Grupos` (Groups)\n",
    "- `Políticas` (Policies)\n",
    "- `Dominio` (Tenancy) - Cuenta principal\n",
    "- `Llaves de acceso` (Tokens)"
   ]
  },
  {
   "cell_type": "markdown",
   "id": "d6b117a9",
   "metadata": {},
   "source": [
    "- `Federation` Es la capacidad de acceder con otras cuentas ed otras plataformas\n",
    "\n",
    "- `Principals` Es tener 2 computadoras y tener comunicacion entre ambas con ciertos roles"
   ]
  },
  {
   "cell_type": "markdown",
   "id": "23ff574b",
   "metadata": {},
   "source": [
    "![05](img/05.png)"
   ]
  },
  {
   "cell_type": "markdown",
   "id": "193913d6",
   "metadata": {},
   "source": [
    "* **Block Storage**: Disco virtual para guardar datos, como si fuera un disco duro.\n",
    "\n",
    "* **Object Storage**: Guarda archivos como fotos, videos o documentos en la nube.\n",
    "\n",
    "* **File Storage**: Comparte carpetas y archivos en red, como un servidor de archivos.\n",
    "\n",
    "* **Storage Gateway**: Conecta tu almacenamiento local con la nube.\n",
    "\n",
    "* **Buckets**: Carpeta donde se guardan archivos en *Object Storage*.\n",
    "\n",
    "* **Autonomous Database**: Base de datos que se administra sola (seguridad, parches, respaldo).\n",
    "\n",
    "* **Database System**: Base de datos en la nube que administras tú mismo.\n",
    "\n",
    "* **Virtual Machine (VM)**: Computadora virtual en la nube.\n",
    "\n",
    "* **Virtual Cloud Network (VCN)**: Red privada dentro de la nube.\n",
    "\n",
    "* **Load Balancer**: Reparte tráfico entre varios servidores para que no se saturen.\n",
    "\n",
    "* **Containers**: Paquetes ligeros que ejecutan aplicaciones de forma rápida y aislada.\n",
    "\n",
    "* **Container Engine for Kubernetes (OKE)**: Servicio para administrar contenedores con Kubernetes.\n",
    "\n",
    "* **Service Gateway**: Permite conectar tus recursos a servicios de Oracle sin pasar por internet.\n",
    "\n",
    "* **Internet Gateway**: Da acceso a internet a tu red en la nube.\n",
    "\n",
    "* **Autoscaling**: Ajusta automáticamente el número de recursos según la demanda.\n",
    "\n",
    "* **Instance Pools**: Grupo de máquinas virtuales configuradas igual para escalar fácilmente.\n",
    "\n",
    "* **Dynamic Routing Gateway (DRG)**: Conecta tu red local con la red de la nube.\n",
    "\n",
    "* **Route Table**: Reglas que indican por dónde viaja el tráfico de red.\n",
    "\n",
    "* **Functions**: Ejecuta código sin servidores (solo cuando se necesita).\n",
    "\n",
    "* **Container Registry**: Almacén seguro de imágenes de contenedores.\n",
    "\n",
    "* **Security Lists**: Reglas de seguridad que controlan qué tráfico entra y sale de tu red."
   ]
  },
  {
   "cell_type": "markdown",
   "id": "3ee09a64",
   "metadata": {},
   "source": [
    "## Compartment - Compartimiento"
   ]
  },
  {
   "cell_type": "markdown",
   "id": "7b181db4",
   "metadata": {},
   "source": [
    "- Colección de recursos relacionados\n",
    "\n",
    "- Isolados con control de acceso\n",
    "\n",
    "- El compartimento root \"principal\" puede manejar todos los recursos de OCI\n",
    "\n",
    "- Se pueden anidar hasta 6 niveles de compartimentos\n",
    "\n",
    "- Recomendación: Crea compartimentos dedicados para isolar recursos"
   ]
  },
  {
   "cell_type": "markdown",
   "id": "166ecbcb",
   "metadata": {},
   "source": [
    "![06](img/06.JPG)"
   ]
  },
  {
   "cell_type": "markdown",
   "id": "6c488262",
   "metadata": {},
   "source": [
    "## Identity Domains - Dominios de identidad"
   ]
  },
  {
   "cell_type": "markdown",
   "id": "394cb95d",
   "metadata": {},
   "source": [
    "Cntenedor para usuarios y grupos, representa usuarios en OCI asi como sus configuraciones y ajustes de seguridad asociados"
   ]
  },
  {
   "cell_type": "markdown",
   "id": "ec6269df",
   "metadata": {},
   "source": [
    "![07](img/07.JPG)"
   ]
  },
  {
   "cell_type": "markdown",
   "id": "61c76993",
   "metadata": {},
   "source": [
    "## Oracle Cloud ID - OCID"
   ]
  },
  {
   "cell_type": "markdown",
   "id": "b65d8eab",
   "metadata": {},
   "source": [
    "- ocid1 - Versión OCID\n",
    "\n",
    "- REALM - Configuración de regiones que comparten las mismas características comercial/gobierno\n",
    "\n",
    "- RESOURCE TYPE: tipo de recurso (instancia, volumen, vcn, subnet, user, group\n",
    "\n",
    "- UNIQUE ID: ID único creador para el recurso"
   ]
  },
  {
   "cell_type": "markdown",
   "id": "072d0ab7",
   "metadata": {},
   "source": [
    "![08](img/08.JPG)"
   ]
  },
  {
   "cell_type": "markdown",
   "id": "6c707b07",
   "metadata": {},
   "source": [
    "## Policies -Politicas"
   ]
  },
  {
   "cell_type": "markdown",
   "id": "504a1286",
   "metadata": {},
   "source": [
    "``Póliticas`` - Definiciones en formato entendible para definir los permisos granulares\n",
    "\n",
    "- `Allow group`: permitir al grupo\n",
    "- `<group_name>`: nombre de grupo\n",
    "- `to`: conexion para\n",
    "- `<verb>`: lo que va a poedr hacer\n",
    "- `<resource-type>`: el tipo de recurso\n",
    "- `in`: en donde\n",
    "- `tenancy`: el lugar en este caso en tenancy la cuenta principal\n",
    "\n",
    "**Nota**: Las políticas se puedes hacer desde tenancy o desde el compartimento."
   ]
  },
  {
   "cell_type": "markdown",
   "id": "85bdcfcf",
   "metadata": {},
   "source": [
    "![09](img/09.JPG)"
   ]
  },
  {
   "cell_type": "markdown",
   "id": "a27600fc",
   "metadata": {},
   "source": [
    "![10](img/10.JPG)"
   ]
  },
  {
   "cell_type": "markdown",
   "id": "fbc5b6e6",
   "metadata": {},
   "source": [
    "## AuthN y AuthZ"
   ]
  },
  {
   "cell_type": "markdown",
   "id": "eed2e2cd",
   "metadata": {},
   "source": [
    "**AuthN** - Autenticación\n",
    "\n",
    "¿Quién eres?\n",
    "\n",
    "**AuthZ** - Autorización\n",
    "\n",
    "¿Qué puedes hacer?"
   ]
  },
  {
   "cell_type": "markdown",
   "id": "04d57a06",
   "metadata": {},
   "source": [
    "## Configuración Tenancy - Cuenta"
   ]
  },
  {
   "cell_type": "markdown",
   "id": "32ee5dbc",
   "metadata": {},
   "source": [
    "No utilizar la cuenta de administración de Tenancy para las operaciones del día a día\n",
    "\n",
    "Crear compartimientos dedicados para isolar recursos\n",
    "\n",
    "Utilizar Multi-Factor Authentication MFA"
   ]
  },
  {
   "cell_type": "markdown",
   "id": "629f9cc9",
   "metadata": {},
   "source": [
    "![11](img/11.JPG)"
   ]
  },
  {
   "cell_type": "markdown",
   "id": "ab69f8e3",
   "metadata": {},
   "source": [
    "## acceso de Tenancy desde la plataforma"
   ]
  },
  {
   "cell_type": "markdown",
   "id": "47889eca",
   "metadata": {},
   "source": [
    "![12](img/12.JPG)"
   ]
  },
  {
   "cell_type": "markdown",
   "id": "3b2d39ff",
   "metadata": {},
   "source": [
    "## Domains & Policies & Compartments"
   ]
  },
  {
   "cell_type": "markdown",
   "id": "fc8bd1ce",
   "metadata": {},
   "source": [
    "![13](img/13.JPG)"
   ]
  },
  {
   "cell_type": "markdown",
   "id": "42daef0c",
   "metadata": {},
   "source": [
    "## creación de Compartment"
   ]
  },
  {
   "cell_type": "markdown",
   "id": "b20600e7",
   "metadata": {},
   "source": [
    "![14](img/14.JPG)"
   ]
  },
  {
   "cell_type": "markdown",
   "id": "296f120b",
   "metadata": {},
   "source": [
    "## Creación de Politícas"
   ]
  },
  {
   "cell_type": "markdown",
   "id": "d6e490b8",
   "metadata": {},
   "source": [
    "![15](img/15.JPG)"
   ]
  },
  {
   "cell_type": "markdown",
   "id": "f217a889",
   "metadata": {},
   "source": [
    "## Dentro del Compartment"
   ]
  },
  {
   "cell_type": "markdown",
   "id": "cd23ced9",
   "metadata": {},
   "source": [
    "![16](img/16.JPG)"
   ]
  },
  {
   "cell_type": "markdown",
   "id": "542b3db1",
   "metadata": {},
   "source": [
    "## Cambia el compartment desde identidad"
   ]
  },
  {
   "cell_type": "markdown",
   "id": "a6d4c81d",
   "metadata": {},
   "source": [
    "![17](img/17.JPG)"
   ]
  },
  {
   "cell_type": "markdown",
   "id": "2776dd9b",
   "metadata": {},
   "source": [
    "## Creacion de Dominio"
   ]
  },
  {
   "cell_type": "markdown",
   "id": "9151cb40",
   "metadata": {},
   "source": [
    "![18](img/18.JPG)"
   ]
  },
  {
   "cell_type": "markdown",
   "id": "5753e52d",
   "metadata": {},
   "source": [
    "## Crear usuarios desde el dominio"
   ]
  },
  {
   "cell_type": "markdown",
   "id": "96284a43",
   "metadata": {},
   "source": [
    "![19](img/19.JPG)"
   ]
  },
  {
   "cell_type": "markdown",
   "id": "4fb9cbc2",
   "metadata": {},
   "source": [
    "## Preguntas"
   ]
  },
  {
   "cell_type": "markdown",
   "id": "af9f9f66",
   "metadata": {},
   "source": [
    "### Pregunta sobre sobre Identity and Access Management #1"
   ]
  },
  {
   "cell_type": "markdown",
   "id": "73a620c2",
   "metadata": {},
   "source": [
    "¿Qué componente de IAM - Gestión de Identidad y Acceso ayuda a organizar a varios usuarios en un equipo?\n",
    "\n",
    "Grupos\n",
    "\n",
    "\n",
    "Los grupos en OCI Identity and Access Management (IAM) se utilizan para organizar varios usuarios en un equipo, facilitando la gestión de permisos y accesos."
   ]
  },
  {
   "cell_type": "markdown",
   "id": "a4fff8be",
   "metadata": {},
   "source": [
    "### Pregunta sobre sobre Identity and Access Management #2"
   ]
  },
  {
   "cell_type": "markdown",
   "id": "d9fab6d2",
   "metadata": {},
   "source": [
    "¿Cuál afirmación sobre OCI Identity and Access Management es verdadera?\n",
    "\n",
    "\n",
    "Permite controlar el acceso para un grupo de usuarios\n",
    "\n",
    "\n",
    "OCI Identity and Access Management (IAM) permite controlar el acceso para un grupo de usuarios, facilitando la gestión de permisos y accesos a los recursos en la nube."
   ]
  },
  {
   "cell_type": "markdown",
   "id": "d8ac53cf",
   "metadata": {},
   "source": [
    "### Pregunta sobre sobre Identity and Access Management #3"
   ]
  },
  {
   "cell_type": "markdown",
   "id": "4ff2e7ee",
   "metadata": {},
   "source": [
    "¿Qué afirmación sobre los compartimientos de la OCI NO es cierta?\n",
    "\n",
    "Es una práctica recomendada crear todos tus recursos en el compartimento raíz - root\n",
    "\n",
    "\n",
    "No es una práctica recomendada crear todos los recursos en el compartimento raíz. Los compartimentos se utilizan para organizar y aislar recursos, proporcionando un nivel más refinado de control de acceso."
   ]
  },
  {
   "cell_type": "markdown",
   "id": "be31c62e",
   "metadata": {},
   "source": [
    "### Pregunta sobre sobre Identity and Access Management #4"
   ]
  },
  {
   "cell_type": "markdown",
   "id": "8f301ee5",
   "metadata": {},
   "source": [
    "¿Cuál NO es un componente de OCI Identity and Access Management?\n",
    "\n",
    "Grupo de Seguridad de Red\n",
    "\n",
    "\n",
    "El grupo de seguridad de red es un componente de OCI Networking, no de IAM. El IAM en la OCI consiste en Principales, Políticas, Federación y algunos otros componentes."
   ]
  },
  {
   "cell_type": "markdown",
   "id": "bbc39d1d",
   "metadata": {},
   "source": [
    "### ¿Cómo se identifica un recurso en OCI?"
   ]
  },
  {
   "cell_type": "markdown",
   "id": "d6fbda82",
   "metadata": {},
   "source": [
    "Con OCID\n",
    "\n",
    "\n",
    "Cada recurso en OCI está identificado por un Oracle Cloud Identifier (OCID) único, que se utiliza para identificar el recurso."
   ]
  },
  {
   "cell_type": "markdown",
   "id": "c6cee06f",
   "metadata": {},
   "source": [
    "# Bloque 3 - Networking"
   ]
  },
  {
   "cell_type": "markdown",
   "id": "33eb0add",
   "metadata": {},
   "source": [
    "## VCN - Virtual Cloud Network (Red Virtual de la Nube)"
   ]
  },
  {
   "cell_type": "markdown",
   "id": "697b09b5",
   "metadata": {},
   "source": [
    "- Servicio por región\n",
    "\n",
    "- Provee alta disponibilidad\n",
    "\n",
    "- Comunicación segura"
   ]
  },
  {
   "cell_type": "markdown",
   "id": "62772f69",
   "metadata": {},
   "source": [
    "![20](img/20.JPG)"
   ]
  },
  {
   "cell_type": "markdown",
   "id": "3fbb868e",
   "metadata": {},
   "source": [
    "## CIDR"
   ]
  },
  {
   "cell_type": "markdown",
   "id": "cd7280bf",
   "metadata": {},
   "source": [
    "**CIDR** - Classless Inter-Domain Roting Enrutamiento entre dominios sin clase\n",
    "\n",
    "- ``VCN`` - 10.0.0.0/16\n",
    "- ``Public Subnet`` - 10.0.1.0/24\n",
    "- ``Private Subnet`` - 10.0.2.0/24\n",
    "- ``... Subnet`` - 10.0.x.x/24"
   ]
  },
  {
   "cell_type": "markdown",
   "id": "c04113db",
   "metadata": {},
   "source": [
    "![21](img/21.JPG)"
   ]
  },
  {
   "cell_type": "markdown",
   "id": "cf46d3e0",
   "metadata": {},
   "source": [
    "- `VCN`: - Virtual Cloud Network\n",
    "- `Public Subnet 10.0.1.0/24`: Esta red se utiliza para conectarse a la red del exterior\n",
    "- `Internet Gateway`: Comunicación Bidireccional - Se conecta hacia internet, sale y entra\n",
    "- `Private subnet 10.0.2.0/24`: \n",
    "- `NAT Gateway`: Es un canal para tener comunicación en un solo sentido, nosotros podemos hacer peticiones hacía internet, pero internetno puedo hacer peticiones hacía nostros\n",
    "- `outband`: trafico de salida\n",
    "- `Inbound`: trafico que sale de mi red\n",
    "- `Servicie Gateway`: Nos permite tener comunicacion en servicios internos de oracle cloud infrestructure"
   ]
  },
  {
   "cell_type": "markdown",
   "id": "767ed8e9",
   "metadata": {},
   "source": [
    "![22](img/22.JPG)"
   ]
  },
  {
   "cell_type": "markdown",
   "id": "828d3ce3",
   "metadata": {},
   "source": [
    "- `Dynamic Routing Gateway`: la idea es tener otro tipo de comunicacion sin internet, se utiliza el sisteme On-Premises (servidores propios) utilizando herramientas como e VPN o FastConnect"
   ]
  },
  {
   "cell_type": "markdown",
   "id": "c33e38af",
   "metadata": {},
   "source": [
    "![23](img/23.JPG)"
   ]
  },
  {
   "cell_type": "markdown",
   "id": "b12673fd",
   "metadata": {},
   "source": [
    "## VCN Wiward - Virtual Cloud Network"
   ]
  },
  {
   "cell_type": "markdown",
   "id": "8dd492b1",
   "metadata": {},
   "source": [
    "Te crea la estructura básica de una VCN"
   ]
  },
  {
   "cell_type": "markdown",
   "id": "0dc6e088",
   "metadata": {},
   "source": [
    "## Resumen de VCN"
   ]
  },
  {
   "cell_type": "markdown",
   "id": "6c6ca8fa",
   "metadata": {},
   "source": [
    "- `Internet Gateway`: Comunicacion bidireccional entre la VCN e internet\n",
    "- `Service Gateway`: Acceso desde la VCN paraservidios publicos de Orace\n",
    "- `NAT Gateway`: Comunicacion de una sola direccion entre la VCN e internet\n",
    "- `Dynamic Routing Gateway`: Acceso desde la VCN a otros destinos ademos de internet"
   ]
  },
  {
   "cell_type": "markdown",
   "id": "f3885965",
   "metadata": {},
   "source": [
    "## Rout Table - Tabla de rutas"
   ]
  },
  {
   "cell_type": "markdown",
   "id": "1eab8444",
   "metadata": {},
   "source": [
    "Es para tener una lista para saber que es lo que va a pasar cuando queramos enviar o recibir datos fuenra de nuestra vcn"
   ]
  },
  {
   "cell_type": "markdown",
   "id": "91388821",
   "metadata": {},
   "source": [
    "Route target es elelemento en donde llegarán las peticiones de internet\n",
    "\n",
    "NATE Gateway es el intermediario que recibe la solicitud antes de que llegue a su destino final\n",
    "\n",
    "Dynamic Routing Gateway funciona con el mismo proposito que NATE Gateway"
   ]
  },
  {
   "cell_type": "markdown",
   "id": "87d0dd0f",
   "metadata": {},
   "source": [
    "## Peering - Hacia donde vas"
   ]
  },
  {
   "cell_type": "markdown",
   "id": "80c13ebf",
   "metadata": {},
   "source": [
    "Claro 👍\n",
    "\n",
    "En **Oracle Cloud**, el **VCN Peering** sirve para **conectar dos redes virtuales (VCN)** de forma privada y segura, **sin usar Internet**.\n",
    "\n",
    "📌 ¿Para qué se usa?\n",
    "\n",
    "* Para que los recursos (VMs, bases de datos, etc.) en un VCN puedan comunicarse con recursos en otro VCN.\n",
    "* Es útil cuando tienes aplicaciones divididas en distintas redes, pero necesitan hablar entre sí.\n",
    "* Se puede usar dentro de la **misma región** (*Local Peering Gateway*) o entre **regiones diferentes** (*Remote Peering Gateway*).\n",
    "\n",
    "👉 En resumen: **Peering = puente privado entre redes VCN**.\n",
    "\n",
    "¿Quieres que te haga un **ejemplo práctico sencillo** de cómo se usaría en un escenario real?\n"
   ]
  },
  {
   "cell_type": "markdown",
   "id": "95dbc3f9",
   "metadata": {},
   "source": [
    "## Diferencia entre Peering y Route Table"
   ]
  },
  {
   "cell_type": "markdown",
   "id": "1a330c4c",
   "metadata": {},
   "source": [
    "Buena pregunta 👌\n",
    "\n",
    "No es lo mismo:\n",
    "\n",
    "* **VCN Peering**:\n",
    "  🔹 Conecta **dos redes (VCNs) distintas** para que puedan comunicarse entre sí.\n",
    "  🔹 Es como tender un **puente** entre dos barrios.\n",
    "\n",
    "* **Route Table**:\n",
    "  🔹 Define **por dónde viaja el tráfico dentro de un VCN** o hacia afuera (por ejemplo: internet, otro VCN, tu red local).\n",
    "  🔹 Es como un **mapa de calles** que indica la ruta a seguir.\n",
    "\n",
    "👉 Diferencia clave:\n",
    "\n",
    "* **Peering** crea la conexión entre redes.\n",
    "* **Route Table** decide **cómo** se mueven los datos por esas conexiones."
   ]
  },
  {
   "cell_type": "markdown",
   "id": "690387a0",
   "metadata": {},
   "source": [
    "Te lo explico simple, Luis 👇\n",
    "\n",
    "El **Dynamic Routing Gateway (DRG v2)** en Oracle Cloud sirve para **conectar tu red en la nube (VCN)** con:\n",
    "\n",
    "* Tu **red local (on-premise)** a través de VPN o conexión dedicada (FastConnect).\n",
    "* **Otras VCNs** dentro o fuera de la región, de manera centralizada.\n",
    "\n",
    "🔹 La diferencia con la versión anterior (**DRG v1**) es que **DRG v2 es más flexible y modular**:\n",
    "\n",
    "* Puedes crear **conexiones múltiples** (VPN, FastConnect, VCNs) en un mismo DRG.\n",
    "* Maneja el enrutamiento de manera **dinámica y centralizada**.\n",
    "* Facilita el **hub-and-spoke** (un DRG como centro que conecta varias redes).\n",
    "\n",
    "👉 En resumen:\n",
    "El **DRG v2** es como un **enrutador avanzado en la nube** que conecta tu red de Oracle con otras redes (internas o externas) de forma segura y dinámica."
   ]
  },
  {
   "cell_type": "markdown",
   "id": "8e5ff1ad",
   "metadata": {},
   "source": [
    "## **DRG v1 vs DRG v2**"
   ]
  },
  {
   "cell_type": "markdown",
   "id": "b21eb51a",
   "metadata": {},
   "source": [
    "**comparación clara y corta entre DRG v1 y DRG v2 en Oracle Cloud**:\n",
    "\n",
    "---\n",
    "\n",
    "### 🔹 **DRG v1**\n",
    "\n",
    "* Conecta un **VCN con tu red local** (VPN o FastConnect).\n",
    "* Enrutamiento más **limitado** y rígido.\n",
    "* No permite conectar varios VCNs entre sí fácilmente.\n",
    "* Pensado solo para **punto a punto** (VCN ↔ on-premise).\n",
    "\n",
    "---\n",
    "\n",
    "### 🔹 **DRG v2**\n",
    "\n",
    "* Conecta **varios VCNs**, tu red local y otras regiones en un solo DRG.\n",
    "* Enrutamiento **dinámico y centralizado** (más flexible).\n",
    "* Permite crear topologías tipo **hub-and-spoke** (un DRG central conectando varias redes).\n",
    "* Escalable y más fácil de administrar.\n",
    "\n",
    "---\n",
    "\n",
    "👉 En resumen:\n",
    "\n",
    "* **DRG v1 = conexión simple** (VCN ↔ local).\n",
    "* **DRG v2 = enrutador avanzado** para conectar **múltiples redes** (VCNs, on-premise, regiones)."
   ]
  },
  {
   "cell_type": "markdown",
   "id": "901aacf7",
   "metadata": {},
   "source": []
  }
 ],
 "metadata": {
  "language_info": {
   "name": "python"
  }
 },
 "nbformat": 4,
 "nbformat_minor": 5
}
