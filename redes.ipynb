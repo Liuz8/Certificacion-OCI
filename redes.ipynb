{
 "cells": [
  {
   "cell_type": "markdown",
   "id": "ce09363c",
   "metadata": {},
   "source": [
    "# Bloque 1"
   ]
  },
  {
   "cell_type": "markdown",
   "id": "bb2eaa1c",
   "metadata": {},
   "source": [
    "## Protocolo ICMP"
   ]
  },
  {
   "cell_type": "markdown",
   "id": "fba92c33",
   "metadata": {},
   "source": [
    "El comando `ping` en **CMD** (Command Prompt) utiliza el **protocolo ICMP (Internet Control Message Protocol)**, específicamente los **mensajes ICMP Echo Request y Echo Reply**.\n",
    "\n",
    "* Cuando ejecutas `ping <dirección>`:\n",
    "\n",
    "  1. Tu computadora envía un **Echo Request** al host de destino.\n",
    "  2. Si el host está activo y disponible, responde con un **Echo Reply**.\n",
    "* Esto permite verificar **conectividad de red**, medir **tiempo de respuesta** y detectar **pérdida de paquetes**.\n",
    "\n",
    "⚠️ Nota: ICMP no es un protocolo de transporte como TCP o UDP; es un protocolo de **capa de red** diseñado para enviar mensajes de control y diagnóstico en la red."
   ]
  },
  {
   "cell_type": "markdown",
   "id": "c1ea69e0",
   "metadata": {},
   "source": [
    "## TTL"
   ]
  },
  {
   "cell_type": "markdown",
   "id": "0f9f1216",
   "metadata": {},
   "source": [
    "En pocas palabras, el **TTL (Time To Live)** indica **cuántos saltos (routers) puede atravesar un paquete antes de ser descartado**.\n",
    "\n",
    "* Cada vez que el paquete pasa por un router, **TTL se decrementa en 1**.\n",
    "* Si llega a 0, el paquete se **descarta** y no llega al destino.\n",
    "* En `tracert`, el TTL te ayuda a **ver el número de saltos hasta cada nodo**.\n",
    "\n",
    "Básicamente, **mide la “vida” del paquete en la red** y ayuda a rastrear rutas."
   ]
  },
  {
   "cell_type": "markdown",
   "id": "b8457ec6",
   "metadata": {},
   "source": [
    "## comando ping"
   ]
  },
  {
   "cell_type": "markdown",
   "id": "e1f0fb05",
   "metadata": {},
   "source": [
    "``ping www.mercadolibre.com``: este comando sirve para ver la conexion desde mi computadora a la pagina a buscar"
   ]
  },
  {
   "cell_type": "markdown",
   "id": "3f2e7313",
   "metadata": {},
   "source": [
    "# comando tracer"
   ]
  },
  {
   "cell_type": "markdown",
   "id": "05d0d1e5",
   "metadata": {},
   "source": [
    "``tracert -d www.mercadolibre.com``: sirve para rastrear la ruta que siguen los paquetes desde tu computadora hasta el servidor de www.mercadolibre.com, mostrando cada salto (router) intermedio y el tiempo que tarda en llegar a cada uno.\n",
    "\n",
    "Cuando en un tracert ves un asterisco (*) y el mensaje “tiempo límite agotado” significa que ese nodo no respondió al paquete ICMP dentro del tiempo máximo establecido.\n",
    "\n",
    "Las razones más comunes son:\n",
    "\n",
    "- El router bloquea los paquetes ICMP (muy común por seguridad).\n",
    "\n",
    "- El router está saturado o muy ocupado y no responde a tiempo.\n",
    "\n",
    "- Problemas de conectividad momentáneos en ese salto.\n",
    "\n",
    "⚠️ Esto no significa necesariamente que la conexión final esté caída; mientras los saltos posteriores respondan, el destino es alcanzable."
   ]
  },
  {
   "cell_type": "markdown",
   "id": "e5a3228e",
   "metadata": {},
   "source": [
    "# Bloque 2"
   ]
  },
  {
   "cell_type": "markdown",
   "id": "f66e1bf8",
   "metadata": {},
   "source": [
    "## Función del DNS"
   ]
  },
  {
   "cell_type": "markdown",
   "id": "965f321e",
   "metadata": {},
   "source": [
    "Traducir URLs a direcciones IP."
   ]
  },
  {
   "cell_type": "markdown",
   "id": "5a5899d0",
   "metadata": {},
   "source": [
    "## NsLookUp"
   ]
  },
  {
   "cell_type": "markdown",
   "id": "b1f39dc9",
   "metadata": {},
   "source": [
    "¿Cuál es el uso principal del Nslookup?\n",
    "\n",
    "Verificar la traducción de nombres de dominios y direcciones IP e isolar problemas entre las dos partes."
   ]
  },
  {
   "cell_type": "markdown",
   "id": "34a9c659",
   "metadata": {},
   "source": [
    "## Tipo de cables"
   ]
  },
  {
   "cell_type": "markdown",
   "id": "769bd976",
   "metadata": {},
   "source": [
    "¿Cuáles son los dos tipos de cables que empleamos para la conexión en este curso?\n",
    "\n",
    "Cable directo y cable cruzado."
   ]
  },
  {
   "cell_type": "markdown",
   "id": "fab3bffe",
   "metadata": {},
   "source": [
    "## ¿Cuáles son los dos tipos de estandar TIA?"
   ]
  },
  {
   "cell_type": "markdown",
   "id": "280e41a1",
   "metadata": {},
   "source": [
    "T568A y T568B."
   ]
  },
  {
   "cell_type": "markdown",
   "id": "51bdef90",
   "metadata": {},
   "source": [
    "# Bloque 3"
   ]
  },
  {
   "cell_type": "markdown",
   "id": "bf06593d",
   "metadata": {},
   "source": [
    "## ¿Cuáles serían dos de las principales limitaciones del Hub?"
   ]
  },
  {
   "cell_type": "markdown",
   "id": "4be1ef46",
   "metadata": {},
   "source": [
    "Seguridad y lentitud."
   ]
  },
  {
   "cell_type": "markdown",
   "id": "19820228",
   "metadata": {},
   "source": []
  }
 ],
 "metadata": {
  "language_info": {
   "name": "python"
  }
 },
 "nbformat": 4,
 "nbformat_minor": 5
}
