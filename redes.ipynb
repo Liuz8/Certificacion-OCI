{
 "cells": [
  {
   "cell_type": "markdown",
   "id": "ce09363c",
   "metadata": {},
   "source": [
    "# Bloque 1"
   ]
  },
  {
   "cell_type": "markdown",
   "id": "bb2eaa1c",
   "metadata": {},
   "source": [
    "## Protocolo ICMP"
   ]
  },
  {
   "cell_type": "markdown",
   "id": "fba92c33",
   "metadata": {},
   "source": [
    "El comando `ping` en **CMD** (Command Prompt) utiliza el **protocolo ICMP (Internet Control Message Protocol)**, específicamente los **mensajes ICMP Echo Request y Echo Reply**.\n",
    "\n",
    "* Cuando ejecutas `ping <dirección>`:\n",
    "\n",
    "  1. Tu computadora envía un **Echo Request** al host de destino.\n",
    "  2. Si el host está activo y disponible, responde con un **Echo Reply**.\n",
    "* Esto permite verificar **conectividad de red**, medir **tiempo de respuesta** y detectar **pérdida de paquetes**.\n",
    "\n",
    "⚠️ Nota: ICMP no es un protocolo de transporte como TCP o UDP; es un protocolo de **capa de red** diseñado para enviar mensajes de control y diagnóstico en la red."
   ]
  },
  {
   "cell_type": "markdown",
   "id": "c1ea69e0",
   "metadata": {},
   "source": [
    "## TTL"
   ]
  },
  {
   "cell_type": "markdown",
   "id": "0f9f1216",
   "metadata": {},
   "source": [
    "En pocas palabras, el **TTL (Time To Live)** indica **cuántos saltos (routers) puede atravesar un paquete antes de ser descartado**.\n",
    "\n",
    "* Cada vez que el paquete pasa por un router, **TTL se decrementa en 1**.\n",
    "* Si llega a 0, el paquete se **descarta** y no llega al destino.\n",
    "* En `tracert`, el TTL te ayuda a **ver el número de saltos hasta cada nodo**.\n",
    "\n",
    "Básicamente, **mide la “vida” del paquete en la red** y ayuda a rastrear rutas."
   ]
  },
  {
   "cell_type": "markdown",
   "id": "b8457ec6",
   "metadata": {},
   "source": [
    "## comando ping"
   ]
  },
  {
   "cell_type": "markdown",
   "id": "e1f0fb05",
   "metadata": {},
   "source": [
    "``ping www.mercadolibre.com``: este comando sirve para ver la conexion desde mi computadora a la pagina a buscar"
   ]
  },
  {
   "cell_type": "markdown",
   "id": "3f2e7313",
   "metadata": {},
   "source": [
    "# comando tracer"
   ]
  },
  {
   "cell_type": "markdown",
   "id": "05d0d1e5",
   "metadata": {},
   "source": [
    "``tracert -d www.mercadolibre.com``: sirve para rastrear la ruta que siguen los paquetes desde tu computadora hasta el servidor de www.mercadolibre.com, mostrando cada salto (router) intermedio y el tiempo que tarda en llegar a cada uno.\n",
    "\n",
    "Cuando en un tracert ves un asterisco (*) y el mensaje “tiempo límite agotado” significa que ese nodo no respondió al paquete ICMP dentro del tiempo máximo establecido.\n",
    "\n",
    "Las razones más comunes son:\n",
    "\n",
    "- El router bloquea los paquetes ICMP (muy común por seguridad).\n",
    "\n",
    "- El router está saturado o muy ocupado y no responde a tiempo.\n",
    "\n",
    "- Problemas de conectividad momentáneos en ese salto.\n",
    "\n",
    "⚠️ Esto no significa necesariamente que la conexión final esté caída; mientras los saltos posteriores respondan, el destino es alcanzable."
   ]
  },
  {
   "cell_type": "markdown",
   "id": "e5a3228e",
   "metadata": {},
   "source": [
    "# Bloque 2"
   ]
  },
  {
   "cell_type": "markdown",
   "id": "f66e1bf8",
   "metadata": {},
   "source": [
    "## Función del DNS"
   ]
  },
  {
   "cell_type": "markdown",
   "id": "965f321e",
   "metadata": {},
   "source": [
    "Traducir URLs a direcciones IP."
   ]
  },
  {
   "cell_type": "markdown",
   "id": "5a5899d0",
   "metadata": {},
   "source": [
    "## NsLookUp"
   ]
  },
  {
   "cell_type": "markdown",
   "id": "b1f39dc9",
   "metadata": {},
   "source": [
    "¿Cuál es el uso principal del Nslookup?\n",
    "\n",
    "Verificar la traducción de nombres de dominios y direcciones IP e isolar problemas entre las dos partes."
   ]
  },
  {
   "cell_type": "markdown",
   "id": "34a9c659",
   "metadata": {},
   "source": [
    "## Tipo de cables"
   ]
  },
  {
   "cell_type": "markdown",
   "id": "769bd976",
   "metadata": {},
   "source": [
    "¿Cuáles son los dos tipos de cables que empleamos para la conexión en este curso?\n",
    "\n",
    "Cable directo y cable cruzado."
   ]
  },
  {
   "cell_type": "markdown",
   "id": "fab3bffe",
   "metadata": {},
   "source": [
    "## ¿Cuáles son los dos tipos de estandar TIA?"
   ]
  },
  {
   "cell_type": "markdown",
   "id": "280e41a1",
   "metadata": {},
   "source": [
    "T568A y T568B."
   ]
  },
  {
   "cell_type": "markdown",
   "id": "51bdef90",
   "metadata": {},
   "source": [
    "# Bloque 3"
   ]
  },
  {
   "cell_type": "markdown",
   "id": "bf06593d",
   "metadata": {},
   "source": [
    "## ¿Cuáles serían dos de las principales limitaciones del Hub?"
   ]
  },
  {
   "cell_type": "markdown",
   "id": "4be1ef46",
   "metadata": {},
   "source": [
    "Seguridad y lentitud."
   ]
  },
  {
   "cell_type": "markdown",
   "id": "19820228",
   "metadata": {},
   "source": [
    "## Wireshark"
   ]
  },
  {
   "cell_type": "markdown",
   "id": "a20d8743",
   "metadata": {},
   "source": [
    "¿Cuál es la principal funcionalidad del programa Wireshark?\n",
    "\n",
    "Analizar protocolos para resolver problemas de redes."
   ]
  },
  {
   "cell_type": "markdown",
   "id": "dd8a119f",
   "metadata": {},
   "source": [
    "## Protocolos y criptografía"
   ]
  },
  {
   "cell_type": "markdown",
   "id": "989ae28b",
   "metadata": {},
   "source": [
    "¿Cuál de los siguientes protocolos es empleado para encriptar la información?\n",
    "\n",
    "``TLS`` - ¡Alternativa correcta! TLS (Transport Layer Security) seria un protocolo de criptografía utilizado para la seguridad de la información. Este es la evolución del protocolo SSL (Secure Sockets Layer)."
   ]
  },
  {
   "cell_type": "markdown",
   "id": "d6830be6",
   "metadata": {},
   "source": [
    "## Hubs vs. Switches"
   ]
  },
  {
   "cell_type": "markdown",
   "id": "14b48eaa",
   "metadata": {},
   "source": [
    "¿Cuál es la principal diferencia entre los Hubs y los Switches?\n",
    "\n",
    "El Hub no logra aprender donde un equipo se encuentra localizado. El Switch sí.\n",
    "\n",
    "¡Alternativa correcta! Los switches aprenden y almacenan las direcciones MAC de los equipos conectados en su red."
   ]
  },
  {
   "cell_type": "markdown",
   "id": "67c1c015",
   "metadata": {},
   "source": [
    "## Switches"
   ]
  },
  {
   "cell_type": "markdown",
   "id": "6183c02c",
   "metadata": {},
   "source": [
    "¿Cómo un switch aprende dónde un equipo está localizado?\n",
    "\n",
    "Cuando un dispositivo se quiere comunicar con otro, la información que se envía a través de una PDU va a pasar por el Switch. Este PDU contiene al interior su dirección MAC de origen y así, el Switch almacena esta información en su memoria.\n",
    "\n",
    "\n",
    "¡Alternativa correcta! Los switches aprenden de esta manera y reconocen la interfaz por la cual está conectado el equipo con su respectiva dirección MAC."
   ]
  },
  {
   "cell_type": "markdown",
   "id": "9d976133",
   "metadata": {},
   "source": [
    "# Bloque 4"
   ]
  },
  {
   "cell_type": "markdown",
   "id": "4f1d08d1",
   "metadata": {},
   "source": [
    "## Función de la máscara de Red"
   ]
  },
  {
   "cell_type": "markdown",
   "id": "542b9a04",
   "metadata": {},
   "source": [
    "¿Cuál es la función de la máscara de red?\n",
    "\n",
    "Dividir la dirección IP en dos grupos: Red y Máquinas. A partir de allí, reconocer los equipos que pertenecen a la misma red.\n",
    "\n",
    "¡Alternativa correcta! Es un mecanismo de comparación que permite determinar si dos o más equipos pertenecen a la misma red."
   ]
  },
  {
   "cell_type": "markdown",
   "id": "3d492a19",
   "metadata": {},
   "source": [
    "## Red externa"
   ]
  },
  {
   "cell_type": "markdown",
   "id": "a69f4730",
   "metadata": {},
   "source": [
    "¿Qué equipo es utilizado para conectar redes externas?\n",
    "\n",
    "**Router** ¡Alternativa correcta! La función del router es la de interconectar diversas redes reenviando las PDUs con la información. Por otra parte, los Switches y los Hubs son empleados en la conexión de redes locales."
   ]
  },
  {
   "cell_type": "markdown",
   "id": "e2420a00",
   "metadata": {},
   "source": [
    "## PC vs Router"
   ]
  },
  {
   "cell_type": "markdown",
   "id": "11555c41",
   "metadata": {},
   "source": [
    "¿Cuál tipo de cable se emplea para conectar un PC y un Router?\n",
    "\n",
    "**Cable cruzado**. ¡Alternativa correcta! Al tratarse de equipos cuya configuración de transmisión y recepción es igual, se necesita utilizar cables cruzados."
   ]
  },
  {
   "cell_type": "markdown",
   "id": "a87dc9b9",
   "metadata": {},
   "source": [
    "## Default gateway"
   ]
  },
  {
   "cell_type": "markdown",
   "id": "d10a9c21",
   "metadata": {},
   "source": [
    "¿Para qué sirve el default gateway?\n",
    "\n",
    "**Es la puerta de salida de mi red**.\n",
    "¡Alternativa correcta! Se trata de la dirección IP por la cual se enviaran las PDUs hacia redes externas, esto es, la IP de mi router."
   ]
  },
  {
   "cell_type": "markdown",
   "id": "8218117b",
   "metadata": {},
   "source": [
    "# Bloque 5 - Direccionamiento IP y DHCP"
   ]
  },
  {
   "cell_type": "markdown",
   "id": "28030ebb",
   "metadata": {},
   "source": [
    "## Clases de IP"
   ]
  },
  {
   "cell_type": "markdown",
   "id": "d84968cb",
   "metadata": {},
   "source": [
    "¿Cuáles son las clases de direcciones IP que pueden ser empleadas para máquinas?\n",
    "\n",
    "**A, B y C** ¡Alternativa correcta! Estas son las únicas clases de direcciones IPv4 que se utilizan con máquinas."
   ]
  },
  {
   "cell_type": "markdown",
   "id": "9620469a",
   "metadata": {},
   "source": [
    "## IP Privado"
   ]
  },
  {
   "cell_type": "markdown",
   "id": "21e48772",
   "metadata": {},
   "source": [
    "Son IPs utilizados únicamente para la comunicación en la red local, no se puede acceder a internet con ellas."
   ]
  },
  {
   "cell_type": "markdown",
   "id": "06b01dc7",
   "metadata": {},
   "source": [
    "## El servidor DHCP"
   ]
  },
  {
   "cell_type": "markdown",
   "id": "6da4d73a",
   "metadata": {},
   "source": [
    "¿Para qué sirve un servidor DHCP?\n",
    "\n",
    "**Para atribuir IPs a máquinas (clientes) de forma dinámica.**\n",
    "\n",
    "¡Alternativa correcta! Los servidores de configuración dinámica de clientes DHCP permiten asignar de manera “dinámica” las direcciones IP a los clientes."
   ]
  },
  {
   "cell_type": "markdown",
   "id": "1ec09c9e",
   "metadata": {},
   "source": [
    "## Solicitud de IP"
   ]
  },
  {
   "cell_type": "markdown",
   "id": "09f7ac15",
   "metadata": {},
   "source": [
    "Cuando un cliente no posee una dirección IP y está configurado para recibir su IP dinámica, ¿Cómo hace la solicitud para que algún equipo le asigne una dirección IP?\n",
    "\n",
    "**Broadcast**\n",
    "¡Alternativa correcta! Así es; el computador necesita preguntarle a todos los equipos de la red para descubrir si alguno de ellos le puede ofrecer la dirección IP de forma dinámica. Esta comunicación desde un equipo hacia todos los demás equipos de la red se conoce como Broadcast."
   ]
  },
  {
   "cell_type": "markdown",
   "id": "22445f68",
   "metadata": {},
   "source": [
    "## Servidor DHCP y Broadcast"
   ]
  },
  {
   "cell_type": "markdown",
   "id": "4bfc51c9",
   "metadata": {},
   "source": [
    "**``Servidor DHCP``**: Es como el administrador de direcciones de la red. Tiene un rango de direcciones IP disponibles y las asigna a los dispositivos que las solicitan.\n",
    "\n",
    "**``Broadcast (Discover)``**: Es el \"grito\" inicial del cliente (el dispositivo que necesita una IP) para encontrar un servidor DHCP en la red. Es como preguntar: \"¿Hay algún servidor DHCP por aquí?\".\n",
    "\n",
    "Una vez que el cliente recibe una oferta de un servidor DHCP, utiliza mensajes adicionales (Request y Ack) para completar el proceso de asignación de la dirección IP."
   ]
  },
  {
   "cell_type": "markdown",
   "id": "ad11022e",
   "metadata": {},
   "source": []
  }
 ],
 "metadata": {
  "language_info": {
   "name": "python"
  }
 },
 "nbformat": 4,
 "nbformat_minor": 5
}
