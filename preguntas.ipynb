{
 "cells": [
  {
   "cell_type": "markdown",
   "id": "9ab386df",
   "metadata": {},
   "source": [
    "## **° **"
   ]
  },
  {
   "cell_type": "markdown",
   "id": "209e6a51",
   "metadata": {},
   "source": [
    "# Preguntas de introducción"
   ]
  },
  {
   "cell_type": "markdown",
   "id": "3f028471",
   "metadata": {},
   "source": [
    "## **1° Dime la diferencia entre regio, dominio ad, dominio fd**\n",
    "\n",
    "En pocas palabras: una región tiene múltiples ADs y cada AD tiene múltiples FDs."
   ]
  },
  {
   "cell_type": "markdown",
   "id": "bbf7dc14",
   "metadata": {},
   "source": [
    "## **2° Por que se escoge una region cercana al usuario?**\n",
    "\n",
    "Por baja latencia y alto desempeño"
   ]
  },
  {
   "cell_type": "markdown",
   "id": "bfb1f05c",
   "metadata": {},
   "source": [
    "## **3° a que se refiere gobernanza en OCI**\n",
    "\n",
    "Que gobierna, administra y regula los recursos de OCI"
   ]
  },
  {
   "cell_type": "markdown",
   "id": "4dffeafa",
   "metadata": {},
   "source": [
    "## **4° Que es un container**\n",
    "\n",
    "Entonces, en las computadoras físicas de OCI existen dos espacios principales: uno es la **máquina virtual (VM)** y el otro es el **container**. Ambos comparten la misma computadora física, pero se **dividen e instancian por separado** para ejecutar diferentes aplicaciones o servicios de manera aislada."
   ]
  },
  {
   "cell_type": "markdown",
   "id": "2ff9226f",
   "metadata": {},
   "source": [
    "## **5° para que sirven Los compartimentos (Compartments)**\n",
    "\n",
    "Se utilizan para organizar y aislar recursos dentro de OCI."
   ]
  },
  {
   "cell_type": "markdown",
   "id": "32cfce50",
   "metadata": {},
   "source": [
    "# Cloud Computing"
   ]
  },
  {
   "cell_type": "markdown",
   "id": "37dda22a",
   "metadata": {},
   "source": [
    "## **1° Que es Tagging**\n",
    "\n",
    "---\n",
    "\n",
    "Imagina que tienes una **gran bodega** donde guardas muchas cajas (tus **recursos en OCI**, como instancias, bases de datos, VCN, etc.).\n",
    "\n",
    "🔹 El problema es que todas las cajas se parecen y pronto ya no sabes cuál pertenece a quién, cuál es de qué proyecto, o cuál usaste para un cliente específico.\n",
    "\n",
    "Aquí entran las **etiquetas (Tags)**:\n",
    "\n",
    "* Un **Tag** es como ponerle un **post-it o etiqueta adhesiva** a cada caja.\n",
    "* En la etiqueta puedes escribir información como:\n",
    "\n",
    "  * 📌 “Proyecto: Finanzas”\n",
    "  * 📌 “Ambiente: Producción”\n",
    "  * 📌 “Dueño: Luis”\n",
    "  * 📌 “Costo: Departamento A”\n",
    "\n",
    "Así, aunque la bodega sea enorme y tenga cientos de cajas, puedes **buscar, organizar y controlar** mejor todo lo que tienes.\n",
    "\n",
    "---\n",
    "\n",
    "👉 En OCI, **Tagging sirve para organizar y clasificar recursos**.\n",
    "Por ejemplo: puedes generar reportes de costos y saber exactamente cuánto gastó el **proyecto Finanzas** vs el **proyecto Ventas**, porque todos los recursos tenían su etiqueta.\n",
    "\n",
    "---"
   ]
  },
  {
   "cell_type": "markdown",
   "id": "2e9a48dd",
   "metadata": {},
   "source": [
    "## **2° ¿Para que sirven las Quotas?**\n",
    "\n",
    "Claro, Luis 🙌\n",
    "\n",
    "Imagina que tienes un **edificio de oficinas** (tu **compartment** en OCI). Dentro de ese edificio trabajan diferentes equipos y cada uno puede pedir escritorios, computadoras, impresoras, etc. (estos son los **recursos de OCI**, como instancias, bases de datos, VCNs, etc.).\n",
    "\n",
    "Ahora, ¿qué pasa si un solo equipo decide llenar el edificio con 200 escritorios y no deja espacio para los demás? 😅\n",
    "\n",
    "Aquí es donde entran las **Quotas**:\n",
    "\n",
    "👉 Las **Quotas son como las reglas del administrador del edificio** que dicen:\n",
    "\n",
    "* “El equipo de marketing solo puede tener hasta 10 escritorios.”\n",
    "* “El equipo de ventas solo puede usar 2 salas de juntas.”\n",
    "* “El equipo de desarrollo puede usar máximo 5 computadoras de alto rendimiento.”\n",
    "\n",
    "De esta forma, todos los equipos tienen recursos, nadie se excede y el edificio sigue organizado y justo.\n",
    "\n",
    "---\n",
    "\n",
    "📌 En analogía resumida:\n",
    "\n",
    "* **Edificio = Compartment**\n",
    "* **Recursos = escritorios, salas, computadoras**\n",
    "* **Quotas = reglas que limitan cuánto puede usar cada equipo**\n",
    "\n",
    "---"
   ]
  },
  {
   "cell_type": "markdown",
   "id": "1636a22b",
   "metadata": {},
   "source": [
    "## **3° ¿Qué es un Bucket?**\n",
    "\n",
    "¡Perfecto, Luis! 😃\n",
    "\n",
    "Imagina que tienes una **bodega enorme** donde puedes guardar cualquier cosa: cajas, maletas, muebles, etc. Esa **bodega** es como el **Object Storage** en OCI.\n",
    "\n",
    "Ahora bien, dentro de la bodega no quieres tener todo tirado y desordenado, así que decides poner **contenedores grandes de plástico** donde guardas tus cosas.\n",
    "\n",
    "👉 Cada uno de esos **contenedores** es un **Bucket**.\n",
    "\n",
    "* Tú eliges qué metes dentro del contenedor (archivos, fotos, documentos, videos = **objetos**).\n",
    "* Puedes tener varios contenedores (varios **buckets**) para organizarte mejor, por ejemplo:\n",
    "\n",
    "  * Un bucket para tus fotos de viajes.\n",
    "  * Otro bucket para documentos importantes.\n",
    "  * Otro bucket para videos de trabajo.\n",
    "* Cada contenedor tiene su tapa y reglas: decides si lo dejas abierto para que todos lo vean o cerrado con llave (configuración de acceso).\n",
    "\n",
    "---\n",
    "\n",
    "📌 Analogía resumida:\n",
    "\n",
    "* **Object Storage = la bodega enorme**\n",
    "* **Bucket = el contenedor dentro de la bodega**\n",
    "* **Objetos = las cosas que guardas (archivos, datos, etc.)**\n",
    "\n",
    "---"
   ]
  },
  {
   "cell_type": "markdown",
   "id": "bce1cb3a",
   "metadata": {},
   "source": [
    "## **4° Diferencia entre tipos De almacenamiento OS, AS, BS, FS**\n",
    "\n",
    "¡Muy buena pregunta, Luis! Te lo voy a explicar primero **claro y técnico** y luego con una **analogía sencilla** para que quede bien grabado. 🚀\n",
    "\n",
    "---\n",
    "\n",
    "## 📌 Diferencias técnicas\n",
    "\n",
    "1. **Object Storage**\n",
    "\n",
    "   * Guarda datos como **objetos (archivos + metadatos)**.\n",
    "   * Ideal para datos no estructurados (imágenes, videos, backups).\n",
    "   * Escalable y accesible vía API o web.\n",
    "\n",
    "2. **Archive Storage**\n",
    "\n",
    "   * Es un tipo de **Object Storage pero para largo plazo**.\n",
    "   * Muy barato, pero el acceso es lento (se usa para archivos que no necesitas todos los días).\n",
    "   * Ejemplo: respaldos históricos, registros que debes guardar por ley.\n",
    "\n",
    "3. **Block Storage**\n",
    "\n",
    "   * Se comporta como un **disco duro virtual** que puedes conectar a una máquina virtual.\n",
    "   * Ideal para bases de datos, sistemas operativos, aplicaciones que requieren **alta velocidad y baja latencia**.\n",
    "\n",
    "4. **File Storage**\n",
    "\n",
    "   * Almacena datos como si fuera un **sistema de archivos compartido**.\n",
    "   * Varias instancias pueden acceder al mismo tiempo, como una carpeta compartida en red.\n",
    "   * Ideal para aplicaciones que necesitan acceso conjunto a los mismos archivos.\n",
    "\n",
    "---\n",
    "\n",
    "## 📌 Analogía (la de la casa)\n",
    "\n",
    "Imagina que tienes una **casa grande** y debes guardar cosas de distintas formas:\n",
    "\n",
    "1. **Object Storage = clóset con cajas organizadas**\n",
    "\n",
    "   * Guardas cada cosa en una caja con etiqueta (archivos + metadatos).\n",
    "   * Puedes entrar rápido y buscar lo que quieras.\n",
    "\n",
    "2. **Archive Storage = bodega en el sótano**\n",
    "\n",
    "   * Guardas cajas que casi nunca usas (archivos viejos).\n",
    "   * Mucho más barato, pero tardas en bajar y abrirlas si las necesitas.\n",
    "\n",
    "3. **Block Storage = disco duro de tu computadora**\n",
    "\n",
    "   * Es como el **disco C:**, donde instalas programas y tienes el sistema operativo.\n",
    "   * Súper rápido, diseñado para trabajar en tiempo real.\n",
    "\n",
    "4. **File Storage = carpeta compartida en la oficina**\n",
    "\n",
    "   * Varias personas pueden entrar a la misma carpeta y ver/modificar archivos.\n",
    "   * Ideal para colaboración.\n",
    "\n",
    "---\n",
    "\n",
    "👉 Resumen con la analogía:\n",
    "\n",
    "* **Object Storage** → tu clóset con cajas ordenadas.\n",
    "* **Archive Storage** → la bodega del sótano (lento pero barato).\n",
    "* **Block Storage** → el disco duro de tu PC.\n",
    "* **File Storage** → la carpeta compartida de la oficina.\n",
    "\n",
    "---"
   ]
  },
  {
   "cell_type": "markdown",
   "id": "32f4d4ad",
   "metadata": {},
   "source": [
    "## **5° ¿Qué es un VCN?**\n",
    "\n",
    "Un **VCN (Virtual Cloud Network)** es como el **plano de calles y avenidas de una colonia privada**:\n",
    "\n",
    "* La **colonia privada** representa tu nube en OCI.\n",
    "* El **VCN** es el **mapa de calles** que organiza cómo se conectan las casas, oficinas o edificios (tus recursos como instancias, bases de datos, etc.).\n",
    "* Dentro del VCN tú decides:\n",
    "\n",
    "  * **Qué calles existen** (subnets).\n",
    "  * **Dónde poner las casetas de vigilancia** (security lists, NSG).\n",
    "  * **Qué salida conecta con la carretera principal** (Internet Gateway).\n",
    "  * **Cómo se enruta el tráfico** (Route Table).\n",
    "\n",
    "Sin ese mapa (VCN), cada casa/instancia estaría aislada sin manera de comunicarse ni con sus vecinos ni con el exterior.\n",
    "\n",
    "---"
   ]
  },
  {
   "cell_type": "markdown",
   "id": "0a0c3624",
   "metadata": {},
   "source": [
    "## **6° Subnet, Intarface y VNIC**\n",
    "\n",
    "Veo que mencionas directamente a las instancias, sin señalar que están dentro de una **subnet**; al menos esa es mi interpretación, pero podría estar equivocado.\n",
    "\n",
    "¿Es más fácil mencionar solo el **interface** en lugar de decir “el interface de tal subnet”? Y si solo se menciona el **interface**, ¿se entiende que ya está dentro de una **subnet**?\n",
    "\n",
    "---\n",
    "\n",
    "Muy buena observación 👌 y tienes razón en tu idea.\n",
    "Déjame desmenuzarlo con una analogía clara:\n",
    "\n",
    "---\n",
    "\n",
    "Piensa otra vez en el **VCN como la colonia**:\n",
    "\n",
    "* La **subnet** sería como una **calle específica** dentro de esa colonia.\n",
    "* Una **instancia** sería como una **casa construida sobre esa calle**.\n",
    "* El **VNIC (interface)** sería como la **dirección postal de la casa** (número de calle, código postal, etc.), lo que permite que el cartero sepa dónde entregar cartas (red, tráfico de datos).\n",
    "\n",
    "---\n",
    "\n",
    "🔑 **Lo que pasa en OCI:**\n",
    "\n",
    "* Una instancia **siempre** está dentro de una **subnet** (no se puede quedar “flotando” en el VCN).\n",
    "* Y para conectarse a la red, **esa instancia necesita su VNIC**, que está obligatoriamente ligado a la subnet.\n",
    "\n",
    "Por eso, cuando en la práctica se dice **“la instancia tiene un VNIC”**, ya se entiende que está asociado a una subnet. No siempre es necesario repetirlo, porque es implícito.\n",
    "\n",
    "---\n",
    "\n",
    "👉 En resumen:\n",
    "\n",
    "* Sí, es más fácil mencionar solo el **interface (VNIC)**.\n",
    "* Y sí, al mencionarlo ya se da por entendido que ese interface está en **una subnet**.\n",
    "\n",
    "---"
   ]
  },
  {
   "cell_type": "markdown",
   "id": "c35b18e0",
   "metadata": {},
   "source": [
    "## **7° ¿Qué es una instancia de computo?**\n",
    "\n",
    "Claro. Una **instancia de cómputo** en OCI (o en cualquier nube) es básicamente una **máquina virtual** que corre en la nube. Es como un computador “virtual” que puedes usar para ejecutar aplicaciones, almacenar datos temporalmente o hacer cálculos, sin necesidad de tener un servidor físico en tus manos.\n",
    "\n",
    "Si quieres una **analogía**:\n",
    "\n",
    "* Imagina que el **data center de OCI** es un gran edificio de oficinas.\n",
    "* Cada **instancia de cómputo** sería como un escritorio con una computadora en ese edificio.\n",
    "* Tú puedes “sentarte” en ese escritorio (usar la instancia) para hacer tu trabajo (ejecutar aplicaciones o procesos), pero el escritorio no es fijo; puedes abrir otro en otra sala si necesitas más espacio o recursos."
   ]
  },
  {
   "cell_type": "markdown",
   "id": "71be3c41",
   "metadata": {},
   "source": [
    "# Arquitectura OCI"
   ]
  },
  {
   "cell_type": "markdown",
   "id": "5ad7cfcd",
   "metadata": {},
   "source": [
    "## **1° ¿Qué es un **FastConnect** en OCI?**\n",
    "\n",
    "Piensa en OCI como una **ciudad gigante en la nube**. Tus datos y aplicaciones son como **casas y negocios** dentro de esa ciudad. Normalmente, para llegar a la ciudad, usas **carreteras públicas**, compartidas con todos, que a veces pueden tener tráfico lento o cortes.\n",
    "\n",
    "Un **FastConnect** sería como construir una **autopista privada directa** desde tu casa o empresa hasta la ciudad. Esta autopista no se comparte con otros, es más rápida, segura y confiable, y te garantiza que siempre podrás llegar sin depender del tráfico de las carreteras públicas (Internet).\n",
    "\n",
    "En otras palabras: **FastConnect es una conexión dedicada y privada a OCI que hace el viaje de tus datos más rápido y seguro**."
   ]
  },
  {
   "cell_type": "markdown",
   "id": "dc9bb431",
   "metadata": {},
   "source": [
    "## **2° ¿Cómo funciona VNIC?**\n",
    "\n",
    "Imagina que tu **instancia de cómputo en OCI** es como un **departamento en un edificio**. Cada departamento necesita tener **acceso a la electricidad y al agua**, que representan los servicios de red y comunicación.\n",
    "\n",
    "El **VNIC (Virtual Network Interface Card)** sería como **el medidor de luz y agua del departamento**, que conecta tu departamento a la infraestructura del edificio. Gracias al medidor, tu departamento puede recibir electricidad y agua, pero también puedes controlar cuánto usas y cómo interactúas con otros departamentos.\n",
    "\n",
    "En términos de red: el VNIC **conecta tu instancia de cómputo a la red virtual (VCN)**, permitiéndole comunicarse con otras instancias, Internet o servicios dentro de OCI, mientras mantiene un control seguro y aislado del tráfico."
   ]
  },
  {
   "cell_type": "markdown",
   "id": "93806f0b",
   "metadata": {},
   "source": [
    "## **3° ¿Para que es un Compartment?**\n",
    "\n",
    "Imagina que tu **cuenta de OCI** es como **una gran casa** con muchas habitaciones y cajones. Dentro de esa casa, tienes **distintos compartimentos (Compartments)** que funcionan como **cajones o closets**.\n",
    "\n",
    "Cada cajón guarda ciertas cosas: ropa, documentos, herramientas… De manera similar, cada **compartment** en OCI guarda **recursos de la nube** como instancias, bases de datos o buckets.\n",
    "\n",
    "Lo útil de los **compartments** es que te permiten:\n",
    "\n",
    "* **Organizar**: cada tipo de recurso tiene su “cajón” correspondiente.\n",
    "* **Aislar**: lo que guardas en un cajón no se mezcla con lo de otro, así puedes controlar acceso y seguridad.\n",
    "* **Controlar permisos**: puedes dar llave a ciertos “usuarios” solo para algunos cajones.\n",
    "\n",
    "En pocas palabras: un **compartment es como un cajón dentro de tu casa digital**, donde guardas y organizas tus recursos de manera segura y ordenada."
   ]
  },
  {
   "cell_type": "markdown",
   "id": "405ff839",
   "metadata": {},
   "source": [
    "## **4° ¿Qué es un Load Balancer en OCI?**\n",
    "\n",
    "Imagina que tienes un **restaurante muy popular** y llega **una fila enorme de clientes**. Si todos los clientes fueran a **un solo mesero**, ese mesero se saturaría y el servicio sería lento.\n",
    "\n",
    "Un **Load Balancer** funciona como un **jefe de piso** que **dirige a cada cliente al mesero disponible** para que todos sean atendidos de manera rápida y eficiente.\n",
    "\n",
    "En términos de OCI:\n",
    "\n",
    "* Los **clientes** son las solicitudes de los usuarios que llegan a tu aplicación.\n",
    "* Los **meseros** son las **instancias de cómputo** que procesan esas solicitudes.\n",
    "* El **Load Balancer** distribuye las solicitudes **uniformemente** entre todas las instancias disponibles para evitar sobrecargar una sola.\n",
    "\n",
    "En pocas palabras: un **Load Balancer es como un jefe de piso que reparte el trabajo entre varios meseros para que todos reciban atención rápida y sin retrasos**."
   ]
  },
  {
   "cell_type": "markdown",
   "id": "354294dc",
   "metadata": {},
   "source": [
    "## **5° ¿Qué son Security List Y Network Security Group (NSG)**\n",
    "\n",
    "Imagina que **tu red en la nube es un edificio de oficinas**.\n",
    "\n",
    "* Un **Security List** sería como **las reglas del edificio**:\n",
    "\n",
    "  * Determinan quién puede entrar o salir por **cada puerta del edificio** (subred).\n",
    "  * Todos los que usan esa puerta deben seguir las mismas reglas.\n",
    "\n",
    "* Un **Network Security Group (NSG)** sería como **un guardia de seguridad personal para cada oficina o cubículo**:\n",
    "\n",
    "  * Decide quién puede entrar o salir de **esa oficina específica** (instancia).\n",
    "  * Puedes tener reglas diferentes para cada oficina según lo que necesites proteger.\n",
    "\n",
    "En resumen:\n",
    "\n",
    "* **Security List → controla puertas del edificio (subred)**\n",
    "* **NSG → controla entradas de oficinas específicas (instancias)**"
   ]
  },
  {
   "cell_type": "markdown",
   "id": "e94a69cf",
   "metadata": {},
   "source": [
    "## **6° ¿Cuál es la función de un Route Table en OCI?**\n",
    "\n",
    "Piensa en tu **VCN (Virtual Cloud Network)** como una **ciudad**. Dentro de esta ciudad hay muchas **calles** (subredes) y varias **casas** (instancias).\n",
    "\n",
    "El **Route Table** sería como **un mapa de rutas y señales de tránsito** que le dice a cada calle cómo llegar a otros lugares:\n",
    "\n",
    "* Por ejemplo, si una casa quiere enviar algo a otra ciudad (Internet), el **Route Table** indica qué camino tomar.\n",
    "* Si quiere comunicarse con otra subred dentro de la misma ciudad, también le dice la ruta correcta.\n",
    "\n",
    "En pocas palabras: **el Route Table decide cómo se enruta el tráfico de datos dentro de la red y hacia el exterior**, igual que un mapa decide por dónde deben ir los coches para llegar a su destino."
   ]
  },
  {
   "cell_type": "markdown",
   "id": "11f226db",
   "metadata": {},
   "source": [
    "## **7° Diferencia entre Load Balancer y Route Table**\n",
    "\n",
    "* El **Load Balancer** es como un recepcionista en la puerta de un edificio: recibe todas las solicitudes que vienen del exterior y las reparte a las diferentes oficinas (instancias) de manera equilibrada.\n",
    "\n",
    "* El **Route Table** (dentro de tu VCN) es como **el mapa de la ciudad y sus calles**: decide cómo viajan los autos (datos) **dentro de la ciudad** o hacia fuera. No decide quién entra al edificio, sino **cómo se mueven los datos dentro de la red y hacia Internet**.\n",
    "\n",
    "Así que ambos manejan tráfico, pero uno **gestiona el tráfico externo** hacia tus instancias, y el otro **gestiona el tráfico interno** y las rutas hacia afuera."
   ]
  },
  {
   "cell_type": "markdown",
   "id": "23f83dd6",
   "metadata": {},
   "source": [
    "## **8° ¿Qué es un Internet Gateway en OCI?**\n",
    "\n",
    "Un **Internet Gateway** en OCI es como **la puerta principal de tu vecindario** que conecta tu calle privada con la carretera principal de la ciudad (Internet).\n",
    "\n",
    "* Sin esa puerta, nadie de fuera puede entrar, y tus autos (datos) no pueden salir a la ciudad.\n",
    "* Con la puerta abierta, tus casas (instancias en la VCN) pueden comunicarse con el mundo exterior, recibir visitas o enviar correspondencia.\n",
    "\n",
    "En otras palabras, permite que los recursos dentro de tu **VCN** accedan a Internet y que Internet acceda a los recursos que tengan permiso."
   ]
  },
  {
   "cell_type": "markdown",
   "id": "e8eed5db",
   "metadata": {},
   "source": [
    "## **9° Que es un Componente es OCI**\n",
    "\n",
    "Imagina que **OCI (Oracle Cloud Infrastructure)** es como una **gran oficina de correos**.\n",
    "\n",
    "* Un **componente** en OCI sería como **cada parte o área de esa oficina** que tiene una función específica.\n",
    "\n",
    "  * Por ejemplo: el área donde reciben cartas, el área donde organizan paquetes, el área de atención al cliente, el área de computadoras para registrar envíos, etc.\n",
    "  * Cada “componente” tiene su propósito y trabaja junto con los otros componentes para que toda la oficina funcione correctamente.\n",
    "\n",
    "En OCI, los **componentes** son cosas como:\n",
    "\n",
    "* **VCN** → la red que conecta todo, como los pasillos que permiten que los empleados se muevan entre áreas.\n",
    "* **Subnet** → secciones de la oficina, como diferentes habitaciones dentro del edificio.\n",
    "* **Compartment** → cajones o archivadores donde guardas y organizas recursos.\n",
    "* **Load Balancer** → el encargado de repartir el trabajo entre varios empleados, como distribuir cartas entre varios carteros.\n",
    "\n",
    "En pocas palabras: un **componente en OCI es cualquier parte de la infraestructura en la nube que cumple una función específica dentro del sistema**."
   ]
  },
  {
   "cell_type": "markdown",
   "id": "34996e2e",
   "metadata": {},
   "source": [
    "## **10° ¿Qué es una instancia?**\n",
    "\n",
    "- Cada **instancia de cómputo** es como **un empleado dentro de la oficina**.  \n",
    "- Ese empleado tiene su **computadora, teléfono y escritorio**, y realiza tareas específicas, como procesar cartas, responder llamadas o revisar paquetes.  \n",
    "- La oficina tiene **varios empleados** (instancias) que pueden trabajar al mismo tiempo, y todos siguen las **reglas de la oficina** (Security List, NSG, Route Tables) para que todo funcione de manera ordenada.  \n",
    "\n",
    "En resumen:  \n",
    "- **Instancia = un trabajador que hace el trabajo concreto** dentro de la infraestructura de la nube.  \n",
    "- Puede haber muchas instancias haciendo el mismo trabajo o tareas distintas, pero todas dependen de la infraestructura que las rodea para poder operar.\n",
    "\n",
    "**¿Y en este caso de la analogía cuál sería la oficina? El VCN seria el mapa, la instancia sería la persona que trabaja, pero la oficina que sería?**\n",
    "\n",
    "* **VCN (Virtual Cloud Network)** → sería **el edificio completo** donde trabajan todos los empleados. Dentro de este edificio hay diferentes salas, pasillos y reglas de acceso. Es la **infraestructura de red** que conecta todo.\n",
    "* **Subnet (Oficina)** → sería **una sala o área dentro del edificio**. Algunas salas pueden ser públicas (con acceso directo a la calle/Internet) y otras privadas (solo accesibles desde dentro del edificio).\n",
    "* **Instancia** → sería **el empleado que realiza tareas dentro de la sala**.\n",
    "* **Compartment** → sería **un cajón de archivos o una caja organizadora de la oficina**, donde se guardan documentos importantes. No hace el trabajo, pero ayuda a mantener todo ordenado.\n",
    "* **Load Balancer** → sería **el recepcionista de la oficina**, que distribuye las solicitudes de los clientes a los diferentes empleados para que ninguno se sobrecargue."
   ]
  },
  {
   "cell_type": "markdown",
   "id": "5f5d8fdc",
   "metadata": {},
   "source": [
    "# IAM -Identity and Access Management"
   ]
  },
  {
   "cell_type": "markdown",
   "id": "32c2418c",
   "metadata": {},
   "source": [
    "## **1° ¿Qué son policies statements**\n",
    "\n",
    "¡Claro! Vamos a ponerlo de manera sencilla con una analogía:\n",
    "\n",
    "Imagina que estás en **un edificio de oficinas**:\n",
    "\n",
    "* Cada **recurso** (bases de datos, máquinas virtuales, almacenamiento) es como **una oficina o sala dentro del edificio**.\n",
    "* Cada **usuario** o grupo de usuarios es como **una persona o un equipo que trabaja en el edificio**.\n",
    "* Una **policy statement** es como **una regla escrita en un cartel que dice quién puede entrar a qué oficina y qué puede hacer dentro**.\n",
    "\n",
    "Por ejemplo:\n",
    "\n",
    "> “El equipo de contabilidad puede **entrar a la oficina de finanzas** y **leer los archivos**, pero no puede **modificar nada**.”\n",
    "\n",
    "En OCI IAM:\n",
    "\n",
    "* La **policy statement** define **quién (usuario/grupo)** puede hacer **qué (acción)** sobre **qué recurso**.\n",
    "* Se escribe con la estructura básica:\n",
    "\n",
    "```\n",
    "Allow <grupo> to <acción> on <recurso>\n",
    "```\n",
    "\n",
    "Así, cada policy statement es **una instrucción clara que otorga permisos específicos**, igual que las reglas en un edificio sobre quién puede usar cada sala y qué puede hacer allí."
   ]
  },
  {
   "cell_type": "markdown",
   "id": "06cce5b8",
   "metadata": {},
   "source": [
    "## **2° ¿Qué es **dynamic group** en IAM?**\n",
    "\n",
    "Imagina que estás en **un parque de diversiones**:\n",
    "\n",
    "* Tienes **áreas restringidas**, como la montaña rusa VIP, la sala de control o el área de mantenimiento.\n",
    "* Cada **persona** puede tener **distintos roles**: visitante, empleado de limpieza, operador de juegos, seguridad.\n",
    "\n",
    "Un **dynamic group** sería como un **grupo que se forma automáticamente según ciertas características de la persona**:\n",
    "\n",
    "* Por ejemplo, “**todos los que llevan uniforme de operador de juegos**” o “**todos los que están en el área de mantenimiento**”.\n",
    "* No necesitas agregar manualmente a cada persona al grupo; **el grupo se actualiza automáticamente** según quién cumpla con las condiciones.\n",
    "\n",
    "En OCI IAM:\n",
    "\n",
    "* Un **dynamic group** agrupa **usuarios o recursos (como instancias de cómputo)** según **atributos que cumplen ciertas reglas**.\n",
    "* Luego puedes usar este grupo en una **policy statement** para dar permisos:\n",
    "\n",
    "```\n",
    "Allow dynamic-group <nombre> to <acción> on <recurso>\n",
    "```\n",
    "\n",
    "💡 Resumen de la analogía:\n",
    "\n",
    "* **Dynamic group = grupo “mágico” que se forma solo con los que cumplen ciertas características**.\n",
    "* No tienes que estar actualizando la lista manualmente; OCI lo hace por ti."
   ]
  },
  {
   "cell_type": "markdown",
   "id": "58dd887a",
   "metadata": {},
   "source": [
    "## **3° ¿Qué es tenancy?**\n",
    "\n",
    "En pocas palabras, **tenancy** es como la “cuenta principal” de tu organización en OCI: contiene **todos los recursos, usuarios y compartimentos**.\n",
    "\n",
    "Analógicamente, sería **el edificio completo** donde están todas las oficinas (compartimentos) y trabajadores (usuarios/instancias)."
   ]
  },
  {
   "cell_type": "markdown",
   "id": "56df5cd5",
   "metadata": {},
   "source": [
    "## **4° Diferencia entre tenancy y VCN**\n",
    "\n",
    "**tenancy** y **VCN** son cosas completamente diferentes:\n",
    "\n",
    "* **Tenancy**: Es la **cuenta principal** de tu organización en OCI. Contiene **todos los recursos, compartimentos y usuarios**. Es como **el edificio entero** donde está todo.\n",
    "* **VCN (Virtual Cloud Network)**: Es una **red privada virtual** dentro de tu tenancy. Conecta instancias de cómputo y otros recursos. Es como **el sistema de pasillos y conexiones dentro del edificio** que permite que las oficinas (subnets) y trabajadores (instancias) se comuniquen.\n",
    "\n",
    "En resumen: la **tenancy es el edificio completo**, y el **VCN es la red de caminos dentro del edificio**.\n"
   ]
  },
  {
   "cell_type": "markdown",
   "id": "3441d7de",
   "metadata": {},
   "source": [
    "## **5° Lenguaje para escribir policy**\n",
    "\n",
    "En el contexto de **OCI IAM**, cuando hablamos del “tipo de lenguaje” para escribir una **policy**, podemos usar varios términos que se refieren a lo mismo:\n",
    "\n",
    "* **Declarative language** (lenguaje declarativo) → porque defines *qué se permite* o *qué se restringe*, no cómo se hace.\n",
    "* **Policy language** → lenguaje específico para políticas de IAM.\n",
    "* **Human-readable language** / **Human-friendly language** → lenguaje que es comprensible para humanos.\n",
    "* **DSL (Domain-Specific Language)** → lenguaje específico del dominio de gestión de identidades y accesos.\n",
    "* **Statements language** → lenguaje basado en declaraciones (statements) que indican acciones, recursos y sujetos.\n",
    "\n",
    "En la práctica, la mayoría de la gente lo describe como “**lenguaje entendible para humanos**” o “**lenguaje declarativo para políticas**”."
   ]
  },
  {
   "cell_type": "markdown",
   "id": "ff63aab5",
   "metadata": {},
   "source": [
    "# AuthN AuthZ"
   ]
  },
  {
   "cell_type": "markdown",
   "id": "9a672a03",
   "metadata": {},
   "source": [
    "## **1° Tipos de credenciales parainstancias**\n",
    "\n",
    "Claves API y certificados de instancia"
   ]
  },
  {
   "cell_type": "markdown",
   "id": "afa71fce",
   "metadata": {},
   "source": [
    "## **2° Métodos para autenticarse**\n",
    "\n",
    "- Nombre de usuario y contraseña\n",
    "- Claves API\n",
    "- Autenticación federada (SSO)"
   ]
  },
  {
   "cell_type": "markdown",
   "id": "cba673bc",
   "metadata": {},
   "source": [
    "# VCN"
   ]
  },
  {
   "cell_type": "markdown",
   "id": "abbd6144",
   "metadata": {},
   "source": [
    "## **1° Diferencia entre los Gateway**\n",
    "\n",
    "**a) NAT Gateway**\n",
    "\n",
    "* **Qué hace:** Permite que las **instancias privadas** (sin IP pública) salgan a Internet **solo para iniciar conexiones**, pero **nadie desde Internet puede entrar**.\n",
    "* **Analogia:** Es como cuando **llamas por teléfono usando número oculto**: tú puedes marcar y hablar, pero la otra persona **no puede devolverte la llamada directamente** porque no ve tu número real.\n",
    "\n",
    "---\n",
    "\n",
    "**b) Service Gateway**\n",
    "\n",
    "* **Qué hace:** Permite que tu red privada se conecte a **servicios de OCI** (como Object Storage, Autonomous Database, etc.) **sin pasar por Internet**.\n",
    "* **Analogia:** Es como un **pasillo interno exclusivo** en un centro comercial que conecta tu tienda directamente con el almacén central, sin salir a la calle.\n",
    "\n",
    "---\n",
    "\n",
    "**c) Internet Gateway**\n",
    "\n",
    "* **Qué hace:** Conecta tu VCN con Internet de forma **bidireccional**. Las instancias con IP pública pueden enviar y **recibir tráfico desde Internet**.\n",
    "* **Analogia:** Es como **la puerta principal de tu casa**: puedes salir y también cualquiera puede tocar el timbre y entrar si lo permites.\n",
    "\n",
    "---\n",
    "\n",
    "**d) Local Peering Gateway (LPG)**\n",
    "\n",
    "* **Qué hace:** Permite la comunicación **privada** entre **dos VCNs en la misma región**, sin usar Internet ni VPN.\n",
    "* **Analogia:** Es como abrir un **puente privado** entre dos colonias vecinas para que los residentes puedan visitarse sin salir a la carretera principal.\n",
    "\n",
    "---\n",
    "\n",
    "📌 **Resumen rápido:**\n",
    "\n",
    "* **NAT Gateway** → Salida privada hacia Internet (solo de dentro hacia afuera).\n",
    "* **Service Gateway** → Acceso a servicios de OCI sin pasar por Internet.\n",
    "* **Internet Gateway** → Conexión abierta bidireccional con Internet.\n",
    "* **Local Peering Gateway** → Comunicación privada entre dos VCNs en la misma región."
   ]
  },
  {
   "cell_type": "markdown",
   "id": "576879fe",
   "metadata": {},
   "source": [
    "## **2° ¿Qué recurso controla el tráfico entrante y saliente en un VCN?**\n",
    "\n",
    "La respuesta correcta es:\n",
    "\n",
    "✅ **b) Security List**\n",
    "\n",
    "👉 En OCI, las **Security Lists** (o Network Security Groups) son las que **controlan el tráfico entrante y saliente** mediante reglas de seguridad (puertos, protocolos, origen/destino).\n",
    "\n",
    "* **Route Table** → decide la **ruta** que seguirá el tráfico, pero no lo bloquea ni permite por sí sola.\n",
    "* **Internet Gateway** → conecta el VCN a Internet, pero no controla puertos ni protocolos.\n",
    "* **Firewall de la aplicación** → se refiere a algo dentro del sistema/aplicación, no al nivel de red en OCI.\n",
    "\n",
    "📌 Truco de memoria:\n",
    "\n",
    "* **Security List = policía en la puerta** (decide quién entra y quién sale).\n",
    "* **Route Table = GPS** (decide por dónde se va)."
   ]
  },
  {
   "cell_type": "markdown",
   "id": "9ec01ab4",
   "metadata": {},
   "source": [
    "# Security List y NSG"
   ]
  },
  {
   "cell_type": "markdown",
   "id": "52183d47",
   "metadata": {},
   "source": [
    "## **1° Diferencias de Security List y NSG**\n",
    "\n",
    "* **SL = Subred completa** → reglas “globales” para toda la subred.\n",
    "* **NSG = Instancia o grupo de instancias** → reglas “personalizadas” por recurso."
   ]
  },
  {
   "cell_type": "markdown",
   "id": "d509fdb6",
   "metadata": {},
   "source": [
    "## **2° NSG puede tener reglas de ingreso y egreso**\n",
    "\n",
    "¡Sí, exactamente! ✅\n",
    "\n",
    "Un **NSG (Network Security Group)** puede tener **reglas de ingreso (ingress) y egreso (egress)**:\n",
    "\n",
    "Esto significa que puedes especificar, por ejemplo:\n",
    "\n",
    "* Solo permitir que ciertas IPs accedan a un puerto específico (ingreso).\n",
    "* Solo permitir que la instancia se comunique con ciertos servidores externos (egreso).\n",
    "\n",
    "En cambio, recuerda que una **Security List** también tiene reglas de ingreso y egreso, pero **se aplican a toda la subred**, no a instancias individuales."
   ]
  },
  {
   "cell_type": "markdown",
   "id": "0b6782ed",
   "metadata": {},
   "source": [
    "## **3° ¿Qué recurso se debe asociar a un NSG para aplicar sus reglas?**\n",
    "\n",
    "VNIC (Virtual Network Interface Card)"
   ]
  },
  {
   "cell_type": "markdown",
   "id": "475be8b3",
   "metadata": {},
   "source": [
    "## **4° ¿Cuál es el estado predeterminado de una Security List recién creada?**\n",
    "\n",
    "El estado de una **Security List** recién creada en OCI es:\n",
    "\n",
    "**⚠️ Niega todo el tráfico entrante y saliente** hasta que agregues reglas.\n",
    "\n",
    "* No permite tráfico por defecto.\n",
    "* Debes crear reglas de **ingreso (ingress)** y **egreso (egress)** para que las instancias en la subred puedan comunicarse.\n",
    "\n",
    "💡 **Forma fácil de recordarlo:**\n",
    "“**Por defecto, Security List es bloqueadora.**” → nada pasa hasta que tú lo permitas."
   ]
  },
  {
   "cell_type": "markdown",
   "id": "6012464e",
   "metadata": {},
   "source": []
  }
 ],
 "metadata": {
  "language_info": {
   "name": "python"
  }
 },
 "nbformat": 4,
 "nbformat_minor": 5
}
