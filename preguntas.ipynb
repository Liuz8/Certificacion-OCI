{
 "cells": [
  {
   "cell_type": "markdown",
   "id": "9ab386df",
   "metadata": {},
   "source": [
    "## **° **"
   ]
  },
  {
   "cell_type": "markdown",
   "id": "209e6a51",
   "metadata": {},
   "source": [
    "# Preguntas de introducción"
   ]
  },
  {
   "cell_type": "markdown",
   "id": "3f028471",
   "metadata": {},
   "source": [
    "## **1° Dime la diferencia entre regio, dominio ad, dominio fd**\n",
    "\n",
    "En pocas palabras: una región tiene múltiples ADs y cada AD tiene múltiples FDs."
   ]
  },
  {
   "cell_type": "markdown",
   "id": "bbf7dc14",
   "metadata": {},
   "source": [
    "## **2° Por que se escoge una region cercana al usuario?**\n",
    "\n",
    "Por baja latencia y alto desempeño"
   ]
  },
  {
   "cell_type": "markdown",
   "id": "bfb1f05c",
   "metadata": {},
   "source": [
    "## **3° a que se refiere gobernanza en OCI**\n",
    "\n",
    "Que gobierna,administra y regula los recursos de OCI"
   ]
  },
  {
   "cell_type": "markdown",
   "id": "4dffeafa",
   "metadata": {},
   "source": [
    "## **4° Que es un container**\n",
    "\n",
    "Entonces, en las computadoras físicas de OCI existen dos espacios principales: uno es la **máquina virtual (VM)** y el otro es el **container**. Ambos comparten la misma computadora física, pero se **dividen e instancian por separado** para ejecutar diferentes aplicaciones o servicios de manera aislada."
   ]
  },
  {
   "cell_type": "markdown",
   "id": "2ff9226f",
   "metadata": {},
   "source": [
    "## **5° para que sirven Los compartimentos (Compartments)**\n",
    "\n",
    "Se utilizan para organizar y aislar recursos dentro de OCI."
   ]
  },
  {
   "cell_type": "markdown",
   "id": "71be3c41",
   "metadata": {},
   "source": [
    "# Arquitectura OCI"
   ]
  },
  {
   "cell_type": "markdown",
   "id": "5ad7cfcd",
   "metadata": {},
   "source": [
    "## **1° ¿Qué es un **FastConnect** en OCI?**\n",
    "\n",
    "Piensa en OCI como una **ciudad gigante en la nube**. Tus datos y aplicaciones son como **casas y negocios** dentro de esa ciudad. Normalmente, para llegar a la ciudad, usas **carreteras públicas**, compartidas con todos, que a veces pueden tener tráfico lento o cortes.\n",
    "\n",
    "Un **FastConnect** sería como construir una **autopista privada directa** desde tu casa o empresa hasta la ciudad. Esta autopista no se comparte con otros, es más rápida, segura y confiable, y te garantiza que siempre podrás llegar sin depender del tráfico de las carreteras públicas (Internet).\n",
    "\n",
    "En otras palabras: **FastConnect es una conexión dedicada y privada a OCI que hace el viaje de tus datos más rápido y seguro**."
   ]
  },
  {
   "cell_type": "markdown",
   "id": "dc9bb431",
   "metadata": {},
   "source": [
    "## **2° ¿Cómo funciona VNIC?**\n",
    "\n",
    "Imagina que tu **instancia de cómputo en OCI** es como un **departamento en un edificio**. Cada departamento necesita tener **acceso a la electricidad y al agua**, que representan los servicios de red y comunicación.\n",
    "\n",
    "El **VNIC (Virtual Network Interface Card)** sería como **el medidor de luz y agua del departamento**, que conecta tu departamento a la infraestructura del edificio. Gracias al medidor, tu departamento puede recibir electricidad y agua, pero también puedes controlar cuánto usas y cómo interactúas con otros departamentos.\n",
    "\n",
    "En términos de red: el VNIC **conecta tu instancia de cómputo a la red virtual (VCN)**, permitiéndole comunicarse con otras instancias, Internet o servicios dentro de OCI, mientras mantiene un control seguro y aislado del tráfico."
   ]
  },
  {
   "cell_type": "markdown",
   "id": "93806f0b",
   "metadata": {},
   "source": [
    "## **3° ¿Para que es un Compartment?**\n",
    "\n",
    "Imagina que tu **cuenta de OCI** es como **una gran casa** con muchas habitaciones y cajones. Dentro de esa casa, tienes **distintos compartimentos (Compartments)** que funcionan como **cajones o closets**.\n",
    "\n",
    "Cada cajón guarda ciertas cosas: ropa, documentos, herramientas… De manera similar, cada **compartment** en OCI guarda **recursos de la nube** como instancias, bases de datos o buckets.\n",
    "\n",
    "Lo útil de los **compartments** es que te permiten:\n",
    "\n",
    "* **Organizar**: cada tipo de recurso tiene su “cajón” correspondiente.\n",
    "* **Aislar**: lo que guardas en un cajón no se mezcla con lo de otro, así puedes controlar acceso y seguridad.\n",
    "* **Controlar permisos**: puedes dar llave a ciertos “usuarios” solo para algunos cajones.\n",
    "\n",
    "En pocas palabras: un **compartment es como un cajón dentro de tu casa digital**, donde guardas y organizas tus recursos de manera segura y ordenada."
   ]
  },
  {
   "cell_type": "markdown",
   "id": "405ff839",
   "metadata": {},
   "source": [
    "## **4° ¿Qué es un Load Balancer en OCI?**\n",
    "\n",
    "Imagina que tienes un **restaurante muy popular** y llega **una fila enorme de clientes**. Si todos los clientes fueran a **un solo mesero**, ese mesero se saturaría y el servicio sería lento.\n",
    "\n",
    "Un **Load Balancer** funciona como un **jefe de piso** que **dirige a cada cliente al mesero disponible** para que todos sean atendidos de manera rápida y eficiente.\n",
    "\n",
    "En términos de OCI:\n",
    "\n",
    "* Los **clientes** son las solicitudes de los usuarios que llegan a tu aplicación.\n",
    "* Los **meseros** son las **instancias de cómputo** que procesan esas solicitudes.\n",
    "* El **Load Balancer** distribuye las solicitudes **uniformemente** entre todas las instancias disponibles para evitar sobrecargar una sola.\n",
    "\n",
    "En pocas palabras: un **Load Balancer es como un jefe de piso que reparte el trabajo entre varios meseros para que todos reciban atención rápida y sin retrasos**."
   ]
  },
  {
   "cell_type": "markdown",
   "id": "354294dc",
   "metadata": {},
   "source": [
    "## **5° ¿Qué son Security List Y Network Security Group (NSG)**\n",
    "\n",
    "Imagina que **tu red en la nube es un edificio de oficinas**.\n",
    "\n",
    "* Un **Security List** sería como **las reglas del edificio**:\n",
    "\n",
    "  * Determinan quién puede entrar o salir por **cada puerta del edificio** (subred).\n",
    "  * Todos los que usan esa puerta deben seguir las mismas reglas.\n",
    "\n",
    "* Un **Network Security Group (NSG)** sería como **un guardia de seguridad personal para cada oficina o cubículo**:\n",
    "\n",
    "  * Decide quién puede entrar o salir de **esa oficina específica** (instancia).\n",
    "  * Puedes tener reglas diferentes para cada oficina según lo que necesites proteger.\n",
    "\n",
    "En resumen:\n",
    "\n",
    "* **Security List → controla puertas del edificio (subred)**\n",
    "* **NSG → controla entradas de oficinas específicas (instancias)**"
   ]
  },
  {
   "cell_type": "markdown",
   "id": "e94a69cf",
   "metadata": {},
   "source": [
    "## **6° ¿Cuál es la función de un Route Table en OCI?**\n",
    "\n",
    "Piensa en tu **VCN (Virtual Cloud Network)** como una **ciudad**. Dentro de esta ciudad hay muchas **calles** (subredes) y varias **casas** (instancias).\n",
    "\n",
    "El **Route Table** sería como **un mapa de rutas y señales de tránsito** que le dice a cada calle cómo llegar a otros lugares:\n",
    "\n",
    "* Por ejemplo, si una casa quiere enviar algo a otra ciudad (Internet), el **Route Table** indica qué camino tomar.\n",
    "* Si quiere comunicarse con otra subred dentro de la misma ciudad, también le dice la ruta correcta.\n",
    "\n",
    "En pocas palabras: **el Route Table decide cómo se enruta el tráfico de datos dentro de la red y hacia el exterior**, igual que un mapa decide por dónde deben ir los coches para llegar a su destino."
   ]
  },
  {
   "cell_type": "markdown",
   "id": "11f226db",
   "metadata": {},
   "source": [
    "## **7° Diferencia entre Load Balancer y Route Table**\n",
    "\n",
    "* El **Load Balancer** es como un recepcionista en la puerta de un edificio: recibe todas las solicitudes que vienen del exterior y las reparte a las diferentes oficinas (instancias) de manera equilibrada.\n",
    "\n",
    "* El **Route Table** (dentro de tu VCN) es como **el mapa de la ciudad y sus calles**: decide cómo viajan los autos (datos) **dentro de la ciudad** o hacia fuera. No decide quién entra al edificio, sino **cómo se mueven los datos dentro de la red y hacia Internet**.\n",
    "\n",
    "Así que ambos manejan tráfico, pero uno **gestiona el tráfico externo** hacia tus instancias, y el otro **gestiona el tráfico interno** y las rutas hacia afuera."
   ]
  },
  {
   "cell_type": "markdown",
   "id": "23f83dd6",
   "metadata": {},
   "source": [
    "## **8° ¿Qué es un Internet Gateway en OCI?**\n",
    "\n",
    "Un **Internet Gateway** en OCI es como **la puerta principal de tu vecindario** que conecta tu calle privada con la carretera principal de la ciudad (Internet).\n",
    "\n",
    "* Sin esa puerta, nadie de fuera puede entrar, y tus autos (datos) no pueden salir a la ciudad.\n",
    "* Con la puerta abierta, tus casas (instancias en la VCN) pueden comunicarse con el mundo exterior, recibir visitas o enviar correspondencia.\n",
    "\n",
    "En otras palabras, permite que los recursos dentro de tu **VCN** accedan a Internet y que Internet acceda a los recursos que tengan permiso."
   ]
  },
  {
   "cell_type": "markdown",
   "id": "e8eed5db",
   "metadata": {},
   "source": [
    "## **9° Que es un Componente es OCI**\n",
    "\n",
    "Imagina que **OCI (Oracle Cloud Infrastructure)** es como una **gran oficina de correos**.\n",
    "\n",
    "* Un **componente** en OCI sería como **cada parte o área de esa oficina** que tiene una función específica.\n",
    "\n",
    "  * Por ejemplo: el área donde reciben cartas, el área donde organizan paquetes, el área de atención al cliente, el área de computadoras para registrar envíos, etc.\n",
    "  * Cada “componente” tiene su propósito y trabaja junto con los otros componentes para que toda la oficina funcione correctamente.\n",
    "\n",
    "En OCI, los **componentes** son cosas como:\n",
    "\n",
    "* **VCN** → la red que conecta todo, como los pasillos que permiten que los empleados se muevan entre áreas.\n",
    "* **Subnet** → secciones de la oficina, como diferentes habitaciones dentro del edificio.\n",
    "* **Compartment** → cajones o archivadores donde guardas y organizas recursos.\n",
    "* **Load Balancer** → el encargado de repartir el trabajo entre varios empleados, como distribuir cartas entre varios carteros.\n",
    "\n",
    "En pocas palabras: un **componente en OCI es cualquier parte de la infraestructura en la nube que cumple una función específica dentro del sistema**."
   ]
  },
  {
   "cell_type": "markdown",
   "id": "34996e2e",
   "metadata": {},
   "source": [
    "## **10° ¿Qué es una instancia?**\n",
    "\n",
    "- Cada **instancia de cómputo** es como **un empleado dentro de la oficina**.  \n",
    "- Ese empleado tiene su **computadora, teléfono y escritorio**, y realiza tareas específicas, como procesar cartas, responder llamadas o revisar paquetes.  \n",
    "- La oficina tiene **varios empleados** (instancias) que pueden trabajar al mismo tiempo, y todos siguen las **reglas de la oficina** (Security List, NSG, Route Tables) para que todo funcione de manera ordenada.  \n",
    "\n",
    "En resumen:  \n",
    "- **Instancia = un trabajador que hace el trabajo concreto** dentro de la infraestructura de la nube.  \n",
    "- Puede haber muchas instancias haciendo el mismo trabajo o tareas distintas, pero todas dependen de la infraestructura que las rodea para poder operar.\n",
    "\n",
    "**¿Y en este caso de la analogía cuál sería la oficina? El VCN seria el mapa, la instancia sería la persona que trabaja, pero la oficina que sería?**\n",
    "\n",
    "* **VCN (Virtual Cloud Network)** → sería **el edificio completo** donde trabajan todos los empleados. Dentro de este edificio hay diferentes salas, pasillos y reglas de acceso. Es la **infraestructura de red** que conecta todo.\n",
    "* **Subnet (Oficina)** → sería **una sala o área dentro del edificio**. Algunas salas pueden ser públicas (con acceso directo a la calle/Internet) y otras privadas (solo accesibles desde dentro del edificio).\n",
    "* **Instancia** → sería **el empleado que realiza tareas dentro de la sala**.\n",
    "* **Compartment** → sería **un cajón de archivos o una caja organizadora de la oficina**, donde se guardan documentos importantes. No hace el trabajo, pero ayuda a mantener todo ordenado.\n",
    "* **Load Balancer** → sería **el recepcionista de la oficina**, que distribuye las solicitudes de los clientes a los diferentes empleados para que ninguno se sobrecargue."
   ]
  },
  {
   "cell_type": "markdown",
   "id": "5f5d8fdc",
   "metadata": {},
   "source": []
  }
 ],
 "metadata": {
  "language_info": {
   "name": "python"
  }
 },
 "nbformat": 4,
 "nbformat_minor": 5
}
