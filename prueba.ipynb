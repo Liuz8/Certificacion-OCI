{
 "cells": [
  {
   "cell_type": "markdown",
   "id": "26b9750e",
   "metadata": {},
   "source": [
    "Bloque 1\n",
    "Me puedes hacer 15 preguntas sobre este tema de OCI? Cloud Computing\n",
    "Me puedes hacer 15 preguntas sobre: Introduccion OCI?\n",
    "Me puedes hacer 15 preguntas sobre la Arquitectura de OCI?"
   ]
  },
  {
   "cell_type": "markdown",
   "id": "a59c89d2",
   "metadata": {},
   "source": []
  },
  {
   "cell_type": "markdown",
   "id": "22478a3f",
   "metadata": {},
   "source": [
    "Bloque 2\n",
    "¿Me puedes hacer 15 preguntas sobre IAM - Identity and Access Management?\n",
    "¿Me puedes hacer 15 preguntas sobre AuthN AuthZ de OCI?"
   ]
  },
  {
   "cell_type": "markdown",
   "id": "48e9883a",
   "metadata": {},
   "source": []
  },
  {
   "cell_type": "markdown",
   "id": "45e629b3",
   "metadata": {},
   "source": [
    "Bloque 3\n",
    "¿Me puedes hacer preguntas sobre Virtual Cloud Network VCN?\n",
    "¿Me puedes hacer 15 preguntas sobre Security List y NSG de OCI Foundation?"
   ]
  },
  {
   "cell_type": "markdown",
   "id": "1859e542",
   "metadata": {},
   "source": []
  }
 ],
 "metadata": {
  "language_info": {
   "name": "python"
  }
 },
 "nbformat": 4,
 "nbformat_minor": 5
}
