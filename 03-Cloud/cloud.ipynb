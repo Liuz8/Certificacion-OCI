{
 "cells": [
  {
   "cell_type": "markdown",
   "id": "acd2ff2d",
   "metadata": {},
   "source": [
    "# Bloque 1 - Entendiendo Oracle Cloud Infraestructure"
   ]
  },
  {
   "cell_type": "markdown",
   "id": "0b679b98",
   "metadata": {},
   "source": [
    "**``Cloud Computing``: Simplemente es la nube**"
   ]
  },
  {
   "cell_type": "markdown",
   "id": "50067d93",
   "metadata": {},
   "source": [
    "## Modelo de nube"
   ]
  },
  {
   "cell_type": "markdown",
   "id": "10ff959d",
   "metadata": {},
   "source": [
    "Existen diferentes modelos de implementacion de la nube\n",
    "\n",
    "- ``Nube pública``: Servicios disponibles para el público en general a través de Internet.\n",
    "\n",
    "- ``Nube privada``: Servicios dedicados a una organización especifíca\n",
    "\n",
    "- ``Nube híbrida``: Una combinación de nubes públicas y privadas."
   ]
  },
  {
   "cell_type": "markdown",
   "id": "66e2d230",
   "metadata": {},
   "source": [
    "## Arquitectura"
   ]
  },
  {
   "cell_type": "markdown",
   "id": "3b3fafa0",
   "metadata": {},
   "source": [
    "![01](img/01.png)"
   ]
  },
  {
   "cell_type": "markdown",
   "id": "1e416633",
   "metadata": {},
   "source": [
    "- ``Región``: Área geografica localizada, comprendida de una o más Dominios de Disponibilidad\n",
    "\n",
    "- ``Dominios de Disponibilidad(Availabilitu Domains)``: Son o más centros de datos tolerantes a fallas ubicados dentro de una región pero conectados entre sí mediante una red de baja latencia y alto ancho de banda.\n",
    "\n",
    "- ``Dominios de falla(Fault Domains)``: Es una agrupación de hardware e infraestructura dentro de un dominio de disponibilidad, son como centros de datos logicos.\n",
    "\n",
    "✅ **Diferencia:**\n",
    "\n",
    "```\n",
    "Región → varias Availability Domains (AD) → cada AD tiene varios Fault Domains (FD)\n",
    "```\n",
    "\n",
    "* **Región** → gran área geográfica\n",
    "* **AD** → centro de datos independiente dentro de la región\n",
    "* **FD** → grupo de hardware dentro de un AD"
   ]
  },
  {
   "cell_type": "markdown",
   "id": "b9339d4c",
   "metadata": {},
   "source": [
    "![02](img/02.png)"
   ]
  },
  {
   "cell_type": "markdown",
   "id": "ccc82561",
   "metadata": {},
   "source": [
    "**Dominios de disponibilidad**\n",
    "\n",
    "Isolado uno de cada otro, tolerante a fallas poco probables que falle simultaneamente.\n",
    "\n",
    "La infraestructura física no se comparte."
   ]
  },
  {
   "cell_type": "markdown",
   "id": "568716a7",
   "metadata": {},
   "source": [
    "**Dominios de falla**\n",
    "\n",
    "Cada Dominio de Disponibilidad tiene 3 Dominios de fallo. Data center lógico dentro de un Dominio de Disponibilidad."
   ]
  },
  {
   "cell_type": "markdown",
   "id": "84425057",
   "metadata": {},
   "source": [
    "![03](img/03.JPG)"
   ]
  },
  {
   "cell_type": "markdown",
   "id": "09b27511",
   "metadata": {},
   "source": [
    "![04](img/04.png)"
   ]
  },
  {
   "cell_type": "markdown",
   "id": "b493ab4f",
   "metadata": {},
   "source": [
    "### Escogiendo una region\n",
    "\n",
    "- Localización: Elegir una región que este cerca de tus usuarios para tener una baja latencia y un alto desempeño\n",
    "\n",
    "- Residencia de datos y cumplimiento: Muchos paises tienen requisitos estrictos dobre el almacenamiento de datos.\n",
    "\n",
    "- Disponibilidad de servicios: Los nuevos servicios en la nube se ponen a disposición en función de la demanda regional, el cumplimiento normativo, la disponibilidad de recursos y otros factores."
   ]
  },
  {
   "cell_type": "markdown",
   "id": "53efd4bb",
   "metadata": {},
   "source": [
    "## Pregunta sobre introducción a OCI #1"
   ]
  },
  {
   "cell_type": "markdown",
   "id": "51aac8f1",
   "metadata": {},
   "source": [
    "¿Qué concepto hace referencia a estar precavidos contra fallas dentro de un dominio de disponibilidad de OCI?\n",
    "\n",
    "**Dominio de fallas - Fault Domain**\n",
    "Los dominios de falla proporcionan una capacidad para proteger tus aplicaciones e instancias de fallas inesperadas de hardware o interrupciones de red dentro de un Dominio de Disponibilidad. Cada dominio de falla opera en su propio conjunto de hardware físico, por lo tanto, alguna falla que afecte a un dominio de falla no afecta a las instancias en otros dominios de fallo."
   ]
  },
  {
   "cell_type": "markdown",
   "id": "433d1d25",
   "metadata": {},
   "source": [
    "## Pregunta sobre introducción a OCI #2"
   ]
  },
  {
   "cell_type": "markdown",
   "id": "625e7f54",
   "metadata": {},
   "source": [
    "¿Qué afirmación sobre OCI NO es cierta?\n",
    "\n",
    "\n",
    "**Un único dominio de fallo puede estar asociado a múltiples dominios de disponibilidad dentro de una región.**\n",
    "Un dominio de fallo es una subdivisión de un dominio de disponibilidad. Cada dominio de disponibilidad contiene tres dominios de falla. Los dominios de falla permiten que distribuye tus instancias para que no estén en el mismo hardware físico dentro de un único dominio de disponibilidad. Un dominio de fallo no puede estar asociado a múltiples dominios de disponibilidad."
   ]
  },
  {
   "cell_type": "markdown",
   "id": "b9edd26f",
   "metadata": {},
   "source": [
    "## Pregunta sobre introducción a OCI #3"
   ]
  },
  {
   "cell_type": "markdown",
   "id": "99aeedc9",
   "metadata": {},
   "source": [
    "¿Qué servicio de Oracle Cloud Infrastructure NO está diseñado para una solución multicloud (nube múltiple)?\n",
    "\n",
    "\n",
    "**Oracle Roving Edge Infrastructure**\n",
    "\n",
    "Esta es la única opcion que no tiene el nombre de alg{un otro proveedor de nube, y a pesar que no se habló en videos sobre esta tecnología, lo importante es que sepas los nombres de otros proveedores como AWS, AZURE, GCP(Google Cloud Platform).\n",
    "\n",
    "Oracle Roving Edge Infrastructure es un servicio que proporciona un dispositivo portátil y resistente que ejecuta un subconjunto de servicios OCI, diseñado para implementación de campo fuera de un centro de datos tradicional. No es un servicio Diseñado específicamente para la implementación multicloud. Por otro lado, servicios como el Oracle Database Service for Azure y Oracle Interconnect for Azure están diseñados para permitir que Oracle Cloud Infrastructure interactúe con Azure, indicando un enfoque multicloud. Oracle MySQL HeatWave es un servicio de análisis para el servicio de base de datos MySQL que se ejecuta en AWS, pero la gestión de cuentas, la facturación y la medición se hacen a través de OCI."
   ]
  },
  {
   "cell_type": "markdown",
   "id": "a9e59618",
   "metadata": {},
   "source": [
    "## Pregunta sobre introducción a OCI #4"
   ]
  },
  {
   "cell_type": "markdown",
   "id": "42c605ef",
   "metadata": {},
   "source": [
    "Te suscribiste a una región OCI que tiene un dominio de disponibilidad. Deseas implementar una aplicación altamente disponible con dos servidores y una base de datos de 2 nodos. ¿Cómo colocarías los componentes para mantener la alta disponibilidad de la aplicación?\n",
    "\n",
    "**Poner un servidor y un nodo de la base de datos en un dominio de falla, y el segundo servidor y nodo de la base de datos en otro dominio de fallo**\n",
    "\n",
    "En este escenario, distribuir los servidores y nodos de base de datos en diferentes dominios de fallo dentro del mismo dominio de disponibilidad proporcionaría protección contra la falla de un único dominio de falla. Si un dominio de falla deja de estar disponible, el otro permanecería activo, garantizando la alta disponibilidad de la aplicación."
   ]
  },
  {
   "cell_type": "markdown",
   "id": "0bf73e0b",
   "metadata": {},
   "source": [
    "## Pregunta sobre introducción a OCI #5"
   ]
  },
  {
   "cell_type": "markdown",
   "id": "d4e00d70",
   "metadata": {},
   "source": [
    "¿Qué afirmación sobre las regiones y los dominios de disponibilidad es cierta?\n",
    "\n",
    "**Una región OCI tiene uno o más dominios de disponibilidad**\n",
    "\n",
    "Una región OCI está compuesta por uno o más dominios de disponibilidad aislados e interconectados. Cada dominio de disponibilidad es una ubicación física separado dentro de una región. El número de dominios de disponibilidad por región puede variar; algunas regiones de la OCI tienen tres dominios de disponibilidad, mientras que otras un único dominio de disponibilidad."
   ]
  },
  {
   "cell_type": "markdown",
   "id": "efa00fe1",
   "metadata": {},
   "source": [
    "# Bloque 2 - Identity and Accesss Management"
   ]
  },
  {
   "cell_type": "markdown",
   "id": "fa1968a0",
   "metadata": {},
   "source": [
    "## IAM"
   ]
  },
  {
   "cell_type": "markdown",
   "id": "d67a535b",
   "metadata": {},
   "source": [
    "**Identity and Access Management** - Identidad y Manejo de Accesos\n",
    "\n",
    "- **Fine-grained Access Control** - Control de Acceso Detallado\n",
    "\n",
    "- **Role Based Access Control RBAC** - Cntrol de Accesso Basado en Roles"
   ]
  },
  {
   "cell_type": "markdown",
   "id": "0825af89",
   "metadata": {},
   "source": [
    "## Componentes principales"
   ]
  },
  {
   "cell_type": "markdown",
   "id": "3a13d3a7",
   "metadata": {},
   "source": [
    "- `Comportamientos` (Comportaments)\n",
    "- `Usuarios` (Users)\n",
    "- `Grupos` (Groups)\n",
    "- `Políticas` (Policies)\n",
    "- `Dominio` (Tenancy) - Cuenta principal\n",
    "- `Llaves de acceso` (Tokens)"
   ]
  },
  {
   "cell_type": "markdown",
   "id": "d6b117a9",
   "metadata": {},
   "source": [
    "- `Federation` Es la capacidad de acceder con otras cuentas ed otras plataformas\n",
    "\n",
    "- `Principals` Es tener 2 computadoras y tener comunicacion entre ambas con ciertos roles"
   ]
  },
  {
   "cell_type": "markdown",
   "id": "23ff574b",
   "metadata": {},
   "source": [
    "![05](img/05.png)"
   ]
  },
  {
   "cell_type": "markdown",
   "id": "193913d6",
   "metadata": {},
   "source": [
    "* **Block Storage**: Disco virtual para guardar datos, como si fuera un disco duro.\n",
    "\n",
    "* **Object Storage**: Guarda archivos como fotos, videos o documentos en la nube.\n",
    "\n",
    "* **File Storage**: Comparte carpetas y archivos en red, como un servidor de archivos.\n",
    "\n",
    "* **Storage Gateway**: Conecta tu almacenamiento local con la nube.\n",
    "\n",
    "* **Buckets**: Carpeta donde se guardan archivos en *Object Storage*.\n",
    "\n",
    "* **Autonomous Database**: Base de datos que se administra sola (seguridad, parches, respaldo).\n",
    "\n",
    "* **Database System**: Base de datos en la nube que administras tú mismo.\n",
    "\n",
    "* **Virtual Machine (VM)**: Computadora virtual en la nube.\n",
    "\n",
    "* **Virtual Cloud Network (VCN)**: Red privada dentro de la nube.\n",
    "\n",
    "* **Load Balancer**: Reparte tráfico entre varios servidores para que no se saturen.\n",
    "\n",
    "* **Containers**: Paquetes ligeros que ejecutan aplicaciones de forma rápida y aislada.\n",
    "\n",
    "* **Container Engine for Kubernetes (OKE)**: Servicio para administrar contenedores con Kubernetes.\n",
    "\n",
    "* **Service Gateway**: Permite conectar tus recursos a servicios de Oracle sin pasar por internet.\n",
    "\n",
    "* **Internet Gateway**: Da acceso a internet a tu red en la nube.\n",
    "\n",
    "* **Autoscaling**: Ajusta automáticamente el número de recursos según la demanda.\n",
    "\n",
    "* **Instance Pools**: Grupo de máquinas virtuales configuradas igual para escalar fácilmente.\n",
    "\n",
    "* **Dynamic Routing Gateway (DRG)**: Conecta tu red local con la red de la nube.\n",
    "\n",
    "* **Route Table**: Reglas que indican por dónde viaja el tráfico de red.\n",
    "\n",
    "* **Functions**: Ejecuta código sin servidores (solo cuando se necesita).\n",
    "\n",
    "* **Container Registry**: Almacén seguro de imágenes de contenedores.\n",
    "\n",
    "* **Security Lists**: Reglas de seguridad que controlan qué tráfico entra y sale de tu red."
   ]
  },
  {
   "cell_type": "markdown",
   "id": "3ee09a64",
   "metadata": {},
   "source": [
    "## Compartment - Compartimiento"
   ]
  },
  {
   "cell_type": "markdown",
   "id": "7b181db4",
   "metadata": {},
   "source": [
    "- Colección de recursos relacionados\n",
    "\n",
    "- Isolados con control de acceso\n",
    "\n",
    "- El compartimento root \"principal\" puede manejar todos los recursos de OCI\n",
    "\n",
    "- Se pueden anidar hasta 6 niveles de compartimentos\n",
    "\n",
    "- Recomendación: Crea compartimentos dedicados para isolar recursos"
   ]
  },
  {
   "cell_type": "markdown",
   "id": "166ecbcb",
   "metadata": {},
   "source": [
    "![06](img/06.JPG)"
   ]
  },
  {
   "cell_type": "markdown",
   "id": "6c488262",
   "metadata": {},
   "source": [
    "## Identity Domains - Dominios de identidad"
   ]
  },
  {
   "cell_type": "markdown",
   "id": "394cb95d",
   "metadata": {},
   "source": [
    "Cntenedor para usuarios y grupos, representa usuarios en OCI asi como sus configuraciones y ajustes de seguridad asociados"
   ]
  },
  {
   "cell_type": "markdown",
   "id": "ec6269df",
   "metadata": {},
   "source": [
    "![07](img/07.JPG)"
   ]
  },
  {
   "cell_type": "markdown",
   "id": "61c76993",
   "metadata": {},
   "source": [
    "## Oracle Cloud ID - OCID"
   ]
  },
  {
   "cell_type": "markdown",
   "id": "b65d8eab",
   "metadata": {},
   "source": [
    "- ocid1 - Versión OCID\n",
    "\n",
    "- REALM - Configuración de regiones que comparten las mismas características comercial/gobierno\n",
    "\n",
    "- RESOURCE TYPE: tipo de recurso (instancia, volumen, vcn, subnet, user, group\n",
    "\n",
    "- UNIQUE ID: ID único creador para el recurso"
   ]
  },
  {
   "cell_type": "markdown",
   "id": "072d0ab7",
   "metadata": {},
   "source": [
    "![08](img/08.JPG)"
   ]
  },
  {
   "cell_type": "markdown",
   "id": "6c707b07",
   "metadata": {},
   "source": [
    "## Policies -Politicas"
   ]
  },
  {
   "cell_type": "markdown",
   "id": "504a1286",
   "metadata": {},
   "source": [
    "``Póliticas`` - Definiciones en formato entendible para definir los permisos granulares\n",
    "\n",
    "- `Allow group`: permitir al grupo\n",
    "- `<group_name>`: nombre de grupo\n",
    "- `to`: conexion para\n",
    "- `<verb>`: lo que va a poedr hacer\n",
    "- `<resource-type>`: el tipo de recurso\n",
    "- `in`: en donde\n",
    "- `tenancy`: el lugar en este caso en tenancy la cuenta principal\n",
    "\n",
    "**Nota**: Las políticas se puedes hacer desde tenancy o desde el compartimento."
   ]
  },
  {
   "cell_type": "markdown",
   "id": "85bdcfcf",
   "metadata": {},
   "source": [
    "![09](img/09.JPG)"
   ]
  },
  {
   "cell_type": "markdown",
   "id": "a27600fc",
   "metadata": {},
   "source": [
    "![10](img/10.JPG)"
   ]
  },
  {
   "cell_type": "markdown",
   "id": "fbc5b6e6",
   "metadata": {},
   "source": [
    "## AuthN y AuthZ"
   ]
  },
  {
   "cell_type": "markdown",
   "id": "eed2e2cd",
   "metadata": {},
   "source": [
    "**AuthN** - Autenticación\n",
    "\n",
    "¿Quién eres?\n",
    "\n",
    "**AuthZ** - Autorización\n",
    "\n",
    "¿Qué puedes hacer?"
   ]
  },
  {
   "cell_type": "markdown",
   "id": "04d57a06",
   "metadata": {},
   "source": [
    "## Configuración Tenancy - Cuenta"
   ]
  },
  {
   "cell_type": "markdown",
   "id": "32ee5dbc",
   "metadata": {},
   "source": [
    "No utilizar la cuenta de administración de Tenancy para las operaciones del día a día\n",
    "\n",
    "Crear compartimientos dedicados para isolar recursos\n",
    "\n",
    "Utilizar Multi-Factor Authentication MFA"
   ]
  },
  {
   "cell_type": "markdown",
   "id": "629f9cc9",
   "metadata": {},
   "source": [
    "![11](img/11.JPG)"
   ]
  },
  {
   "cell_type": "markdown",
   "id": "ab69f8e3",
   "metadata": {},
   "source": [
    "## acceso de Tenancy desde la plataforma"
   ]
  },
  {
   "cell_type": "markdown",
   "id": "47889eca",
   "metadata": {},
   "source": [
    "![12](img/12.JPG)"
   ]
  },
  {
   "cell_type": "markdown",
   "id": "3b2d39ff",
   "metadata": {},
   "source": [
    "## Domains & Policies & Compartments"
   ]
  },
  {
   "cell_type": "markdown",
   "id": "fc8bd1ce",
   "metadata": {},
   "source": [
    "![13](img/13.JPG)"
   ]
  },
  {
   "cell_type": "markdown",
   "id": "42daef0c",
   "metadata": {},
   "source": [
    "## creación de Compartment"
   ]
  },
  {
   "cell_type": "markdown",
   "id": "b20600e7",
   "metadata": {},
   "source": [
    "![14](img/14.JPG)"
   ]
  },
  {
   "cell_type": "markdown",
   "id": "296f120b",
   "metadata": {},
   "source": [
    "## Creación de Politícas"
   ]
  },
  {
   "cell_type": "markdown",
   "id": "d6e490b8",
   "metadata": {},
   "source": [
    "![15](img/15.JPG)"
   ]
  },
  {
   "cell_type": "markdown",
   "id": "f217a889",
   "metadata": {},
   "source": [
    "## Dentro del Compartment"
   ]
  },
  {
   "cell_type": "markdown",
   "id": "cd23ced9",
   "metadata": {},
   "source": [
    "![16](img/16.JPG)"
   ]
  },
  {
   "cell_type": "markdown",
   "id": "542b3db1",
   "metadata": {},
   "source": [
    "## Cambia el compartment desde identidad"
   ]
  },
  {
   "cell_type": "markdown",
   "id": "a6d4c81d",
   "metadata": {},
   "source": [
    "![17](img/17.JPG)"
   ]
  },
  {
   "cell_type": "markdown",
   "id": "2776dd9b",
   "metadata": {},
   "source": [
    "## Creacion de Dominio"
   ]
  },
  {
   "cell_type": "markdown",
   "id": "9151cb40",
   "metadata": {},
   "source": [
    "![18](img/18.JPG)"
   ]
  },
  {
   "cell_type": "markdown",
   "id": "5753e52d",
   "metadata": {},
   "source": [
    "## Crear usuarios desde el dominio"
   ]
  },
  {
   "cell_type": "markdown",
   "id": "96284a43",
   "metadata": {},
   "source": [
    "![19](img/19.JPG)"
   ]
  },
  {
   "cell_type": "markdown",
   "id": "4fb9cbc2",
   "metadata": {},
   "source": [
    "## Preguntas"
   ]
  },
  {
   "cell_type": "markdown",
   "id": "af9f9f66",
   "metadata": {},
   "source": [
    "### Pregunta sobre sobre Identity and Access Management #1"
   ]
  },
  {
   "cell_type": "markdown",
   "id": "73a620c2",
   "metadata": {},
   "source": [
    "¿Qué componente de IAM - Gestión de Identidad y Acceso ayuda a organizar a varios usuarios en un equipo?\n",
    "\n",
    "Grupos\n",
    "\n",
    "\n",
    "Los grupos en OCI Identity and Access Management (IAM) se utilizan para organizar varios usuarios en un equipo, facilitando la gestión de permisos y accesos."
   ]
  },
  {
   "cell_type": "markdown",
   "id": "a4fff8be",
   "metadata": {},
   "source": [
    "### Pregunta sobre sobre Identity and Access Management #2"
   ]
  },
  {
   "cell_type": "markdown",
   "id": "d9fab6d2",
   "metadata": {},
   "source": [
    "¿Cuál afirmación sobre OCI Identity and Access Management es verdadera?\n",
    "\n",
    "\n",
    "Permite controlar el acceso para un grupo de usuarios\n",
    "\n",
    "\n",
    "OCI Identity and Access Management (IAM) permite controlar el acceso para un grupo de usuarios, facilitando la gestión de permisos y accesos a los recursos en la nube."
   ]
  },
  {
   "cell_type": "markdown",
   "id": "d8ac53cf",
   "metadata": {},
   "source": [
    "### Pregunta sobre sobre Identity and Access Management #3"
   ]
  },
  {
   "cell_type": "markdown",
   "id": "4ff2e7ee",
   "metadata": {},
   "source": [
    "¿Qué afirmación sobre los compartimientos de la OCI NO es cierta?\n",
    "\n",
    "Es una práctica recomendada crear todos tus recursos en el compartimento raíz - root\n",
    "\n",
    "\n",
    "No es una práctica recomendada crear todos los recursos en el compartimento raíz. Los compartimentos se utilizan para organizar y aislar recursos, proporcionando un nivel más refinado de control de acceso."
   ]
  },
  {
   "cell_type": "markdown",
   "id": "be31c62e",
   "metadata": {},
   "source": [
    "### Pregunta sobre sobre Identity and Access Management #4"
   ]
  },
  {
   "cell_type": "markdown",
   "id": "8f301ee5",
   "metadata": {},
   "source": [
    "¿Cuál NO es un componente de OCI Identity and Access Management?\n",
    "\n",
    "Grupo de Seguridad de Red\n",
    "\n",
    "\n",
    "El grupo de seguridad de red es un componente de OCI Networking, no de IAM. El IAM en la OCI consiste en Principales, Políticas, Federación y algunos otros componentes."
   ]
  },
  {
   "cell_type": "markdown",
   "id": "bbc39d1d",
   "metadata": {},
   "source": [
    "### ¿Cómo se identifica un recurso en OCI?"
   ]
  },
  {
   "cell_type": "markdown",
   "id": "d6fbda82",
   "metadata": {},
   "source": [
    "Con OCID\n",
    "\n",
    "\n",
    "Cada recurso en OCI está identificado por un Oracle Cloud Identifier (OCID) único, que se utiliza para identificar el recurso."
   ]
  },
  {
   "cell_type": "markdown",
   "id": "c6cee06f",
   "metadata": {},
   "source": [
    "# Bloque 3 - Networking"
   ]
  },
  {
   "cell_type": "markdown",
   "id": "33eb0add",
   "metadata": {},
   "source": [
    "## VCN - Virtual Cloud Network (Red Virtual de la Nube)"
   ]
  },
  {
   "cell_type": "markdown",
   "id": "697b09b5",
   "metadata": {},
   "source": [
    "- Servicio por región\n",
    "\n",
    "- Provee alta disponibilidad\n",
    "\n",
    "- Comunicación segura"
   ]
  },
  {
   "cell_type": "markdown",
   "id": "62772f69",
   "metadata": {},
   "source": [
    "![20](img/20.JPG)"
   ]
  },
  {
   "cell_type": "markdown",
   "id": "3fbb868e",
   "metadata": {},
   "source": [
    "### CIDR"
   ]
  },
  {
   "cell_type": "markdown",
   "id": "cd7280bf",
   "metadata": {},
   "source": [
    "**CIDR** - Classless Inter-Domain Roting Enrutamiento entre dominios sin clase\n",
    "\n",
    "- ``VCN`` - 10.0.0.0/16\n",
    "- ``Public Subnet`` - 10.0.1.0/24\n",
    "- ``Private Subnet`` - 10.0.2.0/24\n",
    "- ``... Subnet`` - 10.0.x.x/24"
   ]
  },
  {
   "cell_type": "markdown",
   "id": "c04113db",
   "metadata": {},
   "source": [
    "![21](img/21.JPG)"
   ]
  },
  {
   "cell_type": "markdown",
   "id": "cf46d3e0",
   "metadata": {},
   "source": [
    "- `VCN`: - Virtual Cloud Network\n",
    "- `Public Subnet 10.0.1.0/24`: Esta red se utiliza para conectarse a la red del exterior\n",
    "- `Internet Gateway`: Comunicación Bidireccional - Se conecta hacia internet, sale y entra\n",
    "- `Private subnet 10.0.2.0/24`: \n",
    "- `NAT Gateway`: Es un canal para tener comunicación en un solo sentido, nosotros podemos hacer peticiones hacía internet, pero internetno puedo hacer peticiones hacía nostros\n",
    "- `outband`: trafico de salida\n",
    "- `Inbound`: trafico que sale de mi red\n",
    "- `Servicie Gateway`: Nos permite tener comunicacion en servicios internos de oracle cloud infrestructure"
   ]
  },
  {
   "cell_type": "markdown",
   "id": "767ed8e9",
   "metadata": {},
   "source": [
    "![22](img/22.JPG)"
   ]
  },
  {
   "cell_type": "markdown",
   "id": "828d3ce3",
   "metadata": {},
   "source": [
    "- `Dynamic Routing Gateway`: la idea es tener otro tipo de comunicacion sin internet, se utiliza el sisteme On-Premises (servidores propios) utilizando herramientas como e VPN o FastConnect"
   ]
  },
  {
   "cell_type": "markdown",
   "id": "c33e38af",
   "metadata": {},
   "source": [
    "![23](img/23.JPG)"
   ]
  },
  {
   "cell_type": "markdown",
   "id": "b12673fd",
   "metadata": {},
   "source": [
    "### VCN Wiward - Virtual Cloud Network"
   ]
  },
  {
   "cell_type": "markdown",
   "id": "8dd492b1",
   "metadata": {},
   "source": [
    "Te crea la estructura básica de una VCN"
   ]
  },
  {
   "cell_type": "markdown",
   "id": "0dc6e088",
   "metadata": {},
   "source": [
    "### Resumen de VCN"
   ]
  },
  {
   "cell_type": "markdown",
   "id": "6c6ca8fa",
   "metadata": {},
   "source": [
    "- `Internet Gateway`: Comunicacion bidireccional entre la VCN e internet\n",
    "- `Service Gateway`: Acceso desde la VCN paraservidios publicos de Orace\n",
    "- `NAT Gateway`: Comunicacion de una sola direccion entre la VCN e internet\n",
    "- `Dynamic Routing Gateway`: Acceso desde la VCN a otros destinos ademos de internet"
   ]
  },
  {
   "cell_type": "markdown",
   "id": "f3885965",
   "metadata": {},
   "source": [
    "## Rout Table - Tabla de rutas"
   ]
  },
  {
   "cell_type": "markdown",
   "id": "1eab8444",
   "metadata": {},
   "source": [
    "Es para tener una lista para saber que es lo que va a pasar cuando queramos enviar o recibir datos fuenra de nuestra vcn"
   ]
  },
  {
   "cell_type": "markdown",
   "id": "91388821",
   "metadata": {},
   "source": [
    "Route target es elelemento en donde llegarán las peticiones de internet\n",
    "\n",
    "NATE Gateway es el intermediario que recibe la solicitud antes de que llegue a su destino final\n",
    "\n",
    "Dynamic Routing Gateway funciona con el mismo proposito que NATE Gateway"
   ]
  },
  {
   "cell_type": "markdown",
   "id": "87d0dd0f",
   "metadata": {},
   "source": [
    "## Peering - Hacia donde vas"
   ]
  },
  {
   "cell_type": "markdown",
   "id": "80c13ebf",
   "metadata": {},
   "source": [
    "Claro 👍\n",
    "\n",
    "En **Oracle Cloud**, el **VCN Peering** sirve para **conectar dos redes virtuales (VCN)** de forma privada y segura, **sin usar Internet**.\n",
    "\n",
    "📌 ¿Para qué se usa?\n",
    "\n",
    "* Para que los recursos (VMs, bases de datos, etc.) en un VCN puedan comunicarse con recursos en otro VCN.\n",
    "* Es útil cuando tienes aplicaciones divididas en distintas redes, pero necesitan hablar entre sí.\n",
    "* Se puede usar dentro de la **misma región** (*Local Peering Gateway*) o entre **regiones diferentes** (*Remote Peering Gateway*).\n",
    "\n",
    "👉 En resumen: **Peering = puente privado entre redes VCN**.\n",
    "\n",
    "¿Quieres que te haga un **ejemplo práctico sencillo** de cómo se usaría en un escenario real?\n"
   ]
  },
  {
   "cell_type": "markdown",
   "id": "95dbc3f9",
   "metadata": {},
   "source": [
    "### Diferencia entre Peering y Route Table"
   ]
  },
  {
   "cell_type": "markdown",
   "id": "1a330c4c",
   "metadata": {},
   "source": [
    "Buena pregunta 👌\n",
    "\n",
    "No es lo mismo:\n",
    "\n",
    "* **VCN Peering**:\n",
    "  🔹 Conecta **dos redes (VCNs) distintas** para que puedan comunicarse entre sí.\n",
    "  🔹 Es como tender un **puente** entre dos barrios.\n",
    "\n",
    "* **Route Table**:\n",
    "  🔹 Define **por dónde viaja el tráfico dentro de un VCN** o hacia afuera (por ejemplo: internet, otro VCN, tu red local).\n",
    "  🔹 Es como un **mapa de calles** que indica la ruta a seguir.\n",
    "\n",
    "👉 Diferencia clave:\n",
    "\n",
    "* **Peering** crea la conexión entre redes.\n",
    "* **Route Table** decide **cómo** se mueven los datos por esas conexiones."
   ]
  },
  {
   "cell_type": "markdown",
   "id": "690387a0",
   "metadata": {},
   "source": [
    "Te lo explico simple, Luis 👇\n",
    "\n",
    "El **Dynamic Routing Gateway (DRG v2)** en Oracle Cloud sirve para **conectar tu red en la nube (VCN)** con:\n",
    "\n",
    "* Tu **red local (on-premise)** a través de VPN o conexión dedicada (FastConnect).\n",
    "* **Otras VCNs** dentro o fuera de la región, de manera centralizada.\n",
    "\n",
    "🔹 La diferencia con la versión anterior (**DRG v1**) es que **DRG v2 es más flexible y modular**:\n",
    "\n",
    "* Puedes crear **conexiones múltiples** (VPN, FastConnect, VCNs) en un mismo DRG.\n",
    "* Maneja el enrutamiento de manera **dinámica y centralizada**.\n",
    "* Facilita el **hub-and-spoke** (un DRG como centro que conecta varias redes).\n",
    "\n",
    "👉 En resumen:\n",
    "El **DRG v2** es como un **enrutador avanzado en la nube** que conecta tu red de Oracle con otras redes (internas o externas) de forma segura y dinámica."
   ]
  },
  {
   "cell_type": "markdown",
   "id": "8e5ff1ad",
   "metadata": {},
   "source": [
    "## **DRG v1 vs DRG v2**"
   ]
  },
  {
   "cell_type": "markdown",
   "id": "b21eb51a",
   "metadata": {},
   "source": [
    "**comparación clara y corta entre DRG v1 y DRG v2 en Oracle Cloud**:\n",
    "\n",
    "---\n",
    "\n",
    "### 🔹 **DRG v1**\n",
    "\n",
    "* Conecta un **VCN con tu red local** (VPN o FastConnect).\n",
    "* Enrutamiento más **limitado** y rígido.\n",
    "* No permite conectar varios VCNs entre sí fácilmente.\n",
    "* Pensado solo para **punto a punto** (VCN ↔ on-premise).\n",
    "\n",
    "---\n",
    "\n",
    "### 🔹 **DRG v2**\n",
    "\n",
    "* Conecta **varios VCNs**, tu red local y otras regiones en un solo DRG.\n",
    "* Enrutamiento **dinámico y centralizado** (más flexible).\n",
    "* Permite crear topologías tipo **hub-and-spoke** (un DRG central conectando varias redes).\n",
    "* Escalable y más fácil de administrar.\n",
    "\n",
    "---\n",
    "\n",
    "👉 En resumen:\n",
    "\n",
    "* **DRG v1 = conexión simple** (VCN ↔ local).\n",
    "* **DRG v2 = enrutador avanzado** para conectar **múltiples redes** (VCNs, on-premise, regiones)."
   ]
  },
  {
   "cell_type": "markdown",
   "id": "7fb1febb",
   "metadata": {},
   "source": [
    "## **Security List - Network Security Group**"
   ]
  },
  {
   "cell_type": "markdown",
   "id": "901aacf7",
   "metadata": {},
   "source": [
    "- Relas de ingreso y egreso que espicifican el tipo de trafico permitido in/out\n",
    "\n",
    "- Security List: Lista de reglas que aplicanpara todos los recursos en una subnet\n",
    "\n",
    "- NDG: Lista de reglas que aplican a cualquier recurso en la VCN que espicificamos (VNICs - Virtual Network Interface Cards)"
   ]
  },
  {
   "cell_type": "markdown",
   "id": "2e42ccf9",
   "metadata": {},
   "source": [
    "En **Oracle Cloud**, tanto **Security List** como **Network Security Group (NSG)** sirven para **controlar el tráfico de red** (quién entra y quién sale de tus recursos, como VMs o bases de datos).\n",
    "\n",
    "---\n",
    "\n",
    "### 🔹 **Security List (SL)**\n",
    "\n",
    "* Se aplica a **subnets completas**.\n",
    "* Son como reglas de seguridad generales: “todo lo que esté en esta red sigue estas reglas”.\n",
    "* Ejemplo: *toda la subnet acepta tráfico HTTP (puerto 80)*.\n",
    "\n",
    "---\n",
    "\n",
    "### 🔹 **Network Security Group (NSG)**\n",
    "\n",
    "* Se aplica a **recursos específicos** (instancias, balanceadores, etc.) dentro de la subnet.\n",
    "* Más flexible y detallado, porque puedes poner reglas distintas para cada recurso.\n",
    "* Ejemplo: *solo este servidor acepta tráfico SSH (puerto 22)*.\n",
    "\n",
    "---\n",
    "\n",
    "👉 **Diferencia clave**:\n",
    "\n",
    "* **Security List = reglas por red completa** (más global).\n",
    "* **NSG = reglas por recurso específico** (más fino y flexible).\n",
    "\n",
    "---"
   ]
  },
  {
   "cell_type": "markdown",
   "id": "e880b925",
   "metadata": {},
   "source": [
    "Claro que sí, Luis 🙌\n",
    "Aquí tienes la **tabla de Security List > Firewall Rules** con sus características principales y después te explico **para qué sirve cada una**:\n",
    "\n",
    "---\n",
    "\n",
    "### 🔹 Tabla de características\n",
    "\n",
    "| **Característica**          | **Qué significa**                                                                       | **Ejemplo**                                                                              |\n",
    "| --------------------------- | --------------------------------------------------------------------------------------- | ---------------------------------------------------------------------------------------- |\n",
    "| **Stateful**                | Si la regla recuerda la conexión y permite automáticamente la respuesta sin otra regla. | Si permites entrada al puerto 80, la respuesta sale sola.                                |\n",
    "| **Direction**               | Dirección del tráfico: **Ingress (entrada)** o **Egress (salida)**.                     | Entrada: clientes accediendo a tu servidor. Salida: tu servidor conectándose a Internet. |\n",
    "| **Source/Destination CIDR** | Rango de IPs de origen o destino definido en notación CIDR.                             | `0.0.0.0/0` (toda Internet) o `10.0.0.0/16` (tu red interna).                            |\n",
    "| **Protocol**                | Tipo de protocolo de red al que aplica la regla.                                        | TCP, UDP, ICMP.                                                                          |\n",
    "| **Source Port**             | Puerto de origen desde donde sale el tráfico.                                           | Cliente puede usar un puerto alto (ej: 54321).                                           |\n",
    "| **Destination Port**        | Puerto de destino al que llega el tráfico.                                              | Puerto 80 (HTTP), 22 (SSH), 1521 (Oracle DB).                                            |\n",
    "\n",
    "---\n",
    "\n",
    "### 🔹 Explicación sencilla de cada cosa\n",
    "\n",
    "* **Stateful**:\n",
    "  🔹 Si está en **Stateful**, no necesitas una regla extra para la respuesta.\n",
    "  🔹 Si está en **Stateless**, debes crear reglas tanto de entrada como de salida.\n",
    "\n",
    "* **Direction**:\n",
    "  🔹 **Ingress** = controla quién puede entrar a tus recursos.\n",
    "  🔹 **Egress** = controla qué tráfico puede salir desde tus recursos.\n",
    "\n",
    "* **Source/Destination CIDR**:\n",
    "  🔹 Es un rango de IPs escrito en formato `IP/Máscara`.\n",
    "  🔹 Define **de dónde viene** o **a dónde va** el tráfico.\n",
    "\n",
    "* **Protocol**:\n",
    "  🔹 Indica el tipo de comunicación.\n",
    "  🔹 Ejemplo:\n",
    "\n",
    "  * **TCP**: conexiones estables (web, SSH, DB).\n",
    "  * **UDP**: rápido y sin confirmación (DNS, streaming).\n",
    "  * **ICMP**: mensajes de red (ping).\n",
    "\n",
    "* **Source Port**:\n",
    "  🔹 El puerto desde donde el cliente inicia la conexión.\n",
    "  🔹 Normalmente es **aleatorio y alto** (ej: 49152+).\n",
    "\n",
    "* **Destination Port**:\n",
    "  🔹 El puerto al que llega la conexión en tu recurso.\n",
    "  🔹 Es el **servicio** que estás protegiendo (ej: 80 para web, 22 para SSH).\n",
    "\n",
    "---\n",
    "\n",
    "👉 En resumen: **las reglas de Security List funcionan como un firewall** que define **qué tráfico entra y sale**, basado en dirección, IPs, protocolo y puertos."
   ]
  },
  {
   "cell_type": "markdown",
   "id": "713d918f",
   "metadata": {},
   "source": [
    "## Load Balancer - Balanceador de carga"
   ]
  },
  {
   "cell_type": "markdown",
   "id": "cda4a2cb",
   "metadata": {},
   "source": [
    "Muy buena, Luis 👌 te lo explico claro y sencillo:\n",
    "\n",
    "---\n",
    "\n",
    "### 🔹 ¿Para qué es un **Load Balancer**?\n",
    "\n",
    "Un **Load Balancer** en Oracle Cloud sirve para:\n",
    "\n",
    "* **Repartir el tráfico** de usuarios entre varias máquinas (VMs, contenedores, etc.).\n",
    "* **Evitar que un servidor se sobrecargue**.\n",
    "* **Asegurar alta disponibilidad**: si una máquina falla, redirige el tráfico a otra.\n",
    "\n",
    "👉 En resumen: **es como un repartidor de autos en una caseta de peaje que manda a cada carril para evitar tráfico** 🚗🚙🚛.\n",
    "\n",
    "---\n",
    "\n",
    "### 🔹 ¿Cómo funciona?\n",
    "\n",
    "1. Los usuarios entran a una sola dirección (ejemplo: `miapp.com`).\n",
    "2. El **Load Balancer recibe la petición**.\n",
    "3. Lo **distribuye entre varias instancias** de tu aplicación según reglas (round-robin, menos carga, etc.).\n",
    "4. Si una instancia se cae, el Load Balancer la detecta y **deja de enviarle tráfico** (health checks).\n",
    "\n",
    "---\n",
    "\n",
    "### 🔹 Ejemplo rápido\n",
    "\n",
    "Imagina que tienes una app web con 3 servidores (VMs).\n",
    "\n",
    "* Sin Load Balancer: todos los usuarios llegan directo a un solo servidor → puede saturarse.\n",
    "* Con Load Balancer: el tráfico se reparte entre los 3 servidores → rápido, estable y seguro.\n",
    "\n",
    "---\n",
    "\n",
    "👉 Con esto, tu aplicación puede atender **más usuarios, más rápido y sin caídas**."
   ]
  },
  {
   "cell_type": "markdown",
   "id": "11e48a36",
   "metadata": {},
   "source": [
    "### **Tipos de Load Balancer**"
   ]
  },
  {
   "cell_type": "markdown",
   "id": "abb08745",
   "metadata": {},
   "source": [
    "Muy buena pregunta, Luis 👌\n",
    "En **Oracle Cloud Infrastructure (OCI)** existen **dos tipos principales de Load Balancer**. Te lo resumo:\n",
    "\n",
    "---\n",
    "\n",
    "#### 🔹 1. **Public Load Balancer**\n",
    "\n",
    "* Tiene una **IP pública**.\n",
    "* Se usa para aplicaciones que deben ser accesibles desde **Internet**.\n",
    "* Ejemplo: un sitio web al que entran tus clientes.\n",
    "\n",
    "---\n",
    "\n",
    "#### 🔹 2. **Private Load Balancer**\n",
    "\n",
    "* Tiene solo una **IP privada** dentro de tu **VCN**.\n",
    "* Se usa para aplicaciones internas, accesibles solo dentro de tu red en la nube.\n",
    "* Ejemplo: balancear tráfico entre microservicios dentro de tu empresa.\n",
    "\n",
    "---\n",
    "\n",
    "#### 🔹 Diferencias clave\n",
    "\n",
    "| Característica   | Public Load Balancer 🌍  | Private Load Balancer 🔒      |\n",
    "| ---------------- | ------------------------ | ----------------------------- |\n",
    "| **Visibilidad**  | Desde Internet           | Solo dentro de la VCN         |\n",
    "| **Dirección IP** | Pública                  | Privada                       |\n",
    "| **Uso típico**   | Sitios web, apps móviles | Apps internas, bases de datos |\n",
    "| **Seguridad**    | Mayor exposición         | Más restringido               |\n",
    "\n",
    "---\n",
    "\n",
    "👉 En pocas palabras:\n",
    "\n",
    "* **Public LB = puerta de entrada desde Internet.**\n",
    "* **Private LB = distribuidor interno en tu red.**\n",
    "\n",
    "---"
   ]
  },
  {
   "cell_type": "markdown",
   "id": "b6cf6536",
   "metadata": {},
   "source": [
    "### Network Load Balancer"
   ]
  },
  {
   "cell_type": "markdown",
   "id": "b08aac38",
   "metadata": {},
   "source": [
    "Muy buena, Luis 👌\n",
    "El **Network Load Balancer (NLB)** en **Oracle Cloud** es **otro tipo de load balancer**, distinto al “clásico” (**OCI Load Balancer**).\n",
    "\n",
    "---\n",
    "\n",
    "#### 🔹 Diferencias principales\n",
    "\n",
    "| Característica   | **Load Balancer clásico (LBaaS)**                           | **Network Load Balancer (NLB)**                    |\n",
    "| ---------------- | ----------------------------------------------------------- | -------------------------------------------------- |\n",
    "| **Nivel de red** | Capa 7 (Aplicación) y Capa 4 (Transporte)                   | Capa 4 (Transporte)                                |\n",
    "| **Inteligencia** | Puede entender el tráfico (HTTP/HTTPS, cabeceras, cookies). | No interpreta, solo redirige paquetes de red.      |\n",
    "| **Velocidad**    | Buen rendimiento, pero menos que NLB.                       | Ultra rápido, maneja millones de conexiones.       |\n",
    "| **Casos de uso** | Apps web, balanceo inteligente por URL, SSL termination.    | Tráfico masivo, IoT, gaming, VoIP, alta velocidad. |\n",
    "| **IP fija**      | No tiene IP fija (usa DNS).                                 | Sí tiene IP fija pública o privada.                |\n",
    "\n",
    "---\n",
    "\n",
    "#### 🔹 ¿Cómo funciona?\n",
    "\n",
    "* El **NLB** actúa como un **conmutador rápido** que recibe tráfico y lo reparte entre instancias **sin analizarlo**.\n",
    "* A diferencia del LB clásico, no hace cosas como desencriptar SSL ni redirigir según la URL, solo distribuye paquetes a nivel de red.\n",
    "\n",
    "---\n",
    "\n",
    "#### 🔹 En resumen\n",
    "\n",
    "* **Load Balancer clásico** → más “inteligente” (entiende HTTP/HTTPS, balancea por contenido).\n",
    "* **Network Load Balancer (NLB)** → más “rápido y bruto” (solo mueve paquetes, ideal para tráfico enorme).\n",
    "\n",
    "---\n",
    "\n",
    "¿Quieres que te arme una **comparación con ejemplo práctico**? (ejemplo: cuándo usar LB clásico vs cuándo usar NLB en una app real).\n"
   ]
  },
  {
   "cell_type": "markdown",
   "id": "433aab7f",
   "metadata": {},
   "source": [
    "### Políticas de balanceo de un **Load Balancer**"
   ]
  },
  {
   "cell_type": "markdown",
   "id": "7ffd358c",
   "metadata": {},
   "source": [
    "Claro Luis 👌 te explico de manera **clara y fácil** las diferencias entre las políticas de balanceo de un **Load Balancer**:  \n",
    "\n",
    "---\n",
    "\n",
    "#### 🔹 1. **Weighted Round Robin (WRR)**  \n",
    "- **Cómo funciona**: Reparte las conexiones **en orden rotativo** entre los servidores, pero teniendo en cuenta un **peso asignado a cada uno**.  \n",
    "- **Cuándo usarlo**: Cuando tus servidores tienen **diferente capacidad** (CPU, memoria).  \n",
    "- **Ejemplo**: Servidor A (peso 2), Servidor B (peso 1) → A recibe 2 conexiones por cada 1 de B.  \n",
    "\n",
    "---\n",
    "\n",
    "#### 🔹 2. **IP Hash**  \n",
    "- **Cómo funciona**: Determina a qué servidor enviar la conexión usando un **hash de la IP del cliente**.  \n",
    "- **Cuándo usarlo**: Cuando necesitas que **un mismo cliente siempre vaya al mismo servidor** (persistencia de sesión).  \n",
    "- **Ejemplo**: Cliente con IP 123.45.67.89 → siempre irá al Servidor B.  \n",
    "\n",
    "---\n",
    "\n",
    "#### 🔹 3. **Least Connections**  \n",
    "- **Cómo funciona**: Envía la nueva conexión al **servidor que tenga menos conexiones activas**.  \n",
    "- **Cuándo usarlo**: Cuando el tráfico es **muy variable** y quieres **balancear carga real**, no solo rotativa.  \n",
    "- **Ejemplo**: Servidor A tiene 5 conexiones, Servidor B tiene 2 → la siguiente conexión va al Servidor B.  \n",
    "\n",
    "---\n",
    "\n",
    "#### 🔹 Resumen rápido  \n",
    "\n",
    "| Política             | Método principal            | Mejor para |\n",
    "|---------------------|----------------------------|------------|\n",
    "| Weighted Round Robin | Rotación con pesos          | Servidores con diferentes capacidades |\n",
    "| IP Hash             | Basado en IP del cliente    | Mantener sesión del cliente en el mismo servidor |\n",
    "| Least Connections   | Menos conexiones activas    | Tráfico variable y balance real de carga |\n",
    "\n",
    "---"
   ]
  },
  {
   "cell_type": "markdown",
   "id": "bdb0e354",
   "metadata": {},
   "source": [
    "### Listener"
   ]
  },
  {
   "cell_type": "markdown",
   "id": "dcc8a8cd",
   "metadata": {},
   "source": [
    "Te lo explico simple, Luis 👌\n",
    "\n",
    "En un **Load Balancer**, el **listener** es como un **portero** que:\n",
    "\n",
    "* **Escucha las solicitudes** que llegan a un puerto específico de tu Load Balancer.\n",
    "* Decide **qué reglas aplicar** (protocolo, puerto, certificados SSL si es HTTPS).\n",
    "* Luego **envía la solicitud** al **backend** (las instancias o servidores que tienen tu aplicación).\n",
    "\n",
    "---\n",
    "\n",
    "#### 🔹 Ejemplo rápido\n",
    "\n",
    "* Tienes un sitio web en `miapp.com` usando **HTTP (puerto 80)** y **HTTPS (puerto 443)**.\n",
    "* Creas dos **listeners**:\n",
    "\n",
    "  1. Listener en puerto 80 → recibe tráfico HTTP y lo envía al backend.\n",
    "  2. Listener en puerto 443 → recibe tráfico HTTPS, hace SSL termination y lo envía al backend.\n",
    "\n",
    "---\n",
    "\n",
    "👉 En pocas palabras:\n",
    "**Listener = oídos del Load Balancer que captan el tráfico en un puerto y lo envían a los servidores correctos.**"
   ]
  },
  {
   "cell_type": "markdown",
   "id": "ed3ef7f2",
   "metadata": {},
   "source": [
    "## Preguntas"
   ]
  },
  {
   "cell_type": "markdown",
   "id": "068b4050",
   "metadata": {},
   "source": [
    "### **¿Cuál afirmación sobre la conexión(peering) de Virtual Cloud Network (VCN) entre dos VCNs NO es válida?**"
   ]
  },
  {
   "cell_type": "markdown",
   "id": "f2b8eb5f",
   "metadata": {},
   "source": [
    "Los VCNs no pueden tener CIDRs superpuestos\n",
    "\n",
    "Los CIDRs de los VCNs emparejados no deben superponerse – la sugerencia oficial de Oracle sería usar diferentes CIDRs si es necesario."
   ]
  },
  {
   "cell_type": "markdown",
   "id": "45743186",
   "metadata": {},
   "source": [
    "### **¿Cuál afirmación sobre una Virtual Cloud Network (VCN) es verdadera?**"
   ]
  },
  {
   "cell_type": "markdown",
   "id": "3fa5f9c0",
   "metadata": {},
   "source": [
    "Una VCN puede residir solo en una única región, pero puede abarcar varios dominios de disponibilidad\n",
    "\n",
    "\n",
    "Una VCN es una red privada virtual configurada en centros de datos de Oracle en una única región de OCI y puede abarcar todos los dominios de disponibilidad de esa región."
   ]
  },
  {
   "cell_type": "markdown",
   "id": "85dc61f9",
   "metadata": {},
   "source": [
    "### **¿Qué componente NO se crea por defecto al crear una Red de Nube Virtual?**"
   ]
  },
  {
   "cell_type": "markdown",
   "id": "87bcb1d0",
   "metadata": {},
   "source": [
    "Gateway de Emparejamiento Local Predeterminado - Local Peering\n",
    "\n",
    "\n",
    "Cuando se crea una VCN, se generan automáticamente una tabla de ruta predeterminada, una lista de seguridad predeterminada y opciones de DHCP, pero un Gateway de Emparejamiento Local (LPG) no se crea por defecto. Como parte de la configuración de VCN, cada administrador debe crear un LPG para su respectivo VCN."
   ]
  },
  {
   "cell_type": "markdown",
   "id": "bafe8c1a",
   "metadata": {},
   "source": [
    "### **¿Qué tráfico de capa OSI es compatible con el Balanceador de Carga de Red - Network Load Balancer de OCI?**"
   ]
  },
  {
   "cell_type": "markdown",
   "id": "f2d5d479",
   "metadata": {},
   "source": [
    "Capa 4 (transporte)\n",
    "\n",
    "\n",
    "El Balanceador de Carga de Red de OCI opera en la capa 4 del modelo OSI, que es la capa de transporte."
   ]
  },
  {
   "cell_type": "markdown",
   "id": "ea905a43",
   "metadata": {},
   "source": [
    "### **¿Qué componente de la VCN bloquea el tráfico de entrada pero permite el tráfico de salida a Internet?**"
   ]
  },
  {
   "cell_type": "markdown",
   "id": "7420ab9a",
   "metadata": {},
   "source": [
    "NAT Gateway\n",
    "\n",
    "\n",
    "Un Gateway NAT en una VCN permite que las instancias en una subred privada inicien conexiones con Internet, pero impide conexiones de entrada no solicitadas desde Internet."
   ]
  },
  {
   "cell_type": "markdown",
   "id": "529f00c5",
   "metadata": {},
   "source": [
    "# Bloque 4 - Compute"
   ]
  },
  {
   "cell_type": "markdown",
   "id": "75d1a4f9",
   "metadata": {},
   "source": [
    "Claro Luis 🙌 te lo resumo de forma clara y sencilla:\n",
    "\n",
    "---\n",
    "\n",
    "## 🔹 ¿Qué es **Compute** en Oracle Cloud?\n",
    "\n",
    "* Es el servicio que te da **capacidad de cómputo** (servidores) en la nube.\n",
    "* Con Compute puedes lanzar **instancias** para correr tus aplicaciones, bases de datos o servicios.\n",
    "* Es como rentar computadoras/servidores en la nube en lugar de comprarlos físicamente.\n",
    "\n",
    "---\n",
    "\n",
    "## 🔹 Tipos de **Compute**\n",
    "\n",
    "1. **Virtual Machine (VM)**\n",
    "\n",
    "   * Es un servidor virtual que corre sobre hardware compartido.\n",
    "   * Usas solo una **parte del servidor físico**.\n",
    "   * Ideal para la mayoría de aplicaciones normales (web, apps, pruebas, desarrollo).\n",
    "   * **Ejemplo**: tener una computadora virtual en la nube con Linux o Windows.\n",
    "\n",
    "2. **Bare Metal**\n",
    "\n",
    "   * Es un servidor **físico completo**, sin virtualización.\n",
    "   * Todo el hardware es solo para ti.\n",
    "   * Máximo rendimiento y sin “vecinos ruidosos”.\n",
    "   * **Ejemplo**: cargas muy pesadas como bases de datos grandes, IA, Big Data.\n",
    "\n",
    "3. **Dedicated Host**\n",
    "\n",
    "   * Es un servidor físico entero, pero sobre él puedes crear **varias VMs solo tuyas**.\n",
    "   * Combina lo mejor de VM y Bare Metal:\n",
    "\n",
    "     * Control total del hardware.\n",
    "     * Flexibilidad de correr varias máquinas virtuales.\n",
    "   * **Ejemplo**: cuando necesitas cumplir con regulaciones (ej. que tu hardware no sea compartido con otros clientes).\n",
    "\n",
    "---\n",
    "\n",
    "👉 En resumen:\n",
    "\n",
    "* **VM** → compartes hardware, flexible y barato.\n",
    "* **Bare Metal** → servidor físico solo para ti, máximo rendimiento.\n",
    "* **Dedicated Host** → servidor físico solo tuyo, pero puedes llenarlo de VMs según necesites.\n",
    "\n",
    "---"
   ]
  },
  {
   "cell_type": "markdown",
   "id": "d613dbb8",
   "metadata": {},
   "source": [
    "Claro Luis 👌 te resumo las **características principales de Compute** en Oracle Cloud de forma clara y simple:\n",
    "\n",
    "---\n",
    "\n",
    "## 🔹 Características de Compute\n",
    "\n",
    "| Característica             | Qué significa / Ejemplo                                                                                                               |\n",
    "| -------------------------- | ------------------------------------------------------------------------------------------------------------------------------------- |\n",
    "| **Escalabilidad**          | Puedes aumentar o disminuir recursos (CPU, RAM) según la demanda. Ejemplo: si tu app tiene más usuarios, agregas más VMs rápidamente. |\n",
    "| **Alto rendimiento**       | Las instancias, especialmente **Bare Metal**, ofrecen potencia para apps pesadas, bases de datos grandes o cálculos intensivos.       |\n",
    "| **Precio bajo / Flexible Sahpes** | Pagas solo lo que usas y puedes elegir tipos de instancias según tu presupuesto (VM para barato, Bare Metal para alto rendimiento).   |\n",
    "| **Disponibilidad**         | Puedes desplegar instancias en diferentes **zonas de disponibilidad** para evitar caídas si una falla.                                |\n",
    "| **Seguridad**              | Control sobre firewalls, redes privadas, cifrado y acceso a nivel de instancia.                                                       |\n",
    "| **Variedad de sistemas**   | Puedes elegir entre Linux, Windows y versiones específicas según tu aplicación.                                                       |\n",
    "\n",
    "---\n",
    "\n",
    "👉 En resumen:\n",
    "**Compute te permite correr aplicaciones en la nube con la capacidad que necesitas, pagando solo por lo que usas, con alto rendimiento y posibilidad de escalar.**"
   ]
  },
  {
   "cell_type": "markdown",
   "id": "89bd6814",
   "metadata": {},
   "source": [
    "## Instance"
   ]
  },
  {
   "cell_type": "markdown",
   "id": "5bd599aa",
   "metadata": {},
   "source": [
    "Perfecto, Luis 🙌 te lo explico fácil:\n",
    "\n",
    "---\n",
    "\n",
    "### 🔹 ¿Qué es una **Instance** en Oracle Cloud?\n",
    "\n",
    "* Una **instance** es básicamente una **máquina de cómputo en la nube**.\n",
    "* Puede ser una **VM (virtual machine)** o un **Bare Metal**.\n",
    "* Es el recurso principal donde corres tus aplicaciones, bases de datos, servicios web, etc.\n",
    "\n",
    "---\n",
    "\n",
    "### 🔹 ¿Para qué sirve?\n",
    "\n",
    "* Para **instalar y correr software** (ej. servidor web, app, base de datos).\n",
    "* Para **procesar datos** (ej. cálculos, análisis, machine learning).\n",
    "* Para **alojar servicios** que luego usas desde Internet o tu red privada.\n",
    "* Para **escalar fácilmente**: si necesitas más poder, levantas más instances.\n",
    "\n",
    "---\n",
    "\n",
    "👉 En resumen:\n",
    "Una **instance en Oracle Cloud** es como tener una **computadora o servidor en la nube** que puedes configurar a tu gusto para trabajar, pero sin necesidad de comprar hardware físico.\n",
    "\n",
    "---\n"
   ]
  },
  {
   "cell_type": "markdown",
   "id": "bdf6e3d4",
   "metadata": {},
   "source": [
    "Muy buena pregunta, Luis 👌\n",
    "En **Oracle Cloud Infrastructure (OCI)**, una **instance** puede usar distintos **tipos de procesadores (CPU)**, según la necesidad de rendimiento y costo.\n",
    "\n",
    "---\n",
    "\n",
    "### 🔹 Tipos de procesadores en Instances OCI\n",
    "\n",
    "1. **Intel Xeon (x86)**\n",
    "\n",
    "   * Procesadores de última generación Intel.\n",
    "   * Buen balance entre rendimiento y precio.\n",
    "   * Ideales para la mayoría de aplicaciones: web, bases de datos, desarrollo.\n",
    "\n",
    "2. **AMD EPYC (x86)**\n",
    "\n",
    "   * Procesadores AMD de alto rendimiento.\n",
    "   * Suelen ser **más baratos que Intel**, con más núcleos.\n",
    "   * Muy usados para cargas de trabajo generales y escalables.\n",
    "\n",
    "3. **Arm-based (Ampere Altra)**\n",
    "\n",
    "   * Procesadores basados en arquitectura **ARM**.\n",
    "   * **Eficientes en costo y consumo de energía**.\n",
    "   * Excelentes para aplicaciones nativas en la nube, microservicios, web a gran escala.\n",
    "\n",
    "4. **NVIDIA GPUs (opcional, con instances GPU)**\n",
    "\n",
    "   * No son CPUs, pero se pueden agregar para procesamiento gráfico o cálculos pesados.\n",
    "   * Usados en **IA, Machine Learning, renderizado, Big Data**.\n",
    "\n",
    "---\n",
    "\n",
    "#### 🔹 Resumen rápido\n",
    "\n",
    "| Procesador       | Uso principal                                         |\n",
    "| ---------------- | ----------------------------------------------------- |\n",
    "| **Intel Xeon**   | General, bases de datos, apps empresariales.          |\n",
    "| **AMD EPYC**     | Alto rendimiento a menor costo, escalable.            |\n",
    "| **Arm (Ampere)** | Apps modernas, microservicios, cloud-native.          |\n",
    "| **NVIDIA GPU**   | Inteligencia artificial, gráficos, cómputo intensivo. |\n",
    "\n",
    "---\n",
    "\n",
    "👉 En pocas palabras:\n",
    "En OCI puedes elegir **Intel, AMD, ARM o GPUs NVIDIA**, según si buscas **equilibrio, costo, escalabilidad o potencia extrema**.\n",
    "\n",
    "¿Quieres que te arme una **tabla de escenarios** recomendando qué procesador elegir según el tipo de aplicación?\n"
   ]
  },
  {
   "cell_type": "markdown",
   "id": "a1e81803",
   "metadata": {},
   "source": [
    "### Modo de pago"
   ]
  },
  {
   "cell_type": "markdown",
   "id": "52353eae",
   "metadata": {},
   "source": [
    "Muy buena pregunta, Luis 👌\n",
    "En **Oracle Cloud Infrastructure (OCI)** el pago es **flexible** y depende de cómo quieras consumir los recursos.\n",
    "\n",
    "---\n",
    "\n",
    "### 🔹 Tipos de pagos en OCI\n",
    "\n",
    "1. **Pay As You Go (PAYG)**\n",
    "\n",
    "   * Pagas **solo por lo que usas**, sin contrato.\n",
    "   * El cobro es por hora o por segundo (según el recurso).\n",
    "   * Ideal si recién empiezas o si tu carga es variable.\n",
    "   * Ejemplo: si usas una VM por 5 horas, pagas esas 5 horas.\n",
    "\n",
    "2. **Monthly Flex (Compromiso mensual)**\n",
    "\n",
    "   * Te comprometes a gastar un **mínimo mensual**.\n",
    "   * A cambio, tienes **descuento en los precios**.\n",
    "   * Ideal para empresas con cargas constantes o estables.\n",
    "\n",
    "3. **Always Free (Gratuito siempre)**\n",
    "\n",
    "   * Recursos limitados que no generan costo.\n",
    "   * Incluye 2 VMs pequeñas, bases de datos autónomas, Object Storage, etc.\n",
    "   * Sirve para **aprender, probar o apps muy pequeñas**.\n",
    "\n",
    "4. **Free Trial (Prueba gratis)**\n",
    "\n",
    "   * Te dan un crédito (ej. **US\\$300 por 30 días**).\n",
    "   * Puedes probar casi todos los servicios sin pagar.\n",
    "\n",
    "---\n",
    "\n",
    "#### 🔹 Resumen rápido\n",
    "\n",
    "| Tipo de pago      | Característica                        | Mejor para                           |\n",
    "| ----------------- | ------------------------------------- | ------------------------------------ |\n",
    "| **Pay As You Go** | Sin compromiso, pagas lo que usas     | Proyectos pequeños, cargas variables |\n",
    "| **Monthly Flex**  | Contrato con gasto mínimo y descuento | Empresas con uso estable             |\n",
    "| **Always Free**   | Recursos gratuitos limitados          | Aprender, practicar, apps chicas     |\n",
    "| **Free Trial**    | Crédito temporal gratis               | Probar servicios antes de pagar      |\n",
    "\n",
    "---\n",
    "\n",
    "👉 En pocas palabras:\n",
    "En OCI puedes **empezar gratis**, luego elegir entre **pago por uso** o **pago mensual con descuento**, según tus necesidades.\n"
   ]
  },
  {
   "cell_type": "markdown",
   "id": "8c3d6f2e",
   "metadata": {},
   "source": [
    "![24](img/24.JPG)"
   ]
  },
  {
   "cell_type": "markdown",
   "id": "73668c59",
   "metadata": {},
   "source": [
    "### Almacenamientos de Instance\n",
    "\n",
    "¡Muy buena observación! 🔥\n",
    "Dentro del **Block Storage** en Oracle Cloud, se distinguen **dos tipos principales** cuando hablamos de almacenamiento conectado a una instancia:\n",
    "\n",
    "---\n",
    "\n",
    "#### 🔹 1. **Boot Volume (Disco de Arranque)**\n",
    "\n",
    "* Es el disco donde se instala el **sistema operativo (SO)** de la instancia.\n",
    "* Se crea **automáticamente** cuando lanzas una instancia.\n",
    "* Permite **reiniciar, detener, clonar o mover** la instancia sin perder el sistema ni la configuración.\n",
    "* **Persistente**: aunque borres la instancia, puedes guardar el boot volume para crear otra con la misma configuración.\n",
    "\n",
    "**Usos:**\n",
    "👉 Arranque de la máquina virtual.\n",
    "👉 Recuperación en caso de falla (puedes clonar el boot volume).\n",
    "\n",
    "---\n",
    "\n",
    "#### 🔹 2. **Block Volume (Data Volume o Disco de Datos)**\n",
    "\n",
    "* Es un disco adicional que puedes **adjuntar a tu instancia**.\n",
    "* Se usa para **almacenar datos de aplicaciones, bases de datos, archivos del usuario, etc.**\n",
    "* Puedes tener varios data volumes conectados a la misma instancia.\n",
    "* Al igual que el boot volume, es **persistente** y se puede **redimensionar, respaldar (snapshot) y desconectar/conectar a otras instancias**.\n",
    "\n",
    "**Usos:**\n",
    "👉 Almacenamiento de aplicaciones.\n",
    "👉 Bases de datos.\n",
    "👉 Archivos que no quieres perder al apagar la instancia.\n",
    "\n",
    "---\n",
    "\n",
    "✅ **Diferencia clave**:\n",
    "\n",
    "* **Boot Volume** → contiene el SO y la configuración inicial.\n",
    "* **Data Volume** → contiene tus datos y aplicaciones.\n",
    "\n",
    "---\n",
    "\n",
    "¿Quieres que te haga una **tabla resumen con Boot vs Data volumes** para que quede más claro?\n"
   ]
  },
  {
   "cell_type": "markdown",
   "id": "381e1d34",
   "metadata": {},
   "source": [
    "### SSH"
   ]
  },
  {
   "cell_type": "markdown",
   "id": "5a33877c",
   "metadata": {},
   "source": [
    "Muy bien, Luis 🙌 te lo explico fácil:\n",
    "\n",
    "---\n",
    "\n",
    "#### 🔹 Concepto de **SSH en Oracle Cloud**\n",
    "\n",
    "* **SSH (Secure Shell)** es un protocolo que permite **conectarte de forma segura** a una instancia en la nube (normalmente una máquina Linux).\n",
    "* Sirve para **administrar tu servidor a distancia** desde tu computadora, usando una **llave SSH** (par de claves pública y privada).\n",
    "\n",
    "---\n",
    "\n",
    "#### 🔹 ¿Cómo funciona en Oracle Cloud?\n",
    "\n",
    "1. Cuando creas una **instance**, el sistema te pide una **clave pública SSH**.\n",
    "2. Esa clave se guarda en el **Boot Volume** de la instancia.\n",
    "3. Con tu **clave privada** (en tu PC), haces la conexión remota vía `ssh opc@<ip_de_tu_instance>`.\n",
    "4. Así tienes acceso a la terminal de la máquina para configurarla, instalar software, etc.\n",
    "\n",
    "---\n",
    "\n",
    "#### 🔹 ¿Para qué sirve?\n",
    "\n",
    "* Conectarte a la **consola de tu servidor** en la nube.\n",
    "* Administrar aplicaciones, bases de datos o servicios que corren en tu instancia.\n",
    "* Transferir archivos de manera segura (`scp`, `sftp`).\n",
    "* Evitar contraseñas inseguras, ya que la conexión se valida con **pares de claves criptográficas**.\n",
    "\n",
    "---\n",
    "\n",
    "👉 En resumen:\n",
    "En Oracle Cloud, **SSH es la “puerta segura” para entrar y manejar tus instancias Linux** desde cualquier parte.\n",
    "\n",
    "---\n"
   ]
  },
  {
   "cell_type": "markdown",
   "id": "263afa30",
   "metadata": {},
   "source": [
    "## Scaling"
   ]
  },
  {
   "cell_type": "markdown",
   "id": "00a952a3",
   "metadata": {},
   "source": [
    "### Horizontal Scaling"
   ]
  },
  {
   "cell_type": "markdown",
   "id": "065daadf",
   "metadata": {},
   "source": [
    "Muy buena pregunta, Luis 🙌 vamos con **Horizontal Scaling en Oracle Cloud**:\n",
    "\n",
    "---\n",
    "\n",
    "#### 🔹 ¿Qué es Horizontal Scaling?\n",
    "\n",
    "* Es una forma de **aumentar la capacidad** de tu aplicación o sistema **añadiendo más instancias** (más servidores virtuales).\n",
    "* En lugar de hacer una máquina más grande y poderosa, simplemente agregas **varias más pequeñas** que trabajan en conjunto.\n",
    "\n",
    "---\n",
    "\n",
    "#### 🔹 ¿Cómo funciona en Oracle Cloud?\n",
    "\n",
    "1. Levantas varias **instances** que corren la misma aplicación.\n",
    "2. Un **Load Balancer** reparte el tráfico entre ellas.\n",
    "3. Si aumenta la demanda, puedes usar **Autoscaling** para crear nuevas instancias automáticamente.\n",
    "4. Si la carga baja, se eliminan instancias para ahorrar costos.\n",
    "\n",
    "---\n",
    "\n",
    "#### 🔹 Ventajas\n",
    "\n",
    "* ✅ **Escalabilidad flexible**: agregas o quitas recursos según lo necesites.\n",
    "* ✅ **Alta disponibilidad**: si una instancia falla, las demás siguen funcionando.\n",
    "* ✅ **Optimización de costos**: pagas solo por lo que usas.\n",
    "\n",
    "---\n",
    "\n",
    "#### 🔹 Diferencia con Vertical Scaling\n",
    "\n",
    "* **Vertical Scaling** → hacer más grande una sola máquina (más CPU, más RAM).\n",
    "* **Horizontal Scaling** → tener más máquinas trabajando juntas.\n",
    "\n",
    "---\n",
    "\n",
    "👉 En resumen:\n",
    "En **Oracle Cloud**, el **Horizontal Scaling** es crecer “hacia los lados”, añadiendo más instancias para soportar más tráfico, normalmente combinado con **autoscaling** y **load balancer**.\n",
    "\n",
    "---\n"
   ]
  },
  {
   "cell_type": "markdown",
   "id": "3ff4dde2",
   "metadata": {},
   "source": [
    "### Vertical Scaling"
   ]
  },
  {
   "cell_type": "markdown",
   "id": "9ffb8bdd",
   "metadata": {},
   "source": [
    "¡Excelente que lo preguntes, Luis! 🙌\n",
    "Ya vimos el **Horizontal Scaling**, ahora vamos con el **Vertical Scaling**:\n",
    "\n",
    "---\n",
    "\n",
    "#### 🔹 ¿Qué es Vertical Scaling?\n",
    "\n",
    "* Es una forma de aumentar la capacidad de tu aplicación **mejorando una sola máquina** (la instancia).\n",
    "* En lugar de agregar más instancias, simplemente le das **más CPU, más memoria RAM o más almacenamiento** a la misma.\n",
    "\n",
    "---\n",
    "\n",
    "#### 🔹 ¿Cómo funciona en Oracle Cloud?\n",
    "\n",
    "1. Tienes una **instance** activa.\n",
    "2. Puedes **cambiar su shape** (forma/configuración) a una más potente.\n",
    "\n",
    "   * Ejemplo: pasar de una instancia con 2 CPUs y 8 GB RAM → a 8 CPUs y 64 GB RAM.\n",
    "3. La aplicación sigue corriendo en **una sola máquina, pero más poderosa**.\n",
    "\n",
    "---\n",
    "\n",
    "#### 🔹 Ventajas\n",
    "\n",
    "* ✅ Sencillo de administrar (solo una instancia).\n",
    "* ✅ No requiere balanceador de carga ni coordinación entre varias máquinas.\n",
    "* ✅ Ideal para aplicaciones que **no soportan múltiples instancias**.\n",
    "\n",
    "---\n",
    "\n",
    "#### 🔹 Desventajas\n",
    "\n",
    "* ❌ Límite físico (hay un máximo de recursos por máquina).\n",
    "* ❌ Puede ser más caro que repartir la carga en varias pequeñas.\n",
    "* ❌ Un **punto único de falla**: si esa instancia se cae, todo se cae.\n",
    "\n",
    "---\n",
    "\n",
    "#### 🔹 Diferencia clave\n",
    "\n",
    "* **Horizontal Scaling** → más instancias (varias pequeñas trabajando en paralelo).\n",
    "* **Vertical Scaling** → una instancia más grande (más recursos en una sola).\n",
    "\n",
    "---\n",
    "\n",
    "👉 En resumen:\n",
    "El **Vertical Scaling en Oracle Cloud** significa **hacer más poderosa una sola máquina virtual** para manejar mayor carga, mientras que el horizontal es repartir el trabajo en varias instancias.\n",
    "\n",
    "---\n",
    "\n",
    "¿Quieres que te haga una **tabla comparativa Horizontal vs Vertical Scaling** para que te quede como apunte rápido?\n"
   ]
  },
  {
   "cell_type": "markdown",
   "id": "54afd8a9",
   "metadata": {},
   "source": [
    "## Oracle Container Engine for Kubernetes - OKE"
   ]
  },
  {
   "cell_type": "markdown",
   "id": "9a84ba95",
   "metadata": {},
   "source": [
    "![25](img/25.JPG)"
   ]
  },
  {
   "cell_type": "markdown",
   "id": "a19aa5c8",
   "metadata": {},
   "source": [
    "### Docker - Container - Kubernetes"
   ]
  },
  {
   "cell_type": "markdown",
   "id": "ad1b3f87",
   "metadata": {},
   "source": [
    "¡Muy buena, Luis! 🙌\n",
    "Estas tres tecnologías están **muy relacionadas** pero cumplen funciones distintas. Te lo explico de manera clara:\n",
    "\n",
    "---\n",
    "\n",
    "#### 🔹 1. **Container** (contenedor)\n",
    "\n",
    "* Es una **unidad ligera** que empaqueta una aplicación junto con todo lo que necesita para funcionar (librerías, dependencias, configuraciones).\n",
    "* Se ejecuta de forma **aislada**, pero comparte el mismo sistema operativo del host.\n",
    "* Ventaja: puedes mover la aplicación de un servidor a otro sin preocuparte por compatibilidad.\n",
    "\n",
    "👉 Ejemplo: un contenedor con **tu app web + Python + librerías necesarias**.\n",
    "\n",
    "---\n",
    "\n",
    "#### 🔹 2. **Docker**\n",
    "\n",
    "* Es la **plataforma más popular** para crear, ejecutar y gestionar contenedores.\n",
    "* Proporciona las herramientas para:\n",
    "\n",
    "  * Construir imágenes de contenedor.\n",
    "  * Ejecutarlas en cualquier servidor.\n",
    "  * Distribuirlas mediante **Docker Hub** (repositorio).\n",
    "\n",
    "👉 En otras palabras: **Docker es la herramienta, el contenedor es el resultado**.\n",
    "\n",
    "---\n",
    "\n",
    "#### 🔹 3. **Kubernetes (K8s)**\n",
    "\n",
    "* Es un **orquestador de contenedores**.\n",
    "* Su función es administrar **muchos contenedores en conjunto**:\n",
    "\n",
    "  * Escalarlos (más o menos réplicas).\n",
    "  * Balancear carga entre ellos.\n",
    "  * Recuperarlos si fallan.\n",
    "  * Distribuirlos entre diferentes servidores.\n",
    "\n",
    "👉 En otras palabras: **Kubernetes organiza y controla miles de contenedores, no solo uno**.\n",
    "\n",
    "---\n",
    "\n",
    "#### 🔗 Relación entre ellos\n",
    "\n",
    "* **Contenedor** → es la “cajita” donde corre tu aplicación.\n",
    "* **Docker** → es la herramienta que crea y corre esas cajitas.\n",
    "* **Kubernetes** → es el jefe que coordina muchísimas cajitas cuando tu aplicación necesita escalar en la nube.\n",
    "\n",
    "---\n",
    "\n",
    "✅ Ejemplo en Oracle Cloud (OKE = Oracle Kubernetes Engine):\n",
    "\n",
    "1. Creas contenedores con **Docker**.\n",
    "2. Los subes a un **Container Registry**.\n",
    "3. Los despliegas y gestionas con **Kubernetes** en la nube.\n",
    "\n",
    "---\n"
   ]
  },
  {
   "cell_type": "markdown",
   "id": "ef104e86",
   "metadata": {},
   "source": [
    "### Kubernetes"
   ]
  },
  {
   "cell_type": "markdown",
   "id": "9b369c41",
   "metadata": {},
   "source": [
    "¡Claro, Luis! 🙌 Vamos a desglosar esos conceptos relacionados con **Kubernetes** de forma clara y sencilla:\n",
    "\n",
    "---\n",
    "\n",
    "#### 1️⃣ **Base (Fundamentos de Kubernetes)**\n",
    "\n",
    "* Es la **estructura principal** de Kubernetes.\n",
    "* Incluye:\n",
    "\n",
    "  * **Pods** → unidad mínima que contiene uno o varios contenedores.\n",
    "  * **Nodes** → máquinas (físicas o virtuales) que ejecutan los pods.\n",
    "  * **Cluster** → conjunto de nodos gestionados por Kubernetes.\n",
    "  * **Namespaces** → forma de organizar recursos dentro del cluster.\n",
    "* **Para qué sirve:** entender la base te permite saber cómo se despliegan y organizan las aplicaciones en la nube.\n",
    "\n",
    "---\n",
    "\n",
    "#### 2️⃣ **Motor (Kubernetes Engine o K8s Engine)**\n",
    "\n",
    "* Es el **motor que hace que Kubernetes funcione**:\n",
    "\n",
    "  * Controla el **estado de los pods**.\n",
    "  * Administra **escalado automático**, **balanceo de carga** y **recuperación de fallos**.\n",
    "* En OCI, el motor se llama **OKE (Oracle Kubernetes Engine)**.\n",
    "* **Para qué sirve:** mantener tu aplicación corriendo correctamente y distribuir la carga automáticamente.\n",
    "\n",
    "---\n",
    "\n",
    "#### 3️⃣ **Devs (Desarrolladores)**\n",
    "\n",
    "* Son los **desarrolladores que crean aplicaciones** que se ejecutarán en Kubernetes.\n",
    "* Se enfocan en:\n",
    "\n",
    "  * Escribir **código dentro de contenedores**.\n",
    "  * Crear **imágenes Docker** para sus apps.\n",
    "  * Definir **manifiestos YAML** que indican cómo debe desplegarse la app (pods, deployments, services).\n",
    "* **Para qué sirve:** los devs se aseguran de que la aplicación funcione y se pueda desplegar en Kubernetes sin problemas.\n",
    "\n",
    "---\n",
    "\n",
    "#### 4️⃣ **DevOps**\n",
    "\n",
    "* Es el **equipo o práctica que une desarrollo y operaciones**.\n",
    "* Se encargan de:\n",
    "\n",
    "  * Configurar el **cluster y el motor K8s**.\n",
    "  * Automatizar **despliegues y escalado** (CI/CD).\n",
    "  * Gestionar **monitoring, logging y seguridad** de la aplicación.\n",
    "* **Para qué sirve:** asegurar que la aplicación de los devs corra de manera estable, escalable y segura en Kubernetes.\n",
    "\n",
    "---\n",
    "\n",
    "#### 🔗 Resumen rápido:\n",
    "\n",
    "| Concepto   | Rol en Kubernetes                                               |\n",
    "| ---------- | --------------------------------------------------------------- |\n",
    "| **Base**   | Estructura y componentes fundamentales (pods, nodes, cluster).  |\n",
    "| **Motor**  | Controla y mantiene el cluster (OKE, escalado, recuperación).   |\n",
    "| **Devs**   | Desarrollan aplicaciones y las empaquetan en contenedores.      |\n",
    "| **DevOps** | Gestionan el cluster y despliegues, automatización y seguridad. |\n",
    "\n",
    "---"
   ]
  },
  {
   "cell_type": "markdown",
   "id": "cc4d85a6",
   "metadata": {},
   "source": [
    "![26](img/26.JPG)"
   ]
  },
  {
   "cell_type": "markdown",
   "id": "b24f9d6b",
   "metadata": {},
   "source": [
    "Perfecto, Luis 👌 Te explico los **tipos de cluster en Kubernetes** de manera clara y simple:\n",
    "\n",
    "---\n",
    "\n",
    "### 🔹 Tipos de Cluster en Kubernetes\n",
    "\n",
    "1. **Single-Node Cluster (Cluster de un solo nodo)**\n",
    "\n",
    "* Todo corre en **una sola máquina**.\n",
    "* Incluye **el master y el worker** en la misma instancia.\n",
    "* **Uso:** pruebas, desarrollo o aprendizaje.\n",
    "* **Ventaja:** fácil de configurar y barato.\n",
    "* **Desventaja:** no es tolerante a fallos ni escalable.\n",
    "\n",
    "---\n",
    "\n",
    "2. **Multi-Node Cluster (Cluster de múltiples nodos)**\n",
    "\n",
    "* El cluster tiene **varios nodos**:\n",
    "\n",
    "  * **Master Node:** controla el estado del cluster, gestiona pods, deployments y scheduling.\n",
    "  * **Worker Nodes:** ejecutan los pods (las aplicaciones).\n",
    "* **Uso:** producción, aplicaciones reales que requieren **alta disponibilidad**.\n",
    "* **Ventaja:** escalable y tolerante a fallos.\n",
    "* **Desventaja:** más complejo de administrar.\n",
    "\n",
    "---\n",
    "\n",
    "3. **Federated Cluster (Cluster federado)**\n",
    "\n",
    "* Es un **conjunto de varios clusters** que funcionan juntos como uno solo.\n",
    "* **Uso:** grandes empresas con aplicaciones distribuidas en varias regiones o nubes.\n",
    "* **Ventaja:** alta disponibilidad global y replicación entre clusters.\n",
    "* **Desventaja:** muy complejo de configurar y mantener.\n",
    "\n",
    "---\n",
    "\n",
    "#### 🔹 Resumen rápido\n",
    "\n",
    "| Tipo de Cluster     | Nodos                      | Uso principal                | Ventaja                        |\n",
    "| ------------------- | -------------------------- | ---------------------------- | ------------------------------ |\n",
    "| Single-Node Cluster | 1 (Master + Worker juntos) | Desarrollo y pruebas         | Fácil y barato                 |\n",
    "| Multi-Node Cluster  | Varios (Master + Workers)  | Producción, apps reales      | Escalable y tolerante a fallos |\n",
    "| Federated Cluster   | Varios clusters            | Apps globales y multi-región | Alta disponibilidad global     |\n",
    "\n",
    "---\n",
    "\n",
    "👉 En pocas palabras:\n",
    "\n",
    "* **Single-Node:** aprendizaje y pruebas.\n",
    "* **Multi-Node:** producción normal.\n",
    "* **Federated:** producción a gran escala y multi-región.\n",
    "\n",
    "Si quieres, puedo hacer un **diagrama visual mostrando los tres tipos de cluster** para que lo veas más claro.\n",
    "¿Quieres que lo haga?\n"
   ]
  },
  {
   "cell_type": "markdown",
   "id": "1cf0230b",
   "metadata": {},
   "source": [
    "### Nodos"
   ]
  },
  {
   "cell_type": "markdown",
   "id": "9b4d0cc2",
   "metadata": {},
   "source": [
    "¡Claro, Luis! 🙌 Vamos a ver qué son los **Managed Nodes** y los **Virtual Nodes** en Kubernetes, especialmente en el contexto de **Oracle Cloud (OKE)**.\n",
    "\n",
    "---\n",
    "\n",
    "#### 🔹 1. **Managed Nodes**\n",
    "\n",
    "* Son **nodos físicos o virtuales completos** dentro del cluster que **OKE administra automáticamente**.\n",
    "* El **servicio se encarga** de instalar actualizaciones, parches, monitorización y reinicios cuando es necesario.\n",
    "* **Ventaja:** menos trabajo de administración para DevOps.\n",
    "* **Uso típico:** producción normal donde quieres **alta disponibilidad y seguridad sin preocuparte por la infraestructura del nodo**.\n",
    "\n",
    "**Ejemplo:**\n",
    "\n",
    "* Creas un cluster en OKE con 3 nodos gestionados.\n",
    "* Cada nodo ejecuta pods y el sistema mantiene todo actualizado automáticamente.\n",
    "\n",
    "---\n",
    "\n",
    "#### 🔹 2. **Virtual Nodes**\n",
    "\n",
    "* Son **nodos “ligeros” basados en contenedores** que **no requieren máquinas físicas completas**.\n",
    "* Se crean de forma **dinámica** cuando Kubernetes necesita **más capacidad**.\n",
    "* Perfectos para **escalar rápidamente** sin provisionar nodos completos.\n",
    "* **Ventaja:** ahorro de costos, escalabilidad rápida, ideal para cargas de trabajo temporales.\n",
    "* **Uso típico:** trabajos batch, microservicios de corta duración, pruebas.\n",
    "\n",
    "**Ejemplo:**\n",
    "\n",
    "* Tu cluster tiene 3 managed nodes, pero llega un pico de tráfico.\n",
    "* Se crean 2 virtual nodes automáticamente para manejar la carga y luego se eliminan.\n",
    "\n",
    "---\n",
    "\n",
    "#### 🔹 Resumen rápido\n",
    "\n",
    "| Tipo de Nodo | Qué es                                   | Ventaja                      | Uso típico                          |\n",
    "| ------------ | ---------------------------------------- | ---------------------------- | ----------------------------------- |\n",
    "| Managed Node | Nodo físico o virtual gestionado por OKE | Menos administración, seguro | Producción estable                  |\n",
    "| Virtual Node | Nodo dinámico basado en contenedores     | Escalabilidad rápida, ahorro | Picos de tráfico, cargas temporales |\n",
    "\n",
    "---\n",
    "\n",
    "👉 En pocas palabras:\n",
    "\n",
    "* **Managed Nodes = nodos “reales” que OKE mantiene por ti**.\n",
    "* **Virtual Nodes = nodos temporales y ligeros para escalar rápido**."
   ]
  },
  {
   "cell_type": "markdown",
   "id": "cf6edf50",
   "metadata": {},
   "source": [
    "## OCI Container Instance"
   ]
  },
  {
   "cell_type": "markdown",
   "id": "567389b8",
   "metadata": {},
   "source": [
    "![27](img/27.JPG)"
   ]
  },
  {
   "cell_type": "markdown",
   "id": "0d617f14",
   "metadata": {},
   "source": [
    "¡Perfecto, Luis! 🙌 Te explico sobre **OCI Container Instance** de manera clara y simple:\n",
    "\n",
    "---\n",
    "\n",
    "### 🔹 ¿Qué es OCI Container Instance?\n",
    "\n",
    "* Es un servicio de **Oracle Cloud Infrastructure (OCI)** que permite **ejecutar contenedores directamente** sin necesidad de un cluster de Kubernetes.\n",
    "* Básicamente, **despliegas un contenedor como si fuera una pequeña máquina virtual**, pero sin administrar nodos ni infraestructura compleja.\n",
    "* Es **ideal para cargas de trabajo simples o aplicaciones puntuales**.\n",
    "\n",
    "---\n",
    "\n",
    "### 🔹 Características principales\n",
    "\n",
    "1. **Sin cluster**: No necesitas OKE ni nodos gestionados.\n",
    "2. **Rápido de lanzar**: Subes tu imagen Docker y se ejecuta inmediatamente.\n",
    "3. **Escalado manual**: Puedes crear varias instancias de contenedor, pero no hay autoscaling automático como en Kubernetes (a menos que uses otras herramientas).\n",
    "4. **Flexible**: Compatible con imágenes de Docker públicas o privadas.\n",
    "5. **Pagas por uso**: Pagas solo mientras el contenedor está corriendo.\n",
    "\n",
    "---\n",
    "\n",
    "### 🔹 Para qué sirve\n",
    "\n",
    "* Aplicaciones **pequeñas o temporales**.\n",
    "* Microservicios **simples** que no requieren un cluster completo.\n",
    "* Pruebas rápidas de contenedores en la nube.\n",
    "* Procesos batch o scripts que se ejecutan en contenedores.\n",
    "\n",
    "---\n",
    "\n",
    "### 🔹 Diferencia con Kubernetes\n",
    "\n",
    "| Característica   | OCI Container Instance                   | Kubernetes (OKE)                         |\n",
    "| ---------------- | ---------------------------------------- | ---------------------------------------- |\n",
    "| Gestión de nodos | No necesita nodos                        | Requiere nodos y cluster                 |\n",
    "| Escalado         | Manual, limitado                         | Autoscaling, muy flexible                |\n",
    "| Complejidad      | Baja                                     | Alta                                     |\n",
    "| Ideal para       | Contenedores individuales, apps pequeñas | Apps complejas, producción a gran escala |\n",
    "\n",
    "---\n",
    "\n",
    "👉 En resumen:\n",
    "**OCI Container Instance = ejecutar contenedores fácilmente sin Kubernetes**, perfecto para tareas simples o prototipos."
   ]
  },
  {
   "cell_type": "markdown",
   "id": "96416df3",
   "metadata": {},
   "source": [
    "## Functions"
   ]
  },
  {
   "cell_type": "markdown",
   "id": "5e9f479e",
   "metadata": {},
   "source": [
    "![28](img/28.JPG)"
   ]
  },
  {
   "cell_type": "markdown",
   "id": "649386f6",
   "metadata": {},
   "source": [
    "¡Excelente pregunta, Luis! 🙌 Te explico cómo funcionan las **Functions** en Oracle Cloud después de crear un contenedor:\n",
    "\n",
    "---\n",
    "\n",
    "### 🔹 ¿Qué son las **Functions** en OCI?\n",
    "\n",
    "* Son **funciones serverless**: pequeños fragmentos de código que se ejecutan **sin necesidad de gestionar servidores o contenedores** directamente.\n",
    "* Están pensadas para **ejecuciones rápidas**, tareas event-driven o microservicios.\n",
    "* Funcionan muy bien **junto a contenedores**, porque pueden interactuar con ellos o ser parte de un flujo más grande.\n",
    "\n",
    "---\n",
    "\n",
    "### 🔹 Cómo se usan después de crear un contenedor\n",
    "\n",
    "1. **Creas tu contenedor** con la aplicación o servicio que necesitas.\n",
    "2. **Definir triggers/eventos**: las functions se activan por eventos, por ejemplo:\n",
    "\n",
    "   * Una solicitud HTTP.\n",
    "   * Un archivo nuevo en Object Storage.\n",
    "   * Mensajes en un queue (Oracle Streaming).\n",
    "3. **Integración con contenedores**:\n",
    "\n",
    "   * La función puede **llamar a tu contenedor** para procesar algo.\n",
    "   * O, si tu contenedor expone una API, la function actúa como un “puente” o manejador de eventos.\n",
    "4. **Escala automáticamente**: no importa cuántas veces se llame, OCI Functions escala según la demanda.\n",
    "\n",
    "---\n",
    "\n",
    "### 🔹 Ventajas de usar Functions junto a contenedores\n",
    "\n",
    "* ✅ **No necesitas administrar servidores** para tareas pequeñas.\n",
    "* ✅ **Escala automáticamente** con la demanda.\n",
    "* ✅ **Reduce costos**: pagas solo por el tiempo que se ejecuta la función.\n",
    "* ✅ **Integración fácil** con otros servicios OCI (Object Storage, Streaming, API Gateway).\n",
    "\n",
    "---\n",
    "\n",
    "### 🔹 Resumen rápido\n",
    "\n",
    "| Concepto    | Contenedor                     | Function                                            |\n",
    "| ----------- | ------------------------------ | --------------------------------------------------- |\n",
    "| Gestión     | Necesita ejecutar y mantener   | Serverless, OCI lo gestiona                         |\n",
    "| Escalado    | Manual o via Kubernetes        | Automático según demanda                            |\n",
    "| Ideal para  | Apps completas, microservicios | Tareas rápidas, event-driven                        |\n",
    "| Interacción | Puede exponer APIs             | Puede llamar contenedores o ser llamado por eventos |\n",
    "\n",
    "---\n",
    "\n",
    "👉 En pocas palabras:\n",
    "Después de crear un contenedor, **Functions permite ejecutar código sin infraestructura**, activarse por eventos y complementar tu contenedor para tareas rápidas o integraciones automáticas."
   ]
  },
  {
   "cell_type": "markdown",
   "id": "d0d40610",
   "metadata": {},
   "source": [
    "Ejecuta codigo sin necesidad de servidores extra"
   ]
  },
  {
   "cell_type": "markdown",
   "id": "bc47a21a",
   "metadata": {},
   "source": [
    "¡Perfecto, Luis! 🙌 Vamos a desglosar cada concepto relacionado con **Functions** en Oracle Cloud de forma clara y sencilla:\n",
    "\n",
    "---\n",
    "\n",
    "### 🔹 Palabras clave de Functions\n",
    "\n",
    "1. **Function-as-a-Service (FaaS)**\n",
    "\n",
    "* Modelo de **computación serverless** donde solo escribes funciones (código) y el proveedor gestiona la infraestructura.\n",
    "* No necesitas preocuparte por servidores, sistemas operativos o instalación de software.\n",
    "\n",
    "2. **Event Driven Architecture (EDA)**\n",
    "\n",
    "* Arquitectura donde las **funciones se ejecutan en respuesta a eventos**.\n",
    "* Ejemplos de eventos:\n",
    "\n",
    "  * Subida de un archivo a Object Storage.\n",
    "  * Mensaje en un stream.\n",
    "  * Solicitud HTTP a una API.\n",
    "* Permite **automatizar tareas** de forma reactiva y eficiente.\n",
    "\n",
    "3. **Se ejecuta en contenedores (Container Native)**\n",
    "\n",
    "* Cada función corre **dentro de un contenedor** gestionado por OCI.\n",
    "* Esto asegura **aislamiento, consistencia y portabilidad** del código.\n",
    "\n",
    "4. **Fn Project (Open Source)**\n",
    "\n",
    "* Oracle Functions se basa en **Fn Project**, un framework **open source** de FaaS.\n",
    "* Permite crear, probar y desplegar funciones de forma **portátil** entre diferentes nubes o localmente.\n",
    "\n",
    "5. **Pay per use (Pago por uso)**\n",
    "\n",
    "* Solo pagas **por el tiempo que tu función se ejecuta**, no por servidores corriendo continuamente.\n",
    "* Muy eficiente para tareas event-driven o intermitentes.\n",
    "\n",
    "6. **Autónoma / Auto scale sin manejo de servidores**\n",
    "\n",
    "* OCI Functions **gestiona la infraestructura automáticamente**:\n",
    "\n",
    "  * Escala el número de contenedores según demanda.\n",
    "  * Reinicia funciones fallidas.\n",
    "  * No necesitas tocar servidores, OS o redes.\n",
    "\n",
    "---\n",
    "\n",
    "### 🔹 Resumen rápido\n",
    "\n",
    "| Concepto                      | Qué significa / Para qué sirve                |\n",
    "| ----------------------------- | --------------------------------------------- |\n",
    "| **Function-as-a-Service**     | Modelo serverless, solo código                |\n",
    "| **Event Driven Architecture** | Funciones que se activan por eventos          |\n",
    "| **Container Native**          | Función corre dentro de contenedores          |\n",
    "| **Fn Project Open Source**    | Framework open source de FaaS                 |\n",
    "| **Pay per use**               | Pagas solo por tiempo de ejecución            |\n",
    "| **Autónoma / Auto scale**     | Escala automáticamente sin manejar servidores |\n",
    "\n",
    "---\n",
    "\n",
    "👉 En pocas palabras:\n",
    "**Functions = código que corre en contenedores, se activa por eventos, escala solo y pagas solo por lo que usas, todo gestionado automáticamente por OCI.**"
   ]
  },
  {
   "cell_type": "markdown",
   "id": "ac08e186",
   "metadata": {},
   "source": [
    "## **Preguntas**"
   ]
  },
  {
   "cell_type": "markdown",
   "id": "14bd96c5",
   "metadata": {},
   "source": [
    "### **1° ¿Cuál es el propósito principal de Oracle Cloud Infrastructure Functions?**"
   ]
  },
  {
   "cell_type": "markdown",
   "id": "ab7ef0a3",
   "metadata": {},
   "source": [
    "Ejecutar código en respuesta a eventos o solicitudes HTTP\n",
    "\n",
    "\n",
    "El propósito principal de OCI Functions es ejecutar código en respuesta a eventos o solicitudes HTTP, proporcionando una plataforma de computación sin servidor que permite a los desarrolladores construir, implementar y ejecutar aplicaciones sin necesidad de gestionar la infraestructura subyacente."
   ]
  },
  {
   "cell_type": "markdown",
   "id": "43b0df5b",
   "metadata": {},
   "source": [
    "### **2° ¿Qué dos parámetros se pueden personalizar al crear una instancia de cómputo flexible?**"
   ]
  },
  {
   "cell_type": "markdown",
   "id": "095cbed6",
   "metadata": {},
   "source": [
    "``Cantidad de memoria``\n",
    "\n",
    "- Al crear una instancia de cómputo flexible en OCI, los usuarios pueden personalizar el número de Oracle Cloud Processor Units (OCPUs) y la cantidad de memoria asignada a la instancia. El número de NICs virtuales y físicas no son parámetros personalizables para instancias flexibles.\n",
    "\n",
    "``Número de OCPUs``\n",
    "\n",
    "- Al crear una instancia de cómputo flexible en OCI, los usuarios pueden personalizar el número de Oracle Cloud Processor Units (OCPUs) y la cantidad de memoria asignada a la instancia."
   ]
  },
  {
   "cell_type": "markdown",
   "id": "6f5bdcbb",
   "metadata": {},
   "source": [
    "### **3° ¿Qué afirmación sobre el funcionamiento del escalado automático en un pool de instancias es verdadera?**"
   ]
  },
  {
   "cell_type": "markdown",
   "id": "3d62e06d",
   "metadata": {},
   "source": [
    "Provisiona y elimina automáticamente instancias en un pool de instancias\n",
    "\n",
    "\n",
    "El escalado automático en un pool de instancias en el servicio OCI Compute provisiona y elimina automáticamente instancias según condiciones o programaciones específicas. No cambia la forma de la instancia de cómputo y puede basarse en políticas impulsadas por métricas y programación."
   ]
  },
  {
   "cell_type": "markdown",
   "id": "9c554565",
   "metadata": {},
   "source": [
    "### **4° ¿Qué tipo de almacenamiento está asociado a las instancias en el servicio OCI Compute?**"
   ]
  },
  {
   "cell_type": "markdown",
   "id": "a09244ae",
   "metadata": {},
   "source": [
    "Almacenamiento en Bloque - Block\n",
    "\n",
    "\n",
    "El almacenamiento en bloque es el tipo de almacenamiento asociado a las instancias en el servicio OCI Compute. Proporciona volúmenes de almacenamiento de alto rendimiento y baja latencia que pueden adjuntarse a las instancias para almacenar datos y aplicaciones."
   ]
  },
  {
   "cell_type": "markdown",
   "id": "cee27acb",
   "metadata": {},
   "source": [
    "### **5° ¿Qué tipo de procesador NO está disponible para el servicio OCI Compute?**"
   ]
  },
  {
   "cell_type": "markdown",
   "id": "b0333587",
   "metadata": {},
   "source": [
    "Snapdragon\n",
    "\n",
    "\n",
    "El servicio OCI Compute ofrece instancias con varios tipos de procesadores, incluidos AMD, Intel y Ampere. Sin embargo, el Snapdragon, que es un tipo de procesador comúnmente utilizado en dispositivos móviles, no está disponible en OCI Compute."
   ]
  }
 ],
 "metadata": {
  "language_info": {
   "name": "python"
  }
 },
 "nbformat": 4,
 "nbformat_minor": 5
}
